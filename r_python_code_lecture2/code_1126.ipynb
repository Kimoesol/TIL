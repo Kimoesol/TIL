{
 "cells": [
  {
   "cell_type": "markdown",
   "metadata": {},
   "source": [
    "<h2>클래스</h2>"
   ]
  },
  {
   "cell_type": "code",
   "execution_count": 20,
   "metadata": {},
   "outputs": [],
   "source": [
    "class Calculator:\n",
    "    \n",
    "    def __init__(self):    # init: 생성자\n",
    "        self.result = 0\n",
    "        pass\n",
    "    \n",
    "    def add(self,num):     # 메소드   # self: 바깥에서 쓰는 것이 아니라 자기 자신이 쓰는 것 (따라서, 바깥에선 안 보인다)\n",
    "        self.result += num    \n",
    "        return self.result\n",
    "    \n",
    "    def sub(self,num):\n",
    "        self.result -= num\n",
    "        return self.result\n",
    "    \n",
    "    pass\n"
   ]
  },
  {
   "cell_type": "code",
   "execution_count": 23,
   "metadata": {},
   "outputs": [
    {
     "name": "stdout",
     "output_type": "stream",
     "text": [
      "3\n",
      "-7\n"
     ]
    }
   ],
   "source": [
    "cal1 = Calculator()\n",
    "result = cal1.add(3)\n",
    "print(result)\n",
    "result = cal1.sub(10)\n",
    "print(result)"
   ]
  },
  {
   "cell_type": "code",
   "execution_count": 5,
   "metadata": {},
   "outputs": [
    {
     "name": "stdout",
     "output_type": "stream",
     "text": [
      "13\n"
     ]
    }
   ],
   "source": [
    "result2 = cal1.add(10)\n",
    "print(result2)"
   ]
  },
  {
   "cell_type": "code",
   "execution_count": 6,
   "metadata": {},
   "outputs": [
    {
     "name": "stdout",
     "output_type": "stream",
     "text": [
      "10\n"
     ]
    }
   ],
   "source": [
    "cal2 = Calculator()     # cal1과 cal2는 전혀 다른 존재\n",
    "result3 = cal2.add(10)\n",
    "print(result3)"
   ]
  },
  {
   "cell_type": "code",
   "execution_count": 46,
   "metadata": {},
   "outputs": [],
   "source": [
    "class Fourcal:\n",
    "    def __init__(self,a,b):\n",
    "        self.num1 = a\n",
    "        self.num2 = b\n",
    "        pass\n",
    "    \n",
    "    def setdata(self,a,b): # 외부에서 a,b 값을 받는다\n",
    "        self.num1 = a\n",
    "        self.num2 = b\n",
    "        pass\n",
    "    \n",
    "    # add, mul, sub, div\n",
    "    def add(self):\n",
    "        \n",
    "        return self.num1 + self.num2\n",
    "    \n",
    "    def mul(self):\n",
    "        \n",
    "        return self.num1 * self.num2\n",
    "    \n",
    "    def sub(self):\n",
    "        \n",
    "        return self.num1 - self.num2\n",
    "    \n",
    "    def div(self):\n",
    "        \n",
    "        return self.num1 / self.num2\n",
    "         \n",
    "    pass\n"
   ]
  },
  {
   "cell_type": "code",
   "execution_count": 47,
   "metadata": {},
   "outputs": [],
   "source": [
    "cal1 = Fourcal(10,20)\n",
    "# cal1.setdata(10,20)"
   ]
  },
  {
   "cell_type": "code",
   "execution_count": 48,
   "metadata": {},
   "outputs": [
    {
     "name": "stdout",
     "output_type": "stream",
     "text": [
      "10\n",
      "20\n",
      "30\n",
      "200\n",
      "-10\n",
      "0.5\n"
     ]
    }
   ],
   "source": [
    "print(cal1.num1)\n",
    "print(cal1.num2)\n",
    "print(cal1.add())\n",
    "print(cal1.mul())\n",
    "print(cal1.sub())\n",
    "print(cal1.div())"
   ]
  },
  {
   "cell_type": "code",
   "execution_count": 49,
   "metadata": {},
   "outputs": [],
   "source": [
    "import random as rnd"
   ]
  },
  {
   "cell_type": "code",
   "execution_count": 50,
   "metadata": {},
   "outputs": [
    {
     "name": "stdout",
     "output_type": "stream",
     "text": [
      "[14, 31, 28]\n",
      "[69, 46, 66]\n",
      "[9, 84, 31]\n"
     ]
    }
   ],
   "source": [
    "a = [rnd.randrange(1,101) for i in range(3)]\n",
    "b = [rnd.randrange(1,101) for i in range(3)]\n",
    "c = [rnd.randrange(1,101) for i in range(3)]\n",
    "print(a)\n",
    "print(b)\n",
    "print(c)\n",
    "#kor, eng, math"
   ]
  },
  {
   "cell_type": "code",
   "execution_count": 95,
   "metadata": {},
   "outputs": [],
   "source": [
    "# 위 3개의 정보를 저장하는 클래스 생성\n",
    "class Student:\n",
    "    def __init__(self,k,e,m):\n",
    "        self.kor = k           # .kor, .eng, .math: kor, eng, math가 인스턴스 소속이라는 것을 의미\n",
    "        self.eng = e\n",
    "        self.math = m\n",
    "        pass\n",
    "    \n",
    "    def get_total(self):\n",
    "        return self.kor+self.eng+self.math\n",
    "    \n",
    "    def get_avg(self):\n",
    "        tot = self.get_total()\n",
    "        return \"avg is {:.2f}\".format(tot/3)\n",
    "    \n",
    "    def __str__(self):\n",
    "        return 'kim'\n",
    "    \n",
    "    pass\n"
   ]
  },
  {
   "cell_type": "code",
   "execution_count": 99,
   "metadata": {},
   "outputs": [],
   "source": [
    "# 14,31,28\n",
    "kim = Student(14,31,28)"
   ]
  },
  {
   "cell_type": "code",
   "execution_count": 100,
   "metadata": {},
   "outputs": [
    {
     "name": "stdout",
     "output_type": "stream",
     "text": [
      "73\n",
      "73\n",
      "avg is 24.33\n"
     ]
    }
   ],
   "source": [
    "print(kim.kor+kim.eng+kim.math)\n",
    "print(kim.get_total())\n",
    "print(kim.get_avg())"
   ]
  },
  {
   "cell_type": "code",
   "execution_count": 101,
   "metadata": {},
   "outputs": [
    {
     "name": "stdout",
     "output_type": "stream",
     "text": [
      "kim\n"
     ]
    }
   ],
   "source": [
    "print(kim)"
   ]
  },
  {
   "cell_type": "markdown",
   "metadata": {},
   "source": [
    "<h2>여러 개의 오류 처리하기</h2>"
   ]
  },
  {
   "cell_type": "code",
   "execution_count": 106,
   "metadata": {},
   "outputs": [
    {
     "name": "stdout",
     "output_type": "stream",
     "text": [
      "인덱싱 할 수 없습니다.\n"
     ]
    }
   ],
   "source": [
    "try:\n",
    "    a = [1,2]\n",
    "    print(a[3])\n",
    "    4 / 0\n",
    "except ZeroDivisionError:\n",
    "    print(\"0으로 나눌 수 없습니다.\")\n",
    "except IndexError:\n",
    "    print(\"인덱싱 할 수 없습니다.\")"
   ]
  },
  {
   "cell_type": "code",
   "execution_count": 103,
   "metadata": {},
   "outputs": [
    {
     "name": "stdout",
     "output_type": "stream",
     "text": [
      "list index out of range\n"
     ]
    }
   ],
   "source": [
    "try:\n",
    "    a = [1,2]\n",
    "    print(a[3])\n",
    "    4 / 0\n",
    "except ZeroDivisionError as e:\n",
    "    print(e)\n",
    "except IndexError as e:\n",
    "    print(e)"
   ]
  },
  {
   "cell_type": "code",
   "execution_count": 104,
   "metadata": {},
   "outputs": [
    {
     "name": "stdout",
     "output_type": "stream",
     "text": [
      "list index out of range\n"
     ]
    }
   ],
   "source": [
    "try:\n",
    "    a = [1,2]\n",
    "    print(a[3])\n",
    "    4 / 0\n",
    "except (ZeroDivisionError, IndexError) as e:\n",
    "    print(e)"
   ]
  },
  {
   "cell_type": "markdown",
   "metadata": {},
   "source": [
    "<h2>오류 회피하기</h2>"
   ]
  },
  {
   "cell_type": "code",
   "execution_count": 108,
   "metadata": {},
   "outputs": [],
   "source": [
    "try:\n",
    "    f = open(\"나없는파일\", 'r')\n",
    "except FileNotFoundError:\n",
    "    pass"
   ]
  },
  {
   "cell_type": "markdown",
   "metadata": {},
   "source": [
    "<h2>예외 만들기</h2>"
   ]
  },
  {
   "cell_type": "code",
   "execution_count": 111,
   "metadata": {},
   "outputs": [],
   "source": [
    "class MyError(Exception):\n",
    "    pass"
   ]
  },
  {
   "cell_type": "code",
   "execution_count": 112,
   "metadata": {},
   "outputs": [],
   "source": [
    "def say_nick(nick):\n",
    "    if nick == '바보':\n",
    "        raise MyError()\n",
    "    print(nick) "
   ]
  },
  {
   "cell_type": "code",
   "execution_count": 114,
   "metadata": {},
   "outputs": [
    {
     "name": "stdout",
     "output_type": "stream",
     "text": [
      "천사\n",
      "허용되지 않는 별명입니다.\n"
     ]
    }
   ],
   "source": [
    "try:\n",
    "    say_nick(\"천사\")\n",
    "    say_nick(\"바보\")\n",
    "except MyError:\n",
    "    print(\"허용되지 않는 별명입니다.\")"
   ]
  },
  {
   "cell_type": "code",
   "execution_count": 116,
   "metadata": {},
   "outputs": [],
   "source": [
    "class MyError(Exception):\n",
    "    def __str__(self):\n",
    "        return \"허용되지 않는 별명입니다.\""
   ]
  },
  {
   "cell_type": "code",
   "execution_count": 117,
   "metadata": {},
   "outputs": [
    {
     "name": "stdout",
     "output_type": "stream",
     "text": [
      "천사\n",
      "허용되지 않는 별명입니다.\n"
     ]
    }
   ],
   "source": [
    "try:\n",
    "    say_nick(\"천사\")\n",
    "    say_nick(\"바보\")\n",
    "except MyError as e:\n",
    "    print(e)"
   ]
  },
  {
   "cell_type": "code",
   "execution_count": 156,
   "metadata": {},
   "outputs": [],
   "source": [
    "# 여러 가지 작업을 처리하는 내용들을 utils라는 클래스로 구성하고, 객체 생성하여 동작 여부를 확인하시오\n",
    "class Utils:\n",
    "    def __init__(self,a,b,c):\n",
    "        self.number1 = a\n",
    "        self.number2 = b\n",
    "        self.number3 = c\n",
    "        \n",
    "    def add(self):\n",
    "        return self.number1 + self.number2 + self.number3\n",
    "    \n",
    "    def mul(self):\n",
    "        return self.number1 * self.number2 * self.number3\n",
    "    \n",
    "    def sub(self):\n",
    "        return self.number1 - self.number2 - self.number3\n",
    "    \n",
    "    def div(self):\n",
    "        return self.number1 / self.number2 / self.number3\n",
    "    \n",
    "    def get_avg(self):\n",
    "        tot = self.add()\n",
    "        return \"avg is {:.0f}\".format(tot/3)\n",
    "    \n",
    "    pass"
   ]
  },
  {
   "cell_type": "code",
   "execution_count": 157,
   "metadata": {},
   "outputs": [
    {
     "name": "stdout",
     "output_type": "stream",
     "text": [
      "60\n",
      "6000\n",
      "0\n",
      "0.15\n",
      "avg is 20\n"
     ]
    }
   ],
   "source": [
    "utils = Utils(30,20,10)\n",
    "print(utils.add())\n",
    "print(utils.mul())\n",
    "print(utils.sub())\n",
    "print(utils.div())\n",
    "print(utils.get_avg())"
   ]
  },
  {
   "cell_type": "code",
   "execution_count": null,
   "metadata": {},
   "outputs": [],
   "source": []
  }
 ],
 "metadata": {
  "kernelspec": {
   "display_name": "Python 3",
   "language": "python",
   "name": "python3"
  },
  "language_info": {
   "codemirror_mode": {
    "name": "ipython",
    "version": 3
   },
   "file_extension": ".py",
   "mimetype": "text/x-python",
   "name": "python",
   "nbconvert_exporter": "python",
   "pygments_lexer": "ipython3",
   "version": "3.7.4"
  }
 },
 "nbformat": 4,
 "nbformat_minor": 2
}
