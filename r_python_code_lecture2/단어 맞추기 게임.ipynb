{
 "cells": [
  {
   "cell_type": "code",
   "execution_count": 2,
   "metadata": {},
   "outputs": [],
   "source": [
    "import random as rnd"
   ]
  },
  {
   "cell_type": "code",
   "execution_count": 6,
   "metadata": {},
   "outputs": [
    {
     "name": "stdout",
     "output_type": "stream",
     "text": [
      "_ n t e r n a _ i _ _ a _ i z a t _ o n\n",
      "빈칸에 들어갈 단어 써보세요(한칸씩) ㅎㅎ --> i\n",
      "\n",
      "i n t e r n a _ i _ _ a _ i z a t i o n\n",
      "빈칸에 들어갈 단어 써보세요(한칸씩) ㅎㅎ --> t\n",
      "\n",
      "i n t e r n a t i _ _ a _ i z a t i o n\n",
      "빈칸에 들어갈 단어 써보세요(한칸씩) ㅎㅎ --> 포기\n",
      "\n",
      "정말 포기하실건가요!?\n",
      "y | n : n\n",
      "\n",
      "오케이~ 계속 풀어보세요 ㅎㅎ\n",
      "\n",
      "i n t e r n a t i _ _ a _ i z a t i o n\n",
      "빈칸에 들어갈 단어 써보세요(한칸씩) ㅎㅎ --> o\n",
      "\n",
      "i n t e r n a t i o _ a _ i z a t i o n\n",
      "빈칸에 들어갈 단어 써보세요(한칸씩) ㅎㅎ --> 포기\n",
      "\n",
      "정말 포기하실건가요!?\n",
      "y | n : y\n",
      "\n",
      "다음에 다시 도전해주세요~\n"
     ]
    }
   ],
   "source": [
    "word = \"internationalization\"\n",
    "\n",
    "hidden_index = []\n",
    "while (1):\n",
    "    r1 = rnd.randrange(len(word))\n",
    "    if r1 not in hidden_index:\n",
    "        hidden_index.append(r1)\n",
    "    if len(hidden_index) == (int(len(word) * 0.3)):\n",
    "        break\n",
    "\n",
    "word_list = list(word)\n",
    "word2 = word_list.copy()\n",
    "hidden_word = []\n",
    "for i in hidden_index:\n",
    "    hidden_word.append(word[i])\n",
    "    word2[i] = '_'\n",
    "\n",
    "while (1):\n",
    "    quiz_word = ' '.join(word2)\n",
    "    print(quiz_word)\n",
    "    input_word = input(\"빈칸에 들어갈 단어 써보세요(한칸씩) ㅎㅎ --> \")\n",
    "    print()\n",
    "    if input_word in hidden_word:\n",
    "        for i, s in enumerate(word_list):\n",
    "            if s == input_word:\n",
    "                word2[i] = input_word\n",
    "        if word_list == word2:\n",
    "            quiz_word = ' '.join(word2)\n",
    "            print(quiz_word)\n",
    "            print(\"정답입니다~! 짝짝짝\")\n",
    "            break\n",
    "    elif input_word == '포기':\n",
    "        print(\"정말 포기하실건가요!?\")\n",
    "        pogi = input(\"y | n : \")\n",
    "        print()\n",
    "        if pogi == 'y':\n",
    "            print(\"다음에 다시 도전해주세요~\")\n",
    "            break\n",
    "        elif pogi == 'n':\n",
    "            print('오케이~ 계속 풀어보세요 ㅎㅎ')\n",
    "            print()\n",
    "            continue\n",
    "        else:\n",
    "            print('y나 n만 써주세요~')\n",
    "            print()\n",
    "            continue\n",
    "    else:\n",
    "        print(\"땡! 계속해보세요~\")\n",
    "        print()\n",
    "        continue\n"
   ]
  },
  {
   "cell_type": "code",
   "execution_count": null,
   "metadata": {},
   "outputs": [],
   "source": []
  }
 ],
 "metadata": {
  "kernelspec": {
   "display_name": "Python 3",
   "language": "python",
   "name": "python3"
  },
  "language_info": {
   "codemirror_mode": {
    "name": "ipython",
    "version": 3
   },
   "file_extension": ".py",
   "mimetype": "text/x-python",
   "name": "python",
   "nbconvert_exporter": "python",
   "pygments_lexer": "ipython3",
   "version": "3.7.4"
  }
 },
 "nbformat": 4,
 "nbformat_minor": 2
}
