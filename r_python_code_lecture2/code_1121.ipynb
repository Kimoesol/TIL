{
 "cells": [
  {
   "cell_type": "code",
   "execution_count": 3,
   "metadata": {},
   "outputs": [],
   "source": [
    "import random as rnd"
   ]
  },
  {
   "cell_type": "code",
   "execution_count": 1,
   "metadata": {},
   "outputs": [],
   "source": [
    "# 파라메터를 하나 외부로부터 받아 10을 곱한 후 리턴하는 함수를 만드시오(함수 이름은 test1)\n",
    "def test1(x):\n",
    "    a = x * 10\n",
    "    return a"
   ]
  },
  {
   "cell_type": "code",
   "execution_count": 2,
   "metadata": {},
   "outputs": [
    {
     "data": {
      "text/plain": [
       "100"
      ]
     },
     "execution_count": 2,
     "metadata": {},
     "output_type": "execute_result"
    }
   ],
   "source": [
    "# 실제 값을 가지고 위에서 만든 함수를 테스트 하시오\n",
    "test1(10)"
   ]
  },
  {
   "cell_type": "code",
   "execution_count": 28,
   "metadata": {},
   "outputs": [],
   "source": [
    "# 파라메터가 없는 함수를 하나 만들고 랜덤으로 1 ~ 45 사이의 숫자 6개를 만들어 리스트에 지정하여 출력하도록 하시오(함수 이름은 test2)\n",
    "def test2():\n",
    "    list_a = []\n",
    "    for i in range(6):\n",
    "        sample = rnd.randrange(1,46)\n",
    "        list_a.append(sample)\n",
    "        pass\n",
    "    print(list_a)\n",
    "    pass"
   ]
  },
  {
   "cell_type": "code",
   "execution_count": 29,
   "metadata": {},
   "outputs": [
    {
     "name": "stdout",
     "output_type": "stream",
     "text": [
      "[10, 5, 3, 20, 3, 17]\n"
     ]
    }
   ],
   "source": [
    "# 만든 함수를 테스트 하시오\n",
    "test2()"
   ]
  },
  {
   "cell_type": "code",
   "execution_count": 45,
   "metadata": {},
   "outputs": [],
   "source": [
    "# 함수이름: test3\n",
    "# 파라메터: 정수형 2개\n",
    "# 처리내용: 큰 값을 결정하여 변수에 저장\n",
    "# 리턴여부: 큰 값을 리턴\n",
    "def test3(x,y):\n",
    "    max = 0\n",
    "    if x >= y:\n",
    "        max = x\n",
    "        pass\n",
    "    else:\n",
    "        max = y\n",
    "        pass\n",
    "    return max"
   ]
  },
  {
   "cell_type": "code",
   "execution_count": 46,
   "metadata": {},
   "outputs": [
    {
     "data": {
      "text/plain": [
       "4"
      ]
     },
     "execution_count": 46,
     "metadata": {},
     "output_type": "execute_result"
    }
   ],
   "source": [
    "test3(4,4)"
   ]
  },
  {
   "cell_type": "code",
   "execution_count": 58,
   "metadata": {},
   "outputs": [
    {
     "name": "stdout",
     "output_type": "stream",
     "text": [
      "[83, 71, 86, 16, 25, 27]\n"
     ]
    },
    {
     "data": {
      "text/plain": [
       "86"
      ]
     },
     "execution_count": 58,
     "metadata": {},
     "output_type": "execute_result"
    }
   ],
   "source": [
    "# 함수이름: test4\n",
    "# 파라메터: 랜덤으로 만들어진 요소가 6개인 리스트(1~100)\n",
    "# 처리내용: 최대값을 찾아 변수에 저장\n",
    "# 리턴내용: 최대값 리턴\n",
    "list_a = []\n",
    "for i in range(6):\n",
    "    sample = rnd.randrange(1,101)\n",
    "    list_a.append(sample)\n",
    "    pass\n",
    "print(list_a)\n",
    "def test4(x_list):\n",
    "    max = 0\n",
    "    # 처리 로직\n",
    "    for i in x_list:\n",
    "        if max < i:\n",
    "            max = i\n",
    "            pass\n",
    "        pass\n",
    "    return max\n",
    "test4(list_a)"
   ]
  },
  {
   "cell_type": "code",
   "execution_count": 60,
   "metadata": {},
   "outputs": [
    {
     "name": "stdout",
     "output_type": "stream",
     "text": [
      "index: 0, element: 83\n",
      "index: 1, element: 71\n",
      "index: 2, element: 86\n",
      "index: 3, element: 16\n",
      "index: 4, element: 25\n",
      "index: 5, element: 27\n"
     ]
    }
   ],
   "source": [
    "for idx,value in enumerate(list_a):\n",
    "    print('index: {}, element: {}'.format(idx,value))\n",
    "    pass"
   ]
  },
  {
   "cell_type": "code",
   "execution_count": 65,
   "metadata": {},
   "outputs": [],
   "source": [
    "# 10, 20 인자를 받아 20, 10이 되도록 리턴 받으려면 어떻게 해야 할까?\n",
    "def change_param(a,b):\n",
    "    return b,a"
   ]
  },
  {
   "cell_type": "code",
   "execution_count": 66,
   "metadata": {},
   "outputs": [
    {
     "data": {
      "text/plain": [
       "(20, 10)"
      ]
     },
     "execution_count": 66,
     "metadata": {},
     "output_type": "execute_result"
    }
   ],
   "source": [
    "change_param(10,20)"
   ]
  },
  {
   "cell_type": "code",
   "execution_count": 67,
   "metadata": {},
   "outputs": [],
   "source": [
    "a,b = change_param(10,20)"
   ]
  },
  {
   "cell_type": "code",
   "execution_count": 68,
   "metadata": {},
   "outputs": [
    {
     "name": "stdout",
     "output_type": "stream",
     "text": [
      "20 10\n"
     ]
    }
   ],
   "source": [
    "print(a,b)"
   ]
  },
  {
   "cell_type": "code",
   "execution_count": 69,
   "metadata": {},
   "outputs": [],
   "source": [
    "result = change_param(10,20)"
   ]
  },
  {
   "cell_type": "code",
   "execution_count": 70,
   "metadata": {},
   "outputs": [
    {
     "name": "stdout",
     "output_type": "stream",
     "text": [
      "(20, 10)\n"
     ]
    }
   ],
   "source": [
    "print(result)"
   ]
  },
  {
   "cell_type": "code",
   "execution_count": 71,
   "metadata": {},
   "outputs": [
    {
     "name": "stdout",
     "output_type": "stream",
     "text": [
      "10\n"
     ]
    }
   ],
   "source": [
    "print(result[1])"
   ]
  },
  {
   "cell_type": "code",
   "execution_count": 76,
   "metadata": {},
   "outputs": [],
   "source": [
    "def scope_test():\n",
    "    temp = 0\n",
    "    for i in range(10):\n",
    "        if i == 4:\n",
    "            temp = 20\n",
    "            pass\n",
    "        pass\n",
    "\n",
    "    print(temp)\n",
    "    pass"
   ]
  },
  {
   "cell_type": "code",
   "execution_count": 77,
   "metadata": {},
   "outputs": [
    {
     "name": "stdout",
     "output_type": "stream",
     "text": [
      "20\n"
     ]
    }
   ],
   "source": [
    "scope_test()"
   ]
  },
  {
   "cell_type": "markdown",
   "metadata": {},
   "source": [
    "<h2>제시된 단어 중 비어 있는 문자 맞추기</h2>"
   ]
  },
  {
   "cell_type": "code",
   "execution_count": 162,
   "metadata": {},
   "outputs": [],
   "source": [
    "# welcome이라는 단어가 있고 _e___me라고 문제가 주어지면,\n",
    "# 사용자가 문자를 예측하여 입력해서 welcome을 완성하는 게임\n",
    "# 참고: 중간에 맞춘게 있으면 we___me 이런 식으로 완성이 될 것"
   ]
  },
  {
   "cell_type": "code",
   "execution_count": 163,
   "metadata": {},
   "outputs": [],
   "source": [
    "# 시작 단어: internationalization\n",
    "# 숨겨지는 문자: 랜덤, 전체 글자 수의 30%\n",
    "\n",
    "words = \"internationalization\"\n",
    "hidden_size = int(len(words)*0.3)\n",
    "# hidden_size만큼 랜덤수 생성(0~len(words))"
   ]
  },
  {
   "cell_type": "code",
   "execution_count": 159,
   "metadata": {},
   "outputs": [],
   "source": [
    "def make_index():\n",
    "    hidden_index = []\n",
    "    while True:\n",
    "        temp = rnd.randrange(len(words))\n",
    "        if temp not in hidden_index:\n",
    "            hidden_index.append(temp)\n",
    "        \n",
    "        if len(hidden_index)==hidden_size:\n",
    "            break\n",
    "        pass\n",
    "    return hidden_index"
   ]
  },
  {
   "cell_type": "code",
   "execution_count": 160,
   "metadata": {},
   "outputs": [
    {
     "name": "stdout",
     "output_type": "stream",
     "text": [
      "[14, 12, 13, 7, 17, 11]\n"
     ]
    }
   ],
   "source": [
    "hidden_index = make_index()\n",
    "print(hidden_index)"
   ]
  },
  {
   "cell_type": "code",
   "execution_count": 156,
   "metadata": {},
   "outputs": [],
   "source": [
    "def display_word():\n",
    "    for idx in range(len(words)):\n",
    "        if idx not in hidden_index:\n",
    "            print(words[idx],end=' ')\n",
    "        else:\n",
    "            print('_',end=' ')"
   ]
  },
  {
   "cell_type": "code",
   "execution_count": 161,
   "metadata": {},
   "outputs": [
    {
     "name": "stdout",
     "output_type": "stream",
     "text": [
      "i n t e r n a _ i o n _ _ _ _ a t _ o n "
     ]
    }
   ],
   "source": [
    "display_word()"
   ]
  },
  {
   "cell_type": "code",
   "execution_count": 158,
   "metadata": {},
   "outputs": [
    {
     "name": "stdout",
     "output_type": "stream",
     "text": [
      "please input letter >>> i\n",
      "temp_number [0, 8, 13, 17]\n",
      "correct : i\n",
      "correct : i\n",
      "correct : i\n",
      "hidden_index [10, 11, 15]\n",
      "i n t e r n a t i o _ _ l i z _ t i o n please input letter >>> a\n",
      "temp_number [6, 11, 15]\n",
      "correct : a\n",
      "correct : a\n",
      "hidden_index [10]\n",
      "i n t e r n a t i o _ a l i z a t i o n please input letter >>> n\n",
      "temp_number [1, 5, 10, 19]\n",
      "correct : n\n",
      "hidden_index []\n",
      "i n t e r n a t i o n a l i z a t i o n "
     ]
    }
   ],
   "source": [
    "while True:\n",
    "    try_letter = input(\"please input letter >>> \")\n",
    "    # 로직 처리\n",
    "    temp_number = []\n",
    "    for idx,letter in enumerate(words):\n",
    "        if try_letter == letter:\n",
    "            temp_number.append(idx)\n",
    "            pass\n",
    "        pass\n",
    "    \n",
    "    print('temp_number',temp_number)   \n",
    "    for num in temp_number:\n",
    "        if num in hidden_index:\n",
    "            print('correct : {}'.format(try_letter))\n",
    "            hidden_index.remove(num)\n",
    "        # 처리결과\n",
    "    print('hidden_index',hidden_index)\n",
    "    display_word()\n",
    "    # 출력함수 적용\n",
    "    if len(hidden_index)==0:\n",
    "        break\n",
    "        pass\n",
    "    pass"
   ]
  },
  {
   "cell_type": "markdown",
   "metadata": {},
   "source": [
    "<h2> 딕셔너리 자료형 </h2>"
   ]
  },
  {
   "cell_type": "code",
   "execution_count": 164,
   "metadata": {},
   "outputs": [],
   "source": [
    "dic = {'name':'pey', 'phone':'0119993323', 'birth': '1118'}"
   ]
  },
  {
   "cell_type": "code",
   "execution_count": 165,
   "metadata": {},
   "outputs": [
    {
     "data": {
      "text/plain": [
       "'pey'"
      ]
     },
     "execution_count": 165,
     "metadata": {},
     "output_type": "execute_result"
    }
   ],
   "source": [
    "dic['name']"
   ]
  },
  {
   "cell_type": "code",
   "execution_count": 166,
   "metadata": {},
   "outputs": [
    {
     "data": {
      "text/plain": [
       "dict_keys(['name', 'phone', 'birth'])"
      ]
     },
     "execution_count": 166,
     "metadata": {},
     "output_type": "execute_result"
    }
   ],
   "source": [
    "dic.keys()"
   ]
  },
  {
   "cell_type": "code",
   "execution_count": 167,
   "metadata": {},
   "outputs": [
    {
     "data": {
      "text/plain": [
       "dict_values(['pey', '0119993323', '1118'])"
      ]
     },
     "execution_count": 167,
     "metadata": {},
     "output_type": "execute_result"
    }
   ],
   "source": [
    "dic.values()"
   ]
  },
  {
   "cell_type": "code",
   "execution_count": 168,
   "metadata": {},
   "outputs": [
    {
     "data": {
      "text/plain": [
       "dict_items([('name', 'pey'), ('phone', '0119993323'), ('birth', '1118')])"
      ]
     },
     "execution_count": 168,
     "metadata": {},
     "output_type": "execute_result"
    }
   ],
   "source": [
    "dic.items()"
   ]
  },
  {
   "cell_type": "code",
   "execution_count": 170,
   "metadata": {},
   "outputs": [
    {
     "data": {
      "text/plain": [
       "'pey'"
      ]
     },
     "execution_count": 170,
     "metadata": {},
     "output_type": "execute_result"
    }
   ],
   "source": [
    "dic.get('name')"
   ]
  },
  {
   "cell_type": "code",
   "execution_count": 173,
   "metadata": {},
   "outputs": [
    {
     "data": {
      "text/plain": [
       "'NULL'"
      ]
     },
     "execution_count": 173,
     "metadata": {},
     "output_type": "execute_result"
    }
   ],
   "source": [
    "dic.get('babo','NULL')"
   ]
  },
  {
   "cell_type": "code",
   "execution_count": null,
   "metadata": {},
   "outputs": [],
   "source": []
  }
 ],
 "metadata": {
  "kernelspec": {
   "display_name": "Python 3",
   "language": "python",
   "name": "python3"
  },
  "language_info": {
   "codemirror_mode": {
    "name": "ipython",
    "version": 3
   },
   "file_extension": ".py",
   "mimetype": "text/x-python",
   "name": "python",
   "nbconvert_exporter": "python",
   "pygments_lexer": "ipython3",
   "version": "3.7.4"
  }
 },
 "nbformat": 4,
 "nbformat_minor": 2
}
