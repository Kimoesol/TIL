{
 "cells": [
  {
   "cell_type": "code",
   "execution_count": 1,
   "metadata": {},
   "outputs": [
    {
     "name": "stdout",
     "output_type": "stream",
     "text": [
      "3\n"
     ]
    }
   ],
   "source": [
    "import random as rnd\n",
    "r = rnd.randint(1,3)\n",
    "print(r)"
   ]
  },
  {
   "cell_type": "code",
   "execution_count": 8,
   "metadata": {},
   "outputs": [
    {
     "name": "stdout",
     "output_type": "stream",
     "text": [
      "5 is prime number\n"
     ]
    }
   ],
   "source": [
    "n = 5\n",
    "count = 0\n",
    "for i in range(1, n+1):\n",
    "    if n % i == 0:\n",
    "        count = count + 1\n",
    "        pass\n",
    "    pass\n",
    "\n",
    "if count == 2:\n",
    "    print(\"{} is prime number\".format(n))"
   ]
  },
  {
   "cell_type": "code",
   "execution_count": 17,
   "metadata": {},
   "outputs": [
    {
     "name": "stdout",
     "output_type": "stream",
     "text": [
      "1009 is prime number\n",
      "1013 is prime number\n",
      "1019 is prime number\n",
      "1021 is prime number\n",
      "1031 is prime number\n",
      "1033 is prime number\n",
      "1039 is prime number\n",
      "1049 is prime number\n",
      "1051 is prime number\n",
      "1061 is prime number\n",
      "1063 is prime number\n",
      "1069 is prime number\n",
      "1087 is prime number\n",
      "1091 is prime number\n",
      "1093 is prime number\n",
      "1097 is prime number\n",
      "1103 is prime number\n",
      "1109 is prime number\n",
      "1117 is prime number\n",
      "1123 is prime number\n",
      "1129 is prime number\n",
      "1151 is prime number\n",
      "1153 is prime number\n",
      "1163 is prime number\n",
      "1171 is prime number\n",
      "1181 is prime number\n",
      "1187 is prime number\n",
      "1193 is prime number\n",
      "1201 is prime number\n",
      "1213 is prime number\n",
      "1217 is prime number\n",
      "1223 is prime number\n",
      "1229 is prime number\n",
      "1231 is prime number\n",
      "1237 is prime number\n",
      "1249 is prime number\n"
     ]
    }
   ],
   "source": [
    "# N이라는 숫자의 소수 여부 판별\n",
    "# 1~N까지의 수로 나누어서 떨어지는 경우가 2개인 것을 찾는 것\n",
    "# 1, 자기 자신으로만 나누어 떨어지는 수 -> 소수\n",
    "\n",
    "# 1000 ~ 1250 사이의 소수를 찾아 출력\n",
    "for number in range(1000, 1251):\n",
    "    n = number\n",
    "    count = 0\n",
    "    for i in range(1, n+1):\n",
    "        if n % i == 0:\n",
    "            count = count + 1\n",
    "        pass\n",
    "    if count == 2:\n",
    "        print(\"{} is prime number\".format(number))\n",
    "        pass\n",
    "    pass"
   ]
  },
  {
   "cell_type": "code",
   "execution_count": 18,
   "metadata": {},
   "outputs": [
    {
     "name": "stdout",
     "output_type": "stream",
     "text": [
      "36\n"
     ]
    }
   ],
   "source": [
    "# 1000 ~ 1250 사이의 소수의 갯수\n",
    "total = 0\n",
    "for number in range(1000, 1251):\n",
    "    n = number\n",
    "    count = 0\n",
    "    for i in range(1, n+1):\n",
    "        if n % i == 0:\n",
    "            count = count + 1\n",
    "        pass\n",
    "    if count == 2:\n",
    "#         print(\"{} is prime number\".format(n))\n",
    "        total = total + 1\n",
    "        pass\n",
    "    pass\n",
    "\n",
    "print(total)"
   ]
  },
  {
   "cell_type": "code",
   "execution_count": 22,
   "metadata": {},
   "outputs": [
    {
     "name": "stdout",
     "output_type": "stream",
     "text": [
      "0 1 1 2 3 5 8 13 21 34 55 89 "
     ]
    }
   ],
   "source": [
    "# 10번째 까지의 피보나치 수열을 출력하시오\n",
    "# 피보나치 수열: 0,1 값이 주어지고 계속해서 주어진 두 수의 합이 다음에 위치한다.\n",
    "# ex> 0,1,1,2,3,5,8...\n",
    "a = 0\n",
    "b = 1\n",
    "for i in range(10):\n",
    "    p = a + b\n",
    "    if p == 1:\n",
    "        print(a,b,end=' ')\n",
    "    print(p, end=' ')\n",
    "    a = b\n",
    "    b = p\n",
    "    pass"
   ]
  },
  {
   "cell_type": "code",
   "execution_count": 23,
   "metadata": {},
   "outputs": [
    {
     "data": {
      "text/plain": [
       "17"
      ]
     },
     "execution_count": 23,
     "metadata": {},
     "output_type": "execute_result"
    }
   ],
   "source": [
    "a = \"Life is too short\"\n",
    "len(a)"
   ]
  },
  {
   "cell_type": "code",
   "execution_count": 26,
   "metadata": {},
   "outputs": [
    {
     "data": {
      "text/plain": [
       "'r'"
      ]
     },
     "execution_count": 26,
     "metadata": {},
     "output_type": "execute_result"
    }
   ],
   "source": [
    "a[-2]"
   ]
  },
  {
   "cell_type": "code",
   "execution_count": 27,
   "metadata": {},
   "outputs": [
    {
     "data": {
      "text/plain": [
       "'hi        '"
      ]
     },
     "execution_count": 27,
     "metadata": {},
     "output_type": "execute_result"
    }
   ],
   "source": [
    "# 왼쪽 정렬\n",
    "\"{:<10}\".format(\"hi\")"
   ]
  },
  {
   "cell_type": "code",
   "execution_count": 28,
   "metadata": {},
   "outputs": [
    {
     "data": {
      "text/plain": [
       "'        hi'"
      ]
     },
     "execution_count": 28,
     "metadata": {},
     "output_type": "execute_result"
    }
   ],
   "source": [
    "# 오른쪽 정렬\n",
    "\"{:>10}\".format(\"hi\")"
   ]
  },
  {
   "cell_type": "code",
   "execution_count": 31,
   "metadata": {},
   "outputs": [
    {
     "data": {
      "text/plain": [
       "'3.14'"
      ]
     },
     "execution_count": 31,
     "metadata": {},
     "output_type": "execute_result"
    }
   ],
   "source": [
    "\"{:.2f}\".format(3.14159)"
   ]
  },
  {
   "cell_type": "code",
   "execution_count": 35,
   "metadata": {},
   "outputs": [
    {
     "name": "stdout",
     "output_type": "stream",
     "text": [
      "2X1= 2\n",
      "2X2= 4\n",
      "2X3= 6\n",
      "2X4= 8\n",
      "2X5=10\n",
      "2X6=12\n",
      "2X7=14\n",
      "2X8=16\n",
      "2X9=18\n"
     ]
    }
   ],
   "source": [
    "# 2단을 작성하시오\n",
    "# print(\"{}X{}={}\".format(2,1,2))\n",
    "for i in range(9):\n",
    "    print(\"2X{}={:>2}\".format(i+1, (i+1)*2))\n",
    "    pass"
   ]
  },
  {
   "cell_type": "code",
   "execution_count": 36,
   "metadata": {},
   "outputs": [
    {
     "data": {
      "text/plain": [
       "'a,b,c,d'"
      ]
     },
     "execution_count": 36,
     "metadata": {},
     "output_type": "execute_result"
    }
   ],
   "source": [
    "\",\".join(['a', 'b', 'c', 'd'])"
   ]
  },
  {
   "cell_type": "code",
   "execution_count": 37,
   "metadata": {},
   "outputs": [
    {
     "data": {
      "text/plain": [
       "'hi'"
      ]
     },
     "execution_count": 37,
     "metadata": {},
     "output_type": "execute_result"
    }
   ],
   "source": [
    "a = \" hi \"\n",
    "a.strip()"
   ]
  },
  {
   "cell_type": "code",
   "execution_count": 42,
   "metadata": {},
   "outputs": [
    {
     "name": "stdout",
     "output_type": "stream",
     "text": [
      "990001,addx,17,29,16,49,43,154,C,A,C\n"
     ]
    }
   ],
   "source": [
    "line = \"990001,addx,17,29,16,49,43,154,C,A,C\"\n",
    "print(line)"
   ]
  },
  {
   "cell_type": "code",
   "execution_count": 67,
   "metadata": {},
   "outputs": [],
   "source": [
    "data = line.split(\",\")"
   ]
  },
  {
   "cell_type": "code",
   "execution_count": 68,
   "metadata": {},
   "outputs": [
    {
     "data": {
      "text/plain": [
       "['990001', 'addx', '17', '29', '16', '49', '43', '154', 'C', 'A', 'C']"
      ]
     },
     "execution_count": 68,
     "metadata": {},
     "output_type": "execute_result"
    }
   ],
   "source": [
    "data"
   ]
  },
  {
   "cell_type": "code",
   "execution_count": 47,
   "metadata": {},
   "outputs": [
    {
     "data": {
      "text/plain": [
       "'1729'"
      ]
     },
     "execution_count": 47,
     "metadata": {},
     "output_type": "execute_result"
    }
   ],
   "source": [
    "data[2]+data[3]"
   ]
  },
  {
   "cell_type": "code",
   "execution_count": 48,
   "metadata": {},
   "outputs": [
    {
     "data": {
      "text/plain": [
       "46"
      ]
     },
     "execution_count": 48,
     "metadata": {},
     "output_type": "execute_result"
    }
   ],
   "source": [
    "int(data[2])+int(data[3])"
   ]
  },
  {
   "cell_type": "code",
   "execution_count": 65,
   "metadata": {},
   "outputs": [],
   "source": [
    "for i in range(2,8):\n",
    "    data[i] = int(data[i])\n",
    "    pass"
   ]
  },
  {
   "cell_type": "code",
   "execution_count": 66,
   "metadata": {},
   "outputs": [
    {
     "data": {
      "text/plain": [
       "['990001', 'addx', 17, 29, 16, 49, 43, 154, 'C', 'A', 'C']"
      ]
     },
     "execution_count": 66,
     "metadata": {},
     "output_type": "execute_result"
    }
   ],
   "source": [
    "data"
   ]
  },
  {
   "cell_type": "code",
   "execution_count": 69,
   "metadata": {},
   "outputs": [
    {
     "name": "stdout",
     "output_type": "stream",
     "text": [
      "990001\n",
      "addx\n",
      "17\n",
      "29\n",
      "16\n",
      "49\n",
      "43\n",
      "154\n",
      "C\n",
      "A\n",
      "C\n"
     ]
    }
   ],
   "source": [
    "for ele in data:\n",
    "    print(ele)"
   ]
  },
  {
   "cell_type": "code",
   "execution_count": 92,
   "metadata": {},
   "outputs": [],
   "source": [
    "m_list = [1,2,3,4,5]"
   ]
  },
  {
   "cell_type": "code",
   "execution_count": 72,
   "metadata": {
    "scrolled": true
   },
   "outputs": [
    {
     "data": {
      "text/plain": [
       "1"
      ]
     },
     "execution_count": 72,
     "metadata": {},
     "output_type": "execute_result"
    }
   ],
   "source": [
    "m_list[0]"
   ]
  },
  {
   "cell_type": "code",
   "execution_count": 73,
   "metadata": {},
   "outputs": [
    {
     "name": "stdout",
     "output_type": "stream",
     "text": [
      "1\n",
      "2\n",
      "3\n",
      "4\n",
      "5\n"
     ]
    }
   ],
   "source": [
    "for ele in m_list:\n",
    "    print(ele)"
   ]
  },
  {
   "cell_type": "code",
   "execution_count": 93,
   "metadata": {},
   "outputs": [
    {
     "data": {
      "text/plain": [
       "[1, 2, 3, 4, 50]"
      ]
     },
     "execution_count": 93,
     "metadata": {},
     "output_type": "execute_result"
    }
   ],
   "source": [
    "m_list[4] = 50\n",
    "m_list"
   ]
  },
  {
   "cell_type": "code",
   "execution_count": 94,
   "metadata": {},
   "outputs": [
    {
     "data": {
      "text/plain": [
       "[1, 2, 3, 4, 50, 6]"
      ]
     },
     "execution_count": 94,
     "metadata": {},
     "output_type": "execute_result"
    }
   ],
   "source": [
    "m_list.append(6)\n",
    "m_list"
   ]
  },
  {
   "cell_type": "code",
   "execution_count": 95,
   "metadata": {},
   "outputs": [
    {
     "data": {
      "text/plain": [
       "[1, 2, 3, 4, 6]"
      ]
     },
     "execution_count": 95,
     "metadata": {},
     "output_type": "execute_result"
    }
   ],
   "source": [
    "del m_list[4]\n",
    "m_list"
   ]
  },
  {
   "cell_type": "code",
   "execution_count": 96,
   "metadata": {},
   "outputs": [],
   "source": [
    "m_list.remove(6)"
   ]
  },
  {
   "cell_type": "code",
   "execution_count": 97,
   "metadata": {},
   "outputs": [
    {
     "data": {
      "text/plain": [
       "[1, 2, 3, 4]"
      ]
     },
     "execution_count": 97,
     "metadata": {},
     "output_type": "execute_result"
    }
   ],
   "source": [
    "m_list"
   ]
  },
  {
   "cell_type": "code",
   "execution_count": 98,
   "metadata": {},
   "outputs": [],
   "source": [
    "my_list = []\n",
    "my_list.append(10)"
   ]
  },
  {
   "cell_type": "code",
   "execution_count": 99,
   "metadata": {},
   "outputs": [
    {
     "data": {
      "text/plain": [
       "[10]"
      ]
     },
     "execution_count": 99,
     "metadata": {},
     "output_type": "execute_result"
    }
   ],
   "source": [
    "my_list"
   ]
  },
  {
   "cell_type": "code",
   "execution_count": 109,
   "metadata": {},
   "outputs": [
    {
     "data": {
      "text/plain": [
       "[23, 87, 1, 92, 34, 54, 20, 19, 3, 90]"
      ]
     },
     "execution_count": 109,
     "metadata": {},
     "output_type": "execute_result"
    }
   ],
   "source": [
    "# 리스트 정렬하기\n",
    "list_a = [23,87,1,92,34,54,20,19,3,90]\n",
    "list_a"
   ]
  },
  {
   "cell_type": "code",
   "execution_count": 110,
   "metadata": {},
   "outputs": [
    {
     "data": {
      "text/plain": [
       "10"
      ]
     },
     "execution_count": 110,
     "metadata": {},
     "output_type": "execute_result"
    }
   ],
   "source": [
    "len(list_a)"
   ]
  },
  {
   "cell_type": "code",
   "execution_count": 111,
   "metadata": {},
   "outputs": [
    {
     "name": "stdout",
     "output_type": "stream",
     "text": [
      "23\n",
      "87\n",
      "1\n",
      "92\n",
      "34\n",
      "54\n",
      "20\n",
      "19\n",
      "3\n",
      "90\n"
     ]
    }
   ],
   "source": [
    "for ele in list_a:\n",
    "    print(ele)"
   ]
  },
  {
   "cell_type": "code",
   "execution_count": 108,
   "metadata": {},
   "outputs": [
    {
     "name": "stdout",
     "output_type": "stream",
     "text": [
      "23\n",
      "87\n",
      "1\n",
      "92\n",
      "34\n",
      "54\n",
      "20\n",
      "19\n",
      "3\n",
      "90\n"
     ]
    }
   ],
   "source": [
    "for idx in range(len(list_a)):\n",
    "    print(list_a[idx])"
   ]
  },
  {
   "cell_type": "code",
   "execution_count": 115,
   "metadata": {},
   "outputs": [],
   "source": [
    "# 내림차순으로 정렬하시오\n",
    "for i in range(len(list_a)-1): # 마지막 항은 전의 결과에 따라 자동으로 결정되기 때문에 len(list_a)에서 1을 빼도 동일한 결과 도출됨\n",
    "    for j in range(i+1, (len(list_a))):\n",
    "        if list_a[i] < list_a[j]:\n",
    "            temp = list_a[i]\n",
    "            list_a[i] = list_a[j]\n",
    "            list_a[j] = temp\n",
    "        pass"
   ]
  },
  {
   "cell_type": "code",
   "execution_count": 116,
   "metadata": {},
   "outputs": [
    {
     "data": {
      "text/plain": [
       "[92, 90, 87, 54, 34, 23, 20, 19, 3, 1]"
      ]
     },
     "execution_count": 116,
     "metadata": {},
     "output_type": "execute_result"
    }
   ],
   "source": [
    "list_a"
   ]
  },
  {
   "cell_type": "code",
   "execution_count": null,
   "metadata": {},
   "outputs": [],
   "source": [
    "# import random as rnd\n",
    "r = rnd.randint(1,3)\n",
    "print(r)"
   ]
  },
  {
   "cell_type": "code",
   "execution_count": 132,
   "metadata": {},
   "outputs": [
    {
     "data": {
      "text/plain": [
       "[64, 29, 5, 71, 9, 22, 17, 51, 5, 81]"
      ]
     },
     "execution_count": 132,
     "metadata": {},
     "output_type": "execute_result"
    }
   ],
   "source": [
    "list_b = []\n",
    "for i in range(10):\n",
    "    r2 = rnd.randrange(100)\n",
    "    list_b.append(r2)\n",
    "#     print(r2,end=' ')\n",
    "    pass\n",
    "list_b"
   ]
  },
  {
   "cell_type": "code",
   "execution_count": 158,
   "metadata": {},
   "outputs": [
    {
     "data": {
      "text/plain": [
       "[43, 6, 63, 28, 67, 39, 44, 55, 78, 19]"
      ]
     },
     "execution_count": 158,
     "metadata": {},
     "output_type": "execute_result"
    }
   ],
   "source": [
    "# 10개의 임의의 수를 리스트에 저장하여 출력(중복 없음)\n",
    "list_b = []\n",
    "while True:\n",
    "    r2 = rnd.randrange(100)\n",
    "    if r2 not in list_b:\n",
    "        list_b.append(r2)\n",
    "#     print(r2,end=' ')\n",
    "    if len(list_b)==10:\n",
    "        break\n",
    "    pass\n",
    "list_b"
   ]
  },
  {
   "cell_type": "code",
   "execution_count": 164,
   "metadata": {},
   "outputs": [
    {
     "name": "stdout",
     "output_type": "stream",
     "text": [
      "h\te\tl\tl\to\t"
     ]
    }
   ],
   "source": [
    "msg = 'hello'\n",
    "for letter in msg:\n",
    "    print(letter,end='\\t')"
   ]
  },
  {
   "cell_type": "code",
   "execution_count": 165,
   "metadata": {},
   "outputs": [
    {
     "name": "stdout",
     "output_type": "stream",
     "text": [
      "1\t2\t3\t4\t5\t6\t"
     ]
    }
   ],
   "source": [
    "number = '123456'\n",
    "for letter in number:\n",
    "    print(letter,end='\\t')"
   ]
  },
  {
   "cell_type": "code",
   "execution_count": 166,
   "metadata": {},
   "outputs": [
    {
     "name": "stdout",
     "output_type": "stream",
     "text": [
      "1698\n"
     ]
    }
   ],
   "source": [
    "# 1000 ~ 9999 중 한 개의 수 출력\n",
    "hidden = rnd.randrange(1000,10000)\n",
    "print(hidden)"
   ]
  },
  {
   "cell_type": "code",
   "execution_count": 7,
   "metadata": {},
   "outputs": [
    {
     "name": "stdout",
     "output_type": "stream",
     "text": [
      "please input numbers >>> 10\n",
      "20\n",
      "1010\n"
     ]
    }
   ],
   "source": [
    "b = input('please input numbers >>> ')\n",
    "print(int(b)+10)\n",
    "print(b+str(10))"
   ]
  },
  {
   "cell_type": "code",
   "execution_count": 2,
   "metadata": {},
   "outputs": [
    {
     "name": "stdout",
     "output_type": "stream",
     "text": [
      "76\n"
     ]
    }
   ],
   "source": [
    "hidden = rnd.randrange(10,100)\n",
    "print(hidden)"
   ]
  },
  {
   "cell_type": "code",
   "execution_count": 4,
   "metadata": {},
   "outputs": [
    {
     "name": "stdout",
     "output_type": "stream",
     "text": [
      "please input numbers (10~99) >> 76\n",
      "정답\n"
     ]
    }
   ],
   "source": [
    "# 숫자 맞추기\n",
    "# 10 ~ 99 사이의 hidden 숫자를 만들어서 감춘 후 사용자가 예상한 숫자를 입력하면 크다, 작다를 피드백하여 숨겨진 숫자를 맞추는 게임\n",
    "\n",
    "while True:\n",
    "    temp = input('please input numbers (10~99) >> ')\n",
    "    try_number = int(temp)\n",
    "    if try_number == hidden:\n",
    "        print(\"정답\")\n",
    "        break\n",
    "    elif try_number < hidden:\n",
    "        print(\"Up\")\n",
    "    else:\n",
    "        print(\"Down\")"
   ]
  },
  {
   "cell_type": "code",
   "execution_count": 14,
   "metadata": {},
   "outputs": [],
   "source": [
    "def plus(a,b):\n",
    "    c = a + b\n",
    "    return c"
   ]
  },
  {
   "cell_type": "code",
   "execution_count": 15,
   "metadata": {},
   "outputs": [],
   "source": [
    "result = plus(10,20)"
   ]
  },
  {
   "cell_type": "code",
   "execution_count": 16,
   "metadata": {},
   "outputs": [
    {
     "name": "stdout",
     "output_type": "stream",
     "text": [
      "30\n"
     ]
    }
   ],
   "source": [
    "print(result)"
   ]
  },
  {
   "cell_type": "code",
   "execution_count": 19,
   "metadata": {},
   "outputs": [],
   "source": [
    "def plus2(a,b=20,c=30):\n",
    "    return a+b+c"
   ]
  },
  {
   "cell_type": "code",
   "execution_count": 24,
   "metadata": {},
   "outputs": [
    {
     "data": {
      "text/plain": [
       "90"
      ]
     },
     "execution_count": 24,
     "metadata": {},
     "output_type": "execute_result"
    }
   ],
   "source": [
    "plus2(20,c=50)"
   ]
  },
  {
   "cell_type": "code",
   "execution_count": 40,
   "metadata": {},
   "outputs": [],
   "source": [
    "# 달력 만들기 -> 함수로 바꾸기\n",
    "def view_month(m,s,ld):\n",
    "    month = m\n",
    "    space = s\n",
    "    last_day = ld\n",
    "    print(\"\\t\\t  2019년 {}월\\n\".format(month))\n",
    "    print(\"일\\t월\\t화\\t수\\t목\\t금\\t토\")\n",
    "    for i in range(space):\n",
    "        print('\\t', end='')\n",
    "        pass\n",
    "\n",
    "    for i in range(1,last_day+1):\n",
    "        print('{}\\t'.format(i),end='')\n",
    "        if (i+space) % 7 == 0:\n",
    "            print()\n",
    "            pass\n",
    "        pass\n",
    "    pass"
   ]
  },
  {
   "cell_type": "code",
   "execution_count": 41,
   "metadata": {},
   "outputs": [
    {
     "name": "stdout",
     "output_type": "stream",
     "text": [
      "\t\t  2019년 8월\n",
      "\n",
      "일\t월\t화\t수\t목\t금\t토\n",
      "\t\t\t\t1\t2\t3\t\n",
      "4\t5\t6\t7\t8\t9\t10\t\n",
      "11\t12\t13\t14\t15\t16\t17\t\n",
      "18\t19\t20\t21\t22\t23\t24\t\n",
      "25\t26\t27\t28\t29\t30\t31\t\n"
     ]
    }
   ],
   "source": [
    "view_month(8,4,31)"
   ]
  },
  {
   "cell_type": "code",
   "execution_count": 38,
   "metadata": {},
   "outputs": [],
   "source": [
    "# 마지막 날 정보 12개와 빈칸 정보 12개를 리스트에 담아서 처리하시오 (하드 코딩으로)\n",
    "def view_month_v2(m):\n",
    "    month = m\n",
    "    spaces = [2,5,5,1,3,6,1,4,0,2,5,0]\n",
    "    space = spaces[m-1]\n",
    "    last_days = [31,28,31,30,31,30,31,31,30,31,30,31]\n",
    "    last_day = last_days[m-1]\n",
    "    print(\"\\t\\t  2019년 {}월\\n\".format(month))\n",
    "    print(\"일\\t월\\t화\\t수\\t목\\t금\\t토\")\n",
    "    for i in range(space):\n",
    "        print('\\t', end='')\n",
    "        pass\n",
    "\n",
    "    for i in range(1,last_day+1):\n",
    "        print('{}\\t'.format(i),end='')\n",
    "        if (i+space) % 7 == 0:\n",
    "            print()\n",
    "            pass\n",
    "        pass\n",
    "    pass"
   ]
  },
  {
   "cell_type": "code",
   "execution_count": 45,
   "metadata": {},
   "outputs": [
    {
     "name": "stdout",
     "output_type": "stream",
     "text": [
      "원하는 월을 입력하세요 >>> 4\n",
      "\n",
      "\t\t  2019년 4월\n",
      "\n",
      "일\t월\t화\t수\t목\t금\t토\n",
      "\t1\t2\t3\t4\t5\t6\t\n",
      "7\t8\t9\t10\t11\t12\t13\t\n",
      "14\t15\t16\t17\t18\t19\t20\t\n",
      "21\t22\t23\t24\t25\t26\t27\t\n",
      "28\t29\t30\t"
     ]
    }
   ],
   "source": [
    "mon = input('원하는 월을 입력하세요 >>> ')\n",
    "print()\n",
    "view_month_v2(int(mon))"
   ]
  },
  {
   "cell_type": "code",
   "execution_count": 144,
   "metadata": {},
   "outputs": [],
   "source": [
    "# 아래의 코드를 함수로 만들고 테스트하시오(함수 형태만 적용)\n",
    "# 구구단 \n",
    "def make_gugudan(n,m):\n",
    "    # n>=m인 경우를 방지하는 코드 작성\n",
    "    # 같을 경우는 뒤의 것을 +1\n",
    "    # 앞의 것이 클 경우 뒤의 것과 교환\n",
    "    if n == m:\n",
    "        m = m + 1\n",
    "    elif n > m:\n",
    "        temp = n\n",
    "        n = m\n",
    "        m = temp\n",
    "    start = n\n",
    "    end = m\n",
    "    for dan in range(start,end):\n",
    "        for i in range(1,10):\n",
    "            print(\"{}X{}={}\".format(dan,i,dan*i))\n",
    "            pass\n",
    "        print()\n",
    "        pass\n",
    "    pass"
   ]
  },
  {
   "cell_type": "code",
   "execution_count": 146,
   "metadata": {},
   "outputs": [
    {
     "name": "stdout",
     "output_type": "stream",
     "text": [
      "4X1=4\n",
      "4X2=8\n",
      "4X3=12\n",
      "4X4=16\n",
      "4X5=20\n",
      "4X6=24\n",
      "4X7=28\n",
      "4X8=32\n",
      "4X9=36\n",
      "\n"
     ]
    }
   ],
   "source": [
    "make_gugudan(4,5)"
   ]
  },
  {
   "cell_type": "code",
   "execution_count": 114,
   "metadata": {},
   "outputs": [],
   "source": [
    "# 소수 판별\n",
    "def is_prime_number(k):\n",
    "    number = k\n",
    "    count = 0\n",
    "    flag = False\n",
    "    for i in range(1, number+1):\n",
    "        if number % i == 0:\n",
    "            count = count + 1\n",
    "            pass\n",
    "        pass\n",
    "\n",
    "    # 소수 여부 확인(2개)\n",
    "    if count == 2:\n",
    "        flag = True\n",
    "        pass\n",
    "    \n",
    "    return flag"
   ]
  },
  {
   "cell_type": "code",
   "execution_count": 116,
   "metadata": {},
   "outputs": [
    {
     "data": {
      "text/plain": [
       "True"
      ]
     },
     "execution_count": 116,
     "metadata": {},
     "output_type": "execute_result"
    }
   ],
   "source": [
    "is_prime_number(5)"
   ]
  },
  {
   "cell_type": "code",
   "execution_count": 111,
   "metadata": {},
   "outputs": [],
   "source": [
    "# 윤년 판별\n",
    "def is_leap_year(year1, year2):\n",
    "    for i in range(year1, year2):\n",
    "        year = i\n",
    "        if year%400==0 or (year%4==0 and year%100!=0):\n",
    "            print(\"{} is leap year\".format(year))\n",
    "    #     else:\n",
    "    #         print(\"{} is common year\".format(year))\n",
    "        pass"
   ]
  },
  {
   "cell_type": "code",
   "execution_count": 113,
   "metadata": {},
   "outputs": [
    {
     "name": "stdout",
     "output_type": "stream",
     "text": [
      "2020 is leap year\n"
     ]
    }
   ],
   "source": [
    "is_leap_year(2020,2021)"
   ]
  },
  {
   "cell_type": "code",
   "execution_count": 87,
   "metadata": {},
   "outputs": [],
   "source": [
    "# 피보나치 수열\n",
    "def fibonacci(n):\n",
    "    a = 0\n",
    "    b = 1\n",
    "    for i in range(n):\n",
    "        p = a + b\n",
    "        if p == 1:\n",
    "            print(a,b,end=' ')\n",
    "        print(p, end=' ')\n",
    "        a = b\n",
    "        b = p\n",
    "        pass"
   ]
  },
  {
   "cell_type": "code",
   "execution_count": 88,
   "metadata": {},
   "outputs": [
    {
     "name": "stdout",
     "output_type": "stream",
     "text": [
      "0 1 1 2 3 5 8 13 21 34 55 89 "
     ]
    }
   ],
   "source": [
    "fibonacci(10)"
   ]
  },
  {
   "cell_type": "code",
   "execution_count": 89,
   "metadata": {},
   "outputs": [],
   "source": [
    "# n번째의 피보나치 수를 알고 싶다\n",
    "def fibonacci_v2(n):\n",
    "    a = 0\n",
    "    b = 1\n",
    "    for i in range(n):\n",
    "        p = a + b\n",
    "#         if p == 1:\n",
    "#             print(a,b,end=' ')\n",
    "#         print(p, end=' ')\n",
    "        a = b\n",
    "        b = p\n",
    "        pass\n",
    "    return p"
   ]
  },
  {
   "cell_type": "code",
   "execution_count": 90,
   "metadata": {},
   "outputs": [
    {
     "data": {
      "text/plain": [
       "89"
      ]
     },
     "execution_count": 90,
     "metadata": {},
     "output_type": "execute_result"
    }
   ],
   "source": [
    "fibonacci_v2(10)"
   ]
  },
  {
   "cell_type": "code",
   "execution_count": 128,
   "metadata": {},
   "outputs": [],
   "source": [
    "a = [23,87,1,92,34,54,20,19,3,90]"
   ]
  },
  {
   "cell_type": "code",
   "execution_count": 129,
   "metadata": {},
   "outputs": [],
   "source": [
    "# 내림차순 정렬\n",
    "def dec_sort(x):\n",
    "    list_a = x\n",
    "    for i in range(len(list_a)-1):\n",
    "        for j in range(i+1, (len(list_a))):\n",
    "            if list_a[i] < list_a[j]:\n",
    "                temp = list_a[i]\n",
    "                list_a[i] = list_a[j]\n",
    "                list_a[j] = temp\n",
    "                pass\n",
    "            pass\n",
    "        pass\n",
    "    return list_a"
   ]
  },
  {
   "cell_type": "code",
   "execution_count": 130,
   "metadata": {},
   "outputs": [
    {
     "name": "stdout",
     "output_type": "stream",
     "text": [
      "[23, 87, 1, 92, 34, 54, 20, 19, 3, 90]\n"
     ]
    },
    {
     "data": {
      "text/plain": [
       "[92, 90, 87, 54, 34, 23, 20, 19, 3, 1]"
      ]
     },
     "execution_count": 130,
     "metadata": {},
     "output_type": "execute_result"
    }
   ],
   "source": [
    "print(a)\n",
    "dec_sort(a)"
   ]
  },
  {
   "cell_type": "code",
   "execution_count": null,
   "metadata": {},
   "outputs": [],
   "source": []
  }
 ],
 "metadata": {
  "kernelspec": {
   "display_name": "Python 3",
   "language": "python",
   "name": "python3"
  },
  "language_info": {
   "codemirror_mode": {
    "name": "ipython",
    "version": 3
   },
   "file_extension": ".py",
   "mimetype": "text/x-python",
   "name": "python",
   "nbconvert_exporter": "python",
   "pygments_lexer": "ipython3",
   "version": "3.7.4"
  }
 },
 "nbformat": 4,
 "nbformat_minor": 2
}
