{
 "cells": [
  {
   "cell_type": "markdown",
   "metadata": {},
   "source": [
    "<h2>모스 부호표를 이용한 프로그램 만들기</h2>"
   ]
  },
  {
   "cell_type": "code",
   "execution_count": null,
   "metadata": {},
   "outputs": [],
   "source": [
    "# - 영어를 모스 부호로\n",
    "# - 모스부호를 영어로 만들기\n",
    "# - 클래스를 이용하기\n",
    "# - 단어 사이는 빈칸 하나를 이용한다"
   ]
  },
  {
   "cell_type": "code",
   "execution_count": 22,
   "metadata": {},
   "outputs": [],
   "source": [
    "# 'helloworld'를 입력할 때 각각 문자를 모스부호로 바꾸는 알고리즘\n",
    "# 알파벳과 모스부호가 일대일 대응 관계\n",
    "a = 'HELLOWORLD'\n",
    "alphabet = [chr(i) for i in range(65,65+26)]\n",
    "mos_buho = ['.-','-...','-.-.','-..','.','..-.','--.','....','..','.---','-.-','.-..','--',\n",
    "                '-.','---','.--.','--.-','.-.','...','-','..-','...-','.--','-..-','-.--','--..']\n",
    "def mos_program(x):\n",
    "    # x[0]이 alphabet 리스트에서 몇 번째에 있는 글자와 일치하는지 확인\n",
    "    # alphabet의 idx를 통해 mos_buho[idx] 출력\n",
    "    for i in range(10):\n",
    "        for j in range(26):\n",
    "            if x[i] == alphabet[j]:\n",
    "                print(mos_buho[j], end=' ')\n",
    "                pass\n",
    "            else:\n",
    "                pass\n",
    "            pass\n",
    "    pass"
   ]
  },
  {
   "cell_type": "code",
   "execution_count": 23,
   "metadata": {},
   "outputs": [
    {
     "name": "stdout",
     "output_type": "stream",
     "text": [
      ".... . .-.. .-.. --- .-- --- .-. .-.. -.. "
     ]
    }
   ],
   "source": [
    "mos_program(a)"
   ]
  },
  {
   "cell_type": "markdown",
   "metadata": {},
   "source": [
    "<h2>디지털 베이스볼 게임 만들기</h2>"
   ]
  },
  {
   "cell_type": "code",
   "execution_count": 25,
   "metadata": {},
   "outputs": [],
   "source": [
    "# 프로그램이 시작되면 중복되지 않은 숫자 4개가 생성된다.\n",
    "# 사용자가 생성된 숫자를 힌트에 따라 맞추는 게임\n",
    "# 힌트:\n",
    "# 사용자가 4자리 숫자를 한 번에 입력하면 시스템은 생성한 숫자와 비교하여 결과를 알려준다.\n",
    "# 숫자 자리와 숫자가 모두 같으면 스트라이크, 숫자 자리는 틀리고 같은 숫자가 있으면 볼로 판정하여 알려준다.\n",
    "# 예) 생성 숫자: 5421\n",
    "# 이 때, 입력 숫자 1458 -> 결과: 1스트라이크 2볼"
   ]
  },
  {
   "cell_type": "code",
   "execution_count": 40,
   "metadata": {},
   "outputs": [],
   "source": [
    "import random as rnd\n",
    "answer = []\n",
    "while True:\n",
    "    b = rnd.randrange(10)\n",
    "    if b not in answer:\n",
    "        answer.append(b)\n",
    "        pass\n",
    "    \n",
    "    if len(answer) == 4:\n",
    "        break\n"
   ]
  },
  {
   "cell_type": "code",
   "execution_count": 50,
   "metadata": {},
   "outputs": [
    {
     "data": {
      "text/plain": [
       "[6, 5, 0, 9]"
      ]
     },
     "execution_count": 50,
     "metadata": {},
     "output_type": "execute_result"
    }
   ],
   "source": [
    "answer"
   ]
  },
  {
   "cell_type": "code",
   "execution_count": null,
   "metadata": {},
   "outputs": [],
   "source": [
    "# 입력한 숫자와 정답을 비교\n",
    "# A를 입력했을 때\n",
    "# \n",
    "# if A in answer and A[idx] = answer[idx] 일 때 스트라이크\n",
    "# if A in answer and A[idx] != answer[idx] 일 때 볼\n",
    "# else 일 때 out"
   ]
  },
  {
   "cell_type": "code",
   "execution_count": 55,
   "metadata": {},
   "outputs": [],
   "source": [
    "A = [1,3,5,7]\n",
    "strike_number = []\n",
    "ball_number = []\n",
    "s_n = 0\n",
    "b_n = 0\n",
    "\n",
    "def baseball(x):\n",
    "    for i in range(4):\n",
    "        if x[i] in answer and x[i] == answer[i]:\n",
    "            strike_number.append(x[i])\n",
    "            s_n = len(strike_number)\n",
    "        elif x[i] in answer and x[i] != answer[i]:\n",
    "            ball_number.append(x[i])\n",
    "            b_n = len(ball_number)\n",
    "    print(\"{}S{}B\".format(s_n,b_n))\n",
    "\n",
    "    pass"
   ]
  },
  {
   "cell_type": "code",
   "execution_count": 56,
   "metadata": {},
   "outputs": [
    {
     "ename": "UnboundLocalError",
     "evalue": "local variable 's_n' referenced before assignment",
     "output_type": "error",
     "traceback": [
      "\u001b[1;31m---------------------------------------------------------------------------\u001b[0m",
      "\u001b[1;31mUnboundLocalError\u001b[0m                         Traceback (most recent call last)",
      "\u001b[1;32m<ipython-input-56-49f8340af391>\u001b[0m in \u001b[0;36m<module>\u001b[1;34m\u001b[0m\n\u001b[1;32m----> 1\u001b[1;33m \u001b[0mbaseball\u001b[0m\u001b[1;33m(\u001b[0m\u001b[0mA\u001b[0m\u001b[1;33m)\u001b[0m\u001b[1;33m\u001b[0m\u001b[1;33m\u001b[0m\u001b[0m\n\u001b[0m",
      "\u001b[1;32m<ipython-input-55-d1dbc9d9b93c>\u001b[0m in \u001b[0;36mbaseball\u001b[1;34m(x)\u001b[0m\n\u001b[0;32m     12\u001b[0m             \u001b[0mball_number\u001b[0m\u001b[1;33m.\u001b[0m\u001b[0mappend\u001b[0m\u001b[1;33m(\u001b[0m\u001b[0mx\u001b[0m\u001b[1;33m[\u001b[0m\u001b[0mi\u001b[0m\u001b[1;33m]\u001b[0m\u001b[1;33m)\u001b[0m\u001b[1;33m\u001b[0m\u001b[1;33m\u001b[0m\u001b[0m\n\u001b[0;32m     13\u001b[0m             \u001b[0mb_n\u001b[0m \u001b[1;33m=\u001b[0m \u001b[0mlen\u001b[0m\u001b[1;33m(\u001b[0m\u001b[0mball_number\u001b[0m\u001b[1;33m)\u001b[0m\u001b[1;33m\u001b[0m\u001b[1;33m\u001b[0m\u001b[0m\n\u001b[1;32m---> 14\u001b[1;33m     \u001b[0mprint\u001b[0m\u001b[1;33m(\u001b[0m\u001b[1;34m\"{}S{}B\"\u001b[0m\u001b[1;33m.\u001b[0m\u001b[0mformat\u001b[0m\u001b[1;33m(\u001b[0m\u001b[0ms_n\u001b[0m\u001b[1;33m,\u001b[0m\u001b[0mb_n\u001b[0m\u001b[1;33m)\u001b[0m\u001b[1;33m)\u001b[0m\u001b[1;33m\u001b[0m\u001b[1;33m\u001b[0m\u001b[0m\n\u001b[0m\u001b[0;32m     15\u001b[0m \u001b[1;33m\u001b[0m\u001b[0m\n\u001b[0;32m     16\u001b[0m     \u001b[1;32mpass\u001b[0m\u001b[1;33m\u001b[0m\u001b[1;33m\u001b[0m\u001b[0m\n",
      "\u001b[1;31mUnboundLocalError\u001b[0m: local variable 's_n' referenced before assignment"
     ]
    }
   ],
   "source": [
    "baseball(A)"
   ]
  },
  {
   "cell_type": "code",
   "execution_count": 58,
   "metadata": {},
   "outputs": [
    {
     "name": "stdout",
     "output_type": "stream",
     "text": [
      "0\n"
     ]
    }
   ],
   "source": [
    "print(\"{}\".format(0))"
   ]
  }
 ],
 "metadata": {
  "kernelspec": {
   "display_name": "Python 3",
   "language": "python",
   "name": "python3"
  },
  "language_info": {
   "codemirror_mode": {
    "name": "ipython",
    "version": 3
   },
   "file_extension": ".py",
   "mimetype": "text/x-python",
   "name": "python",
   "nbconvert_exporter": "python",
   "pygments_lexer": "ipython3",
   "version": "3.7.4"
  }
 },
 "nbformat": 4,
 "nbformat_minor": 2
}
