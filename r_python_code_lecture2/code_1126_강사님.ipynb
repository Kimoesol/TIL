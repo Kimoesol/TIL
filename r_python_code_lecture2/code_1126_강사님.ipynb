{
 "cells": [
  {
   "cell_type": "code",
   "execution_count": 16,
   "metadata": {},
   "outputs": [],
   "source": [
    "# 이차원 배열\n",
    "ele = ['o','o','o','o','o']\n",
    "cords = []\n",
    "for i in range(5):\n",
    "    cords.append(ele.copy()) # ele와 cords가 같은 것을 가리키고 있었는데, 이를 막기 위해 copy 사용\n",
    "    pass"
   ]
  },
  {
   "cell_type": "code",
   "execution_count": 9,
   "metadata": {},
   "outputs": [
    {
     "data": {
      "text/plain": [
       "[['o', 'o', 'o', 'o', 'o'],\n",
       " ['o', 'o', 'o', 'o', 'o'],\n",
       " ['o', 'o', 'o', 'o', 'o'],\n",
       " ['o', 'o', 'o', 'o', 'o'],\n",
       " ['o', 'o', 'o', 'o', 'o']]"
      ]
     },
     "execution_count": 9,
     "metadata": {},
     "output_type": "execute_result"
    }
   ],
   "source": [
    "cords"
   ]
  },
  {
   "cell_type": "code",
   "execution_count": 12,
   "metadata": {},
   "outputs": [],
   "source": [
    "def print_cord(a_list):\n",
    "    for i in a_list:\n",
    "        for j in i:\n",
    "            print(j,end=' ')\n",
    "        print()\n",
    "        pass"
   ]
  },
  {
   "cell_type": "code",
   "execution_count": 13,
   "metadata": {},
   "outputs": [
    {
     "name": "stdout",
     "output_type": "stream",
     "text": [
      "o o o o o \n",
      "o o o o o \n",
      "o o o o o \n",
      "o o o o o \n",
      "o o o o o \n"
     ]
    }
   ],
   "source": [
    "print_cord(cords)"
   ]
  },
  {
   "cell_type": "code",
   "execution_count": 20,
   "metadata": {},
   "outputs": [
    {
     "name": "stdout",
     "output_type": "stream",
     "text": [
      "o o o o o \n",
      "o x x x o \n",
      "o o o x o \n",
      "o o o x o \n",
      "o o o o o \n"
     ]
    }
   ],
   "source": [
    "cords[1][1] = 'x'\n",
    "cords[1][2] = 'x'\n",
    "cords[1][3] = 'x'\n",
    "cords[2][3] = 'x'\n",
    "cords[3][3] = 'x'\n",
    "print_cord(cords)"
   ]
  },
  {
   "cell_type": "code",
   "execution_count": 22,
   "metadata": {},
   "outputs": [
    {
     "name": "stdout",
     "output_type": "stream",
     "text": [
      "['o', 'o', 'o', 'o', 'o']\n"
     ]
    }
   ],
   "source": [
    "print(ele)"
   ]
  },
  {
   "cell_type": "code",
   "execution_count": 21,
   "metadata": {},
   "outputs": [
    {
     "name": "stdout",
     "output_type": "stream",
     "text": [
      "x o o o o \n",
      "o x x x o \n",
      "o o x x o \n",
      "o o o x o \n",
      "o o o o x \n"
     ]
    }
   ],
   "source": [
    "cords[0][0] = 'x'\n",
    "cords[2][2] = 'x'\n",
    "cords[4][4] = 'x'\n",
    "print_cord(cords)"
   ]
  },
  {
   "cell_type": "code",
   "execution_count": 24,
   "metadata": {},
   "outputs": [
    {
     "name": "stdout",
     "output_type": "stream",
     "text": [
      "0\n",
      "1\n",
      "2\n",
      "3\n",
      "4\n",
      "5\n",
      "6\n",
      "7\n",
      "8\n",
      "9\n",
      "10\n"
     ]
    }
   ],
   "source": [
    "# 리팩토링: 코드 개선\n",
    "flag = False\n",
    "count = 0\n",
    "while not flag:\n",
    "    print(count)\n",
    "    if count == 10:\n",
    "        flag = True\n",
    "    count += 1\n",
    "    pass"
   ]
  },
  {
   "cell_type": "code",
   "execution_count": 3,
   "metadata": {},
   "outputs": [],
   "source": [
    "import random as rnd"
   ]
  },
  {
   "cell_type": "code",
   "execution_count": 14,
   "metadata": {},
   "outputs": [
    {
     "name": "stdout",
     "output_type": "stream",
     "text": [
      "[11, 26, 2]\n",
      "[58, 21, 3]\n",
      "[26, 34, 72]\n",
      "[62, 38, 52]\n"
     ]
    }
   ],
   "source": [
    "a = [rnd.randrange(1,101) for i in range(3)]\n",
    "b = [rnd.randrange(1,101) for i in range(3)]\n",
    "c = [rnd.randrange(1,101) for i in range(3)]\n",
    "print(a)\n",
    "print(b)\n",
    "print(c)\n",
    "d = []\n",
    "for i in range(3):\n",
    "    temp = rnd.randrange(1,101)\n",
    "    d.append(temp)\n",
    "    pass\n",
    "print(d)"
   ]
  },
  {
   "cell_type": "code",
   "execution_count": 15,
   "metadata": {},
   "outputs": [
    {
     "name": "stdout",
     "output_type": "stream",
     "text": [
      "[[11, 26, 2], [58, 21, 3], [26, 34, 72]]\n"
     ]
    }
   ],
   "source": [
    "students = [a,b,c]\n",
    "print(students)"
   ]
  },
  {
   "cell_type": "code",
   "execution_count": 16,
   "metadata": {},
   "outputs": [
    {
     "name": "stdout",
     "output_type": "stream",
     "text": [
      "39, 13.00\n",
      "82, 27.33\n",
      "132, 44.00\n"
     ]
    }
   ],
   "source": [
    "for student in students:\n",
    "    tot = sum(student)\n",
    "    avg = tot / 3\n",
    "    print(\"{}, {:.2f}\".format(tot, avg))\n",
    "    pass"
   ]
  },
  {
   "cell_type": "code",
   "execution_count": 17,
   "metadata": {},
   "outputs": [
    {
     "data": {
      "text/plain": [
       "[['kim', 11, 26, 2], ['lee', 58, 21, 3], ['park', 26, 34, 72]]"
      ]
     },
     "execution_count": 17,
     "metadata": {},
     "output_type": "execute_result"
    }
   ],
   "source": [
    "students[0].insert(0,'kim')\n",
    "students[1].insert(0,'lee')\n",
    "students[2].insert(0,'park')\n",
    "students"
   ]
  },
  {
   "cell_type": "code",
   "execution_count": 18,
   "metadata": {},
   "outputs": [
    {
     "name": "stdout",
     "output_type": "stream",
     "text": [
      "kim 11 26 2\n",
      "lee 58 21 3\n",
      "park 26 34 72\n"
     ]
    }
   ],
   "source": [
    "for student in students:\n",
    "    print(\"{} {} {} {}\".format(student[0],student[1],student[2],student[3]))"
   ]
  },
  {
   "cell_type": "code",
   "execution_count": 6,
   "metadata": {},
   "outputs": [],
   "source": [
    "def max_value(a,b):\n",
    "    max_v = 0\n",
    "    if a > b:\n",
    "        max_v = a\n",
    "    else:\n",
    "        max_v = b\n",
    "        pass\n",
    "    return max_v"
   ]
  },
  {
   "cell_type": "code",
   "execution_count": 7,
   "metadata": {},
   "outputs": [
    {
     "data": {
      "text/plain": [
       "20"
      ]
     },
     "execution_count": 7,
     "metadata": {},
     "output_type": "execute_result"
    }
   ],
   "source": [
    "max_value(10,20)"
   ]
  },
  {
   "cell_type": "code",
   "execution_count": 29,
   "metadata": {},
   "outputs": [],
   "source": [
    "def max_value(a,b):\n",
    "    max_v = a if a > b else b\n",
    "    return max_v"
   ]
  },
  {
   "cell_type": "code",
   "execution_count": 30,
   "metadata": {},
   "outputs": [
    {
     "name": "stdout",
     "output_type": "stream",
     "text": [
      "20\n"
     ]
    }
   ],
   "source": [
    "m_max = max_value(10,20)\n",
    "print(m_max)"
   ]
  },
  {
   "cell_type": "code",
   "execution_count": 31,
   "metadata": {},
   "outputs": [
    {
     "data": {
      "text/plain": [
       "20"
      ]
     },
     "execution_count": 31,
     "metadata": {},
     "output_type": "execute_result"
    }
   ],
   "source": [
    "max_value(10,20)"
   ]
  },
  {
   "cell_type": "code",
   "execution_count": 19,
   "metadata": {},
   "outputs": [],
   "source": [
    "file = open('./data/Abc1115.txt')\n",
    "lines = file.readlines()\n",
    "file.close()"
   ]
  },
  {
   "cell_type": "code",
   "execution_count": 23,
   "metadata": {},
   "outputs": [
    {
     "name": "stdout",
     "output_type": "stream",
     "text": [
      "990001addx 17 29 16 49 43154CAC\n",
      "\n"
     ]
    }
   ],
   "source": [
    "line = lines[0]\n",
    "print(line)"
   ]
  },
  {
   "cell_type": "code",
   "execution_count": 30,
   "metadata": {},
   "outputs": [],
   "source": [
    "student_data = []\n",
    "for line in lines:\n",
    "    std_no = line[0:6]\n",
    "    email = line[6:10]\n",
    "    kor = int(line[10:13])\n",
    "    eng = int(line[13:16])\n",
    "    math = int(line[16:19])\n",
    "    sci = int(line[19:22])\n",
    "    hist = int(line[22:25])\n",
    "    tot = int(line[25:28])\n",
    "    mcode = line[28:29]\n",
    "    acode = line[29:30]\n",
    "    lcode = line[30:31]\n",
    "    temp = [std_no,email,kor,eng,math,sci,hist,tot,mcode,acode,lcode]\n",
    "    student_data.append(temp)\n",
    "    pass"
   ]
  },
  {
   "cell_type": "code",
   "execution_count": 32,
   "metadata": {},
   "outputs": [
    {
     "data": {
      "text/plain": [
       "[['990001', 'addx', 17, 29, 16, 49, 43, 154, 'C', 'A', 'C'],\n",
       " ['990002', 'stch', 30, 9, 48, 25, 81, 193, 'C', 'A', 'A'],\n",
       " ['990003', 'gali', 93, 60, 6, 84, 36, 279, 'A', 'C', 'A'],\n",
       " ['990004', 'miat', 73, 22, 48, 24, 72, 239, 'B', 'C', 'C'],\n",
       " ['990005', 'oran', 33, 38, 59, 58, 28, 216, 'C', 'B', 'A']]"
      ]
     },
     "execution_count": 32,
     "metadata": {},
     "output_type": "execute_result"
    }
   ],
   "source": [
    "student_data[0:5]"
   ]
  },
  {
   "cell_type": "code",
   "execution_count": 35,
   "metadata": {},
   "outputs": [
    {
     "name": "stdout",
     "output_type": "stream",
     "text": [
      "a b c d e f g h i j k l m n o p q r s t u v w x y z "
     ]
    }
   ],
   "source": [
    "# for 사용\n",
    "for i in range(97,97+26):\n",
    "    print(chr(i), end=' ')"
   ]
  },
  {
   "cell_type": "code",
   "execution_count": 36,
   "metadata": {},
   "outputs": [
    {
     "name": "stdout",
     "output_type": "stream",
     "text": [
      "a b c d e f g h i j k l m n o p q r s t u v w x y z "
     ]
    }
   ],
   "source": [
    "# while 사용\n",
    "i = 97\n",
    "while True:\n",
    "    print(chr(i), end=' ')\n",
    "    i = i+1\n",
    "    if i == (97+26):\n",
    "        break\n",
    "    pass"
   ]
  },
  {
   "cell_type": "code",
   "execution_count": 41,
   "metadata": {},
   "outputs": [],
   "source": [
    "m_list = []\n",
    "m_tuple = (1,2,3)\n",
    "m_dict = {}\n",
    "m_set = set([])"
   ]
  },
  {
   "cell_type": "code",
   "execution_count": 37,
   "metadata": {},
   "outputs": [
    {
     "name": "stdout",
     "output_type": "stream",
     "text": [
      "[1]\n"
     ]
    }
   ],
   "source": [
    "# 위 상황에서 엘리먼트(요소) 1을 추가하시오\n",
    "m_list.append(1)\n",
    "print(m_list)"
   ]
  },
  {
   "cell_type": "code",
   "execution_count": 42,
   "metadata": {},
   "outputs": [
    {
     "data": {
      "text/plain": [
       "1"
      ]
     },
     "execution_count": 42,
     "metadata": {},
     "output_type": "execute_result"
    }
   ],
   "source": [
    "m_tuple[0]"
   ]
  },
  {
   "cell_type": "code",
   "execution_count": 39,
   "metadata": {},
   "outputs": [
    {
     "name": "stdout",
     "output_type": "stream",
     "text": [
      "{'a': 1}\n"
     ]
    }
   ],
   "source": [
    "m_dict['a'] = 1\n",
    "print(m_dict)"
   ]
  },
  {
   "cell_type": "code",
   "execution_count": 40,
   "metadata": {},
   "outputs": [
    {
     "name": "stdout",
     "output_type": "stream",
     "text": [
      "{1}\n"
     ]
    }
   ],
   "source": [
    "m_set.add(1)\n",
    "print(m_set)"
   ]
  },
  {
   "cell_type": "code",
   "execution_count": 43,
   "metadata": {},
   "outputs": [],
   "source": [
    "# 파이썬에서 사용하는 기호 10개\n",
    "# [],(),{},:,=,%,//,+,/,*"
   ]
  },
  {
   "cell_type": "code",
   "execution_count": 44,
   "metadata": {},
   "outputs": [],
   "source": [
    "# 파이썬에서 사용하는 키워드 10개\n",
    "# if,elif,else\n",
    "# for,while\n",
    "# pass\n",
    "# True,False\n",
    "# def,return\n",
    "# break,continue"
   ]
  },
  {
   "cell_type": "code",
   "execution_count": 45,
   "metadata": {},
   "outputs": [],
   "source": [
    "# 파이썬의 들여쓰기에 대해 3개 쓰시오\n",
    "# 1. 블록(여러 줄의 문장을 하나로 묶는 역할)을 대신한다\n",
    "# 2. :과 세트를 이루어야 한다\n",
    "# 3. 계층적으로 동작\n",
    "# 4. 끝나는 부분이 없기 때문에 pass를 사용하거나 주의해서 작성해야 한다"
   ]
  },
  {
   "cell_type": "code",
   "execution_count": null,
   "metadata": {},
   "outputs": [],
   "source": [
    "# 파이썬의 \"{}\".format(a)에 대해 설명하시오\n",
    "# 출력시 하드코딩 되어있지 않고 계속해서 변하는 값을 출력하기 위한 방법\n",
    "# 출력시 보기 좋게 하는 방법\n",
    "# {}라는 위치 잡는 기호를 사용한다. 몇 개와도 관계 없다.\n",
    "# 기본적으로 {}의 수만큼 format의 실인수로 주면 된다.\n",
    "# 세밀하게 편집하려면 :을 {}에 쓰고 뒤쪽으로 표현방법을 쓰면 된다.\n",
    "# \"{:.2f}\".format(3.1415972)"
   ]
  },
  {
   "cell_type": "code",
   "execution_count": null,
   "metadata": {},
   "outputs": [],
   "source": []
  }
 ],
 "metadata": {
  "kernelspec": {
   "display_name": "Python 3",
   "language": "python",
   "name": "python3"
  },
  "language_info": {
   "codemirror_mode": {
    "name": "ipython",
    "version": 3
   },
   "file_extension": ".py",
   "mimetype": "text/x-python",
   "name": "python",
   "nbconvert_exporter": "python",
   "pygments_lexer": "ipython3",
   "version": "3.7.4"
  }
 },
 "nbformat": 4,
 "nbformat_minor": 2
}
