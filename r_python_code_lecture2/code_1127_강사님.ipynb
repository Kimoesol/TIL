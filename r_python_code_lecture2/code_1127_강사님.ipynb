{
 "cells": [
  {
   "cell_type": "code",
   "execution_count": 2,
   "metadata": {},
   "outputs": [],
   "source": [
    "import random as rnd"
   ]
  },
  {
   "cell_type": "code",
   "execution_count": 3,
   "metadata": {},
   "outputs": [],
   "source": [
    "def dash_insert(n):\n",
    "    for i in range(n):\n",
    "        temp = rnd.randint(10000000,99999999)\n",
    "        number = str(temp)\n",
    "        check = [number[0]]\n",
    "\n",
    "        for idx in range(1,len(number)):\n",
    "            check.append(number[idx])\n",
    "            size = len(check)-1\n",
    "            num1 = int(number[idx-1])\n",
    "            num2 = int(number[idx])\n",
    "            if (num1+num2)%2==0 and (num1*num2)%2==1 :\n",
    "                check.insert(size,\"-\")\n",
    "            elif (num1+num2)%2==0 and (num1*num2)%2==0:\n",
    "                check.insert(size,\"*\")\n",
    "                pass\n",
    "            pass\n",
    "\n",
    "        print(''.join(check)) \n",
    "# join(): 리스트를 특정 구분자를 포함해 문자열로 변환하는 함수 \n",
    "# split(): 문자열을 특정 구분자를 기준으로 나누어 리스트로 변환하는 함수\n",
    "        pass\n",
    "    pass\n",
    "\n",
    "    \n"
   ]
  },
  {
   "cell_type": "code",
   "execution_count": 4,
   "metadata": {},
   "outputs": [
    {
     "name": "stdout",
     "output_type": "stream",
     "text": [
      "812*8*2*616\n",
      "83052*25-5\n",
      "5896*6*63-3\n",
      "3-1-3-7-5-567\n",
      "3-1-3-9-3458\n",
      "61-3-52723\n",
      "5-1-787-5-94\n",
      "87-1-9654*4\n",
      "2*438*0327\n",
      "2*07214*45\n"
     ]
    }
   ],
   "source": [
    "dash_insert(10)"
   ]
  }
 ],
 "metadata": {
  "kernelspec": {
   "display_name": "Python 3",
   "language": "python",
   "name": "python3"
  },
  "language_info": {
   "codemirror_mode": {
    "name": "ipython",
    "version": 3
   },
   "file_extension": ".py",
   "mimetype": "text/x-python",
   "name": "python",
   "nbconvert_exporter": "python",
   "pygments_lexer": "ipython3",
   "version": "3.7.4"
  }
 },
 "nbformat": 4,
 "nbformat_minor": 2
}
