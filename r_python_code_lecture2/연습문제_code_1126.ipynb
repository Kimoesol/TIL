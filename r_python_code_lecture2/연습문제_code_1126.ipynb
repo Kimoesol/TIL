{
 "cells": [
  {
   "cell_type": "code",
   "execution_count": 40,
   "metadata": {},
   "outputs": [],
   "source": [
    "ele = ['o','o','o','o','o']\n",
    "cords = []"
   ]
  },
  {
   "cell_type": "code",
   "execution_count": 23,
   "metadata": {},
   "outputs": [],
   "source": [
    "def print_code(x):\n",
    "    for i in range(5):\n",
    "        if i == 0:\n",
    "            pass\n",
    "        else:\n",
    "            print()\n",
    "        for j in range(5):\n",
    "            print(x[j], end=' ')"
   ]
  },
  {
   "cell_type": "code",
   "execution_count": 24,
   "metadata": {},
   "outputs": [
    {
     "name": "stdout",
     "output_type": "stream",
     "text": [
      "o o o o o \n",
      "o o o o o \n",
      "o o o o o \n",
      "o o o o o \n",
      "o o o o o "
     ]
    }
   ],
   "source": [
    "print_code(ele)"
   ]
  },
  {
   "cell_type": "code",
   "execution_count": 49,
   "metadata": {},
   "outputs": [],
   "source": [
    "def print_code(x):\n",
    "    for i in range(5):\n",
    "        if i == 0:\n",
    "            pass\n",
    "        elif i == 1:\n",
    "            x = ['o','x','x','x','o']\n",
    "            print()\n",
    "        elif i == 2 or i == 3:\n",
    "            x = ['o','o','o','x','o']\n",
    "            print()\n",
    "        else:\n",
    "            x = ['o','o','o','o','o']\n",
    "            print()\n",
    "        for j in range(5):\n",
    "            print(x[j], end=' ')"
   ]
  },
  {
   "cell_type": "code",
   "execution_count": 50,
   "metadata": {},
   "outputs": [
    {
     "name": "stdout",
     "output_type": "stream",
     "text": [
      "o o o o o \n",
      "o x x x o \n",
      "o o o x o \n",
      "o o o x o \n",
      "o o o o o "
     ]
    }
   ],
   "source": [
    "print_code(ele)"
   ]
  },
  {
   "cell_type": "code",
   "execution_count": 53,
   "metadata": {},
   "outputs": [],
   "source": [
    "def print_code(x):\n",
    "    for i in range(5):\n",
    "        if i == 0:\n",
    "            x = ['x','o','o','o','o']\n",
    "        elif i == 1:\n",
    "            x = ['o','x','x','x','o']\n",
    "            print()\n",
    "        elif i == 2:\n",
    "            x = ['o','o','x','x','o']\n",
    "            print()\n",
    "        elif i == 3:\n",
    "            x = ['o','o','o','x','o']\n",
    "            print()\n",
    "        else:\n",
    "            x = ['o','o','o','o','x']\n",
    "            print()\n",
    "        for j in range(5):\n",
    "            print(x[j], end=' ')"
   ]
  },
  {
   "cell_type": "code",
   "execution_count": 54,
   "metadata": {},
   "outputs": [
    {
     "name": "stdout",
     "output_type": "stream",
     "text": [
      "x o o o o \n",
      "o x x x o \n",
      "o o x x o \n",
      "o o o x o \n",
      "o o o o x "
     ]
    }
   ],
   "source": [
    "print_code(ele)"
   ]
  },
  {
   "cell_type": "code",
   "execution_count": 55,
   "metadata": {},
   "outputs": [
    {
     "name": "stdout",
     "output_type": "stream",
     "text": [
      "['o', 'o', 'o', 'o', 'o']\n"
     ]
    }
   ],
   "source": [
    "print(ele)"
   ]
  },
  {
   "cell_type": "code",
   "execution_count": 60,
   "metadata": {},
   "outputs": [
    {
     "name": "stdout",
     "output_type": "stream",
     "text": [
      "0\n",
      "1\n",
      "2\n",
      "3\n",
      "4\n",
      "5\n",
      "6\n",
      "7\n",
      "8\n",
      "9\n",
      "10\n"
     ]
    }
   ],
   "source": [
    "flag = False\n",
    "count = 0\n",
    "while not flag:\n",
    "    print(count)\n",
    "    if count == 10:\n",
    "        flag = True\n",
    "        pass\n",
    "    count += 1\n",
    "    pass"
   ]
  },
  {
   "cell_type": "code",
   "execution_count": 2,
   "metadata": {},
   "outputs": [],
   "source": [
    "import random as rnd"
   ]
  },
  {
   "cell_type": "code",
   "execution_count": 5,
   "metadata": {},
   "outputs": [],
   "source": [
    "a = [rnd.randrange(1,101) for i in range(3)]\n",
    "b = [rnd.randrange(1,101) for i in range(3)]\n",
    "c = [rnd.randrange(1,101) for i in range(3)]"
   ]
  },
  {
   "cell_type": "code",
   "execution_count": 6,
   "metadata": {},
   "outputs": [
    {
     "data": {
      "text/plain": [
       "[[43, 35, 39], [95, 28, 61], [83, 87, 23]]"
      ]
     },
     "execution_count": 6,
     "metadata": {},
     "output_type": "execute_result"
    }
   ],
   "source": [
    "students = [a,b,c]\n",
    "students"
   ]
  },
  {
   "cell_type": "code",
   "execution_count": null,
   "metadata": {},
   "outputs": [],
   "source": []
  }
 ],
 "metadata": {
  "kernelspec": {
   "display_name": "Python 3",
   "language": "python",
   "name": "python3"
  },
  "language_info": {
   "codemirror_mode": {
    "name": "ipython",
    "version": 3
   },
   "file_extension": ".py",
   "mimetype": "text/x-python",
   "name": "python",
   "nbconvert_exporter": "python",
   "pygments_lexer": "ipython3",
   "version": "3.7.4"
  }
 },
 "nbformat": 4,
 "nbformat_minor": 2
}
