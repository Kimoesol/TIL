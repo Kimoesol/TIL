{
 "cells": [
  {
   "cell_type": "code",
   "execution_count": 97,
   "metadata": {},
   "outputs": [],
   "source": [
    "# 엑셀 파일 불러오기\n",
    "file = pd.read_csv('test1.csv', encoding='cp949')"
   ]
  },
  {
   "cell_type": "code",
   "execution_count": 98,
   "metadata": {},
   "outputs": [],
   "source": [
    "from selenium import webdriver\n",
    "from selenium.webdriver.common.keys import Keys\n",
    "import pandas as pd\n",
    "import time"
   ]
  },
  {
   "cell_type": "code",
   "execution_count": 110,
   "metadata": {},
   "outputs": [],
   "source": [
    "driver = webdriver.Chrome()\n",
    "driver.implicitly_wait(2)"
   ]
  },
  {
   "cell_type": "code",
   "execution_count": 111,
   "metadata": {},
   "outputs": [],
   "source": [
    "# 메인 페이지 들어가기\n",
    "driver.get('https://seereal.lh.or.kr/main.do')"
   ]
  },
  {
   "cell_type": "code",
   "execution_count": 112,
   "metadata": {},
   "outputs": [],
   "source": [
    "# 팝업 창 닫기\n",
    "driver.find_element_by_xpath('/html/body/div[3]/div[1]/div[2]/div/span/input').click()"
   ]
  },
  {
   "cell_type": "code",
   "execution_count": 113,
   "metadata": {},
   "outputs": [],
   "source": [
    "# 부동산 종합정보 대제목 클릭하기\n",
    "driver.find_element_by_xpath('/html/body/div[3]/div[3]/div[1]/ul/li[2]/a').click()"
   ]
  },
  {
   "cell_type": "code",
   "execution_count": 114,
   "metadata": {},
   "outputs": [
    {
     "name": "stderr",
     "output_type": "stream",
     "text": [
      "C:\\Users\\rladh\\Anaconda3\\envs\\tensorflow\\lib\\site-packages\\ipykernel_launcher.py:34: SettingWithCopyWarning: \n",
      "A value is trying to be set on a copy of a slice from a DataFrame\n",
      "\n",
      "See the caveats in the documentation: https://pandas.pydata.org/pandas-docs/stable/user_guide/indexing.html#returning-a-view-versus-a-copy\n"
     ]
    }
   ],
   "source": [
    "### 반복문 사용 구간 ###\n",
    "for i in range(len(file['소유관계'])):\n",
    "    # 1. 부동산 종합정보 소제목 클릭하기\n",
    "    driver.find_element_by_xpath('/html/body/div[3]/div[3]/div[1]/ul/li[2]/ul/li[1]/a').click()\n",
    "    time.sleep(0.5)\n",
    "    \n",
    "    # 2. 검색할 주소 정의하기\n",
    "    search_name = '서울특별시' + ' ' + file['행정구역'][i] + ' ' + file['Unnamed: 2'][i] + ' ' + str(file['지번'][i]) + '-' + str(file['Unnamed: 4'][i])\n",
    "    \n",
    "    # 3. 주소 입력하기\n",
    "    search = driver.find_element_by_xpath('/html/body/div[3]/div[3]/div[4]/section/div/div[2]/div[4]/div[1]/div[1]/input').send_keys(search_name)\n",
    "    time.sleep(0.5)\n",
    "    \n",
    "    # 4. Enter 입력\n",
    "    driver.find_element_by_xpath('/html/body/div[3]/div[3]/div[4]/section/div/div[2]/div[4]/div[1]/div[1]/a').click()\n",
    "    time.sleep(3)\n",
    "    \n",
    "    # 5. 스크롤 내리기\n",
    "    driver.execute_script('window.scrollTo(0, 1000);')\n",
    "    time.sleep(0.5)\n",
    "    \n",
    "    # 6. 첫 번째에 제시된 주소 클릭하기\n",
    "    driver.find_element_by_xpath('/html/body/div[3]/div[3]/div[4]/section/div/div[2]/div[4]/div[1]/div[2]/div/div/a[1]/ul/li[1]').click()\n",
    "    time.sleep(5)\n",
    "    \n",
    "    # 7. 스크롤 내리기\n",
    "    driver.execute_script('window.scrollTo(0, 500);')\n",
    "    time.sleep(0.5)\n",
    "    \n",
    "    # 8. 정보 추출하기\n",
    "    info = driver.find_element_by_xpath('/html/body/div[3]/div[3]/div[4]/section/div/div[2]/section/section[1]/div[2]/table/tbody/tr/td[1]').text\n",
    "    \n",
    "    # 9. 추출한 정보를 데이터프레임에 입력하기\n",
    "    file['소유관계'][i] = info"
   ]
  },
  {
   "cell_type": "code",
   "execution_count": 115,
   "metadata": {},
   "outputs": [],
   "source": [
    "# 데이터프레임 -> 엑셀 파일로 [인덱스 없이] 저장하기\n",
    "file.to_excel('test2.xlsx', index=False)"
   ]
  }
 ],
 "metadata": {
  "kernelspec": {
   "display_name": "Python 3",
   "language": "python",
   "name": "python3"
  },
  "language_info": {
   "codemirror_mode": {
    "name": "ipython",
    "version": 3
   },
   "file_extension": ".py",
   "mimetype": "text/x-python",
   "name": "python",
   "nbconvert_exporter": "python",
   "pygments_lexer": "ipython3",
   "version": "3.7.6"
  }
 },
 "nbformat": 4,
 "nbformat_minor": 2
}
