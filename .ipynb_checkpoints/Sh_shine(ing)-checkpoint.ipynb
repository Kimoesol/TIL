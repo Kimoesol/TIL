{
 "cells": [
  {
   "cell_type": "code",
   "execution_count": 3,
   "metadata": {},
   "outputs": [],
   "source": [
    "# 엑셀 파일 불러오기\n",
    "file = pd.read_csv('testsample.csv', encoding='cp949')"
   ]
  },
  {
   "cell_type": "code",
   "execution_count": 2,
   "metadata": {},
   "outputs": [],
   "source": [
    "from selenium import webdriver\n",
    "from selenium.webdriver.common.keys import Keys\n",
    "import pandas as pd\n",
    "import time"
   ]
  },
  {
   "cell_type": "code",
   "execution_count": 65,
   "metadata": {},
   "outputs": [],
   "source": [
    "driver = webdriver.Chrome()\n",
    "driver.implicitly_wait(3)"
   ]
  },
  {
   "cell_type": "code",
   "execution_count": 66,
   "metadata": {},
   "outputs": [],
   "source": [
    "# 메인 페이지 들어가기\n",
    "driver.get('https://seereal.lh.or.kr/main.do')"
   ]
  },
  {
   "cell_type": "code",
   "execution_count": 67,
   "metadata": {},
   "outputs": [],
   "source": [
    "# 팝업 창 닫기: 팝업이 자주 바뀌므로 이에 대한 xpath를 그때그때 바꿔줘야 함\n",
    "driver.find_element_by_xpath('/html/body/div[3]/div[1]/img').click()"
   ]
  },
  {
   "cell_type": "code",
   "execution_count": 68,
   "metadata": {},
   "outputs": [],
   "source": [
    "# 부동산 종합정보 대제목 클릭하기\n",
    "driver.find_element_by_xpath('/html/body/div[3]/div[3]/div[1]/ul/li[2]/a').click()"
   ]
  },
  {
   "cell_type": "code",
   "execution_count": 71,
   "metadata": {},
   "outputs": [],
   "source": [
    "from tqdm.notebook import tqdm"
   ]
  },
  {
   "cell_type": "code",
   "execution_count": 72,
   "metadata": {},
   "outputs": [
    {
     "data": {
      "application/vnd.jupyter.widget-view+json": {
       "model_id": "152c497185fd4b2bb8cadbe2598434bd",
       "version_major": 2,
       "version_minor": 0
      },
      "text/plain": [
       "HBox(children=(FloatProgress(value=0.0, max=24.0), HTML(value='')))"
      ]
     },
     "metadata": {},
     "output_type": "display_data"
    },
    {
     "name": "stderr",
     "output_type": "stream",
     "text": [
      "C:\\Users\\rladh\\Anaconda3\\envs\\tensorflow\\lib\\site-packages\\ipykernel_launcher.py:42: SettingWithCopyWarning: \n",
      "A value is trying to be set on a copy of a slice from a DataFrame\n",
      "\n",
      "See the caveats in the documentation: https://pandas.pydata.org/pandas-docs/stable/user_guide/indexing.html#returning-a-view-versus-a-copy\n"
     ]
    },
    {
     "name": "stdout",
     "output_type": "stream",
     "text": [
      "\n"
     ]
    }
   ],
   "source": [
    "### 반복문 사용 구간 ###\n",
    "for i in tqdm(range(len(file['소유관계']))):\n",
    "    \n",
    "    # 1. 부동산 종합정보 소제목 클릭하기\n",
    "    driver.find_element_by_xpath('/html/body/div[3]/div[3]/div[1]/ul/li[2]/ul/li[1]/a').click()\n",
    "    time.sleep(0.3)\n",
    "    \n",
    "    # 2. 검색할 주소 정의하기\n",
    "    search_name = '서울특별시' + ' ' + file['행정구역'][i] + ' ' + file['Unnamed: 2'][i] + ' ' + str(file['지번'][i]) + '-' + str(file['Unnamed: 4'][i])\n",
    "    \n",
    "    # 3. 주소 입력하기\n",
    "    search = driver.find_element_by_xpath('/html/body/div[3]/div[3]/div[4]/section/div/div[2]/div[4]/div[1]/div[1]/input').send_keys(search_name)\n",
    "    time.sleep(0.5)\n",
    "    \n",
    "    # 4. Enter 입력\n",
    "    driver.find_element_by_xpath('/html/body/div[3]/div[3]/div[4]/section/div/div[2]/div[4]/div[1]/div[1]/a').click()\n",
    "    time.sleep(3)\n",
    "    \n",
    "    # 5. 스크롤 내리기\n",
    "    driver.execute_script('window.scrollTo(0, 1000);')\n",
    "    time.sleep(0.5)\n",
    " \n",
    "    # 6. 첫 번째에 제시된 주소 클릭하기 [주소가 하나만 나오면 클릭할게 없기 때문에 이 과정이 필요없다, 이 때 어떻게 처리할지 연구해야 함!]\n",
    "    try:\n",
    "        driver.find_element_by_xpath('/html/body/div[3]/div[3]/div[4]/section/div/div[2]/div[4]/div[1]/div[2]/div/div/a[1]/ul/li[1]').click()\n",
    "        time.sleep(10) # 이 부분이 인터넷 속도에 따라 문제가 발생할 수 있기 때문에 시간을 여유롭게 설정해야 함\n",
    "    except:\n",
    "        continue\n",
    "    \n",
    "    # 7. 스크롤 내리기\n",
    "    driver.execute_script('window.scrollTo(0, 1500);')\n",
    "    time.sleep(0.5)\n",
    "    \n",
    "    # 8. 정보 추출하기\n",
    "    try:\n",
    "        info = driver.find_element_by_xpath('/html/body/div[3]/div[3]/div[4]/section/div/div[2]/section/section[1]/div[2]/table/tbody/tr/td[1]').text\n",
    "        time.sleep(0.3)\n",
    "    except:\n",
    "        continue\n",
    "        time.sleep(0.3)\n",
    "    # 9. 추출한 정보를 데이터프레임에 입력하기\n",
    "    file['소유관계'][i] = info"
   ]
  },
  {
   "cell_type": "code",
   "execution_count": 74,
   "metadata": {},
   "outputs": [],
   "source": [
    "# 데이터프레임 -> 엑셀 파일로 [인덱스 없이] 저장하기\n",
    "file.to_excel('testend.xlsx', index=False)"
   ]
  }
 ],
 "metadata": {
  "kernelspec": {
   "display_name": "Python 3",
   "language": "python",
   "name": "python3"
  },
  "language_info": {
   "codemirror_mode": {
    "name": "ipython",
    "version": 3
   },
   "file_extension": ".py",
   "mimetype": "text/x-python",
   "name": "python",
   "nbconvert_exporter": "python",
   "pygments_lexer": "ipython3",
   "version": "3.7.6"
  }
 },
 "nbformat": 4,
 "nbformat_minor": 2
}
