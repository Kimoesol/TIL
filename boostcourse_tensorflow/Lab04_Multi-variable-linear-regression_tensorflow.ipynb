{
 "cells": [
  {
   "cell_type": "code",
   "execution_count": 7,
   "metadata": {},
   "outputs": [],
   "source": [
    "import tensorflow as tf\n",
    "import numpy as np"
   ]
  },
  {
   "cell_type": "code",
   "execution_count": 4,
   "metadata": {},
   "outputs": [
    {
     "name": "stdout",
     "output_type": "stream",
     "text": [
      "    0 |  115555.4375\n",
      "   50 |    1296.5602\n",
      "  100 |      28.7008\n",
      "  150 |      14.5943\n",
      "  200 |      14.3997\n",
      "  250 |      14.3595\n",
      "  300 |      14.3211\n",
      "  350 |      14.2828\n",
      "  400 |      14.2447\n",
      "  450 |      14.2066\n",
      "  500 |      14.1687\n",
      "  550 |      14.1309\n",
      "  600 |      14.0932\n",
      "  650 |      14.0555\n",
      "  700 |      14.0181\n",
      "  750 |      13.9807\n",
      "  800 |      13.9434\n",
      "  850 |      13.9061\n",
      "  900 |      13.8691\n",
      "  950 |      13.8321\n",
      " 1000 |      13.7951\n"
     ]
    }
   ],
   "source": [
    "# data and label\n",
    "x1 = [73., 93., 89., 96., 73.]\n",
    "x2 = [80., 88., 91., 98., 66.]\n",
    "x3 = [75., 93., 90., 100., 70.]\n",
    "Y = [152., 185., 180., 196., 142.]\n",
    "\n",
    "# random weights\n",
    "w1 = tf.Variable(tf.compat.v1.random_normal([1]))\n",
    "w2 = tf.Variable(tf.compat.v1.random_normal([1]))\n",
    "w3 = tf.Variable(tf.compat.v1.random_normal([1]))\n",
    "b = tf.Variable(tf.compat.v1.random_normal([1]))\n",
    "\n",
    "learning_rate = 0.000001\n",
    "\n",
    "for i in range(1000+1):\n",
    "    # tf.GradientTape() to record the gradient of the cost function\n",
    "    with tf.GradientTape() as tape:\n",
    "        hypothesis = w1 * x1 + w2 * x2 + w3 * x3 + b\n",
    "        cost = tf.reduce_mean(tf.square(hypothesis - Y))\n",
    "    # calculates the gradients of the cost\n",
    "    w1_grad, w2_grad, w3_grad, b_grad = tape.gradient(cost, [w1, w2, w3, b])\n",
    "    \n",
    "    # update w1, w2, w3 and b\n",
    "    w1.assign_sub(learning_rate * w1_grad)\n",
    "    w2.assign_sub(learning_rate * w2_grad)\n",
    "    w3.assign_sub(learning_rate * w3_grad)\n",
    "    b.assign_sub(learning_rate * b_grad)\n",
    "    \n",
    "    if i % 50 == 0:\n",
    "        print(\"{:5} | {:12.4f}\".format(i, cost.numpy()))"
   ]
  },
  {
   "cell_type": "code",
   "execution_count": 9,
   "metadata": {},
   "outputs": [
    {
     "name": "stdout",
     "output_type": "stream",
     "text": [
      "    0 | 43700.2578\n",
      "  100 |    41.5390\n",
      "  200 |    35.9783\n",
      "  300 |    35.7932\n",
      "  400 |    35.6097\n",
      "  500 |    35.4272\n",
      "  600 |    35.2457\n",
      "  700 |    35.0652\n",
      "  800 |    34.8857\n",
      "  900 |    34.7071\n",
      " 1000 |    34.5294\n",
      " 1100 |    34.3527\n",
      " 1200 |    34.1770\n",
      " 1300 |    34.0022\n",
      " 1400 |    33.8284\n",
      " 1500 |    33.6556\n",
      " 1600 |    33.4836\n",
      " 1700 |    33.3125\n",
      " 1800 |    33.1424\n",
      " 1900 |    32.9732\n",
      " 2000 |    32.8048\n"
     ]
    }
   ],
   "source": [
    "data = np.array([[73., 80., 75., 152.],\n",
    "                [93., 88., 93., 185.],\n",
    "                [89., 91., 90., 180.],\n",
    "                [96., 98., 100., 196.],\n",
    "                [73., 66., 70., 142.]], dtype=np.float32)\n",
    "\n",
    "# slice data\n",
    "X = data[:,:-1]\n",
    "y = data[:, [-1]]\n",
    "\n",
    "W = tf.Variable(tf.compat.v1.random_normal([3,1]))\n",
    "b = tf.Variable(tf.compat.v1.random_normal([1]))\n",
    "\n",
    "learning_rate = 0.000001\n",
    "\n",
    "# hypothesis, prediction function\n",
    "def predict(X):\n",
    "    return tf.matmul(X, W) + b\n",
    "\n",
    "n_epochs = 2000\n",
    "for i in range(n_epochs+1):\n",
    "    # record the gradient of the cost function\n",
    "    with tf.GradientTape() as tape:\n",
    "        cost = tf.reduce_mean((tf.square(predict(X)-y)))\n",
    "        \n",
    "    # calculates the gradients of the loss\n",
    "    W_grad, b_grad = tape.gradient(cost, [W,b])\n",
    "    \n",
    "    # updates parameters (W and b)\n",
    "    W.assign_sub(learning_rate * W_grad)\n",
    "    b.assign_sub(learning_rate * b_grad)\n",
    "    \n",
    "    if i % 100 == 0:\n",
    "        print(\"{:5} | {:10.4f}\".format(i, cost.numpy()))"
   ]
  }
 ],
 "metadata": {
  "kernelspec": {
   "display_name": "Python 3",
   "language": "python",
   "name": "python3"
  },
  "language_info": {
   "codemirror_mode": {
    "name": "ipython",
    "version": 3
   },
   "file_extension": ".py",
   "mimetype": "text/x-python",
   "name": "python",
   "nbconvert_exporter": "python",
   "pygments_lexer": "ipython3",
   "version": "3.7.4"
  }
 },
 "nbformat": 4,
 "nbformat_minor": 4
}
