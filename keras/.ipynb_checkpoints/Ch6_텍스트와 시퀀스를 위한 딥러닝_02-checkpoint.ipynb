{
 "cells": [
  {
   "cell_type": "markdown",
   "metadata": {},
   "source": [
    "### RNN"
   ]
  },
  {
   "cell_type": "code",
   "execution_count": null,
   "metadata": {},
   "outputs": [],
   "source": [
    "# 의사코드로 표현한 RNN\n",
    "state_t = 0 # 타임스텝 t의 상태\n",
    "for input_t in input_sequence: # 시퀀스의 원소를 반복\n",
    "    output_t = f(input_t, state_t)\n",
    "    state_t = output_t # 출력은 다음 반복을 위한 상태가 됨"
   ]
  },
  {
   "cell_type": "code",
   "execution_count": null,
   "metadata": {},
   "outputs": [],
   "source": [
    "# 좀 더 자세한 의사코드로 표현한 RNN\n",
    "state_t = 0\n",
    "for input_t in input_sequence:\n",
    "    output_t = activation(dot(W, input_t) + dot(U, input_t) + b)\n",
    "    state_t = output_t"
   ]
  },
  {
   "cell_type": "code",
   "execution_count": 2,
   "metadata": {},
   "outputs": [],
   "source": [
    "# 넘파이로 구현한 간단한 RNN\n",
    "import numpy as np\n",
    "\n",
    "timesteps = 100 # 입력 시퀀스에 있는 타임스텝의 수\n",
    "input_features = 32 # 입력 특성의 차원\n",
    "output_features = 64\n",
    "\n",
    "inputs = np.random.random((timesteps, input_features)) # 입력 데이터: 예제를 위해 생성한 난수\n",
    "\n",
    "state_t = np.zeros((output_features, )) # 초기 상태: 모두 0인 벡터\n",
    "\n",
    "# 랜덤한 가중치 행렬을 만듦\n",
    "W = np.random.random((output_features, input_features))\n",
    "U = np.random.random((output_features, output_features))\n",
    "b = np.random.random((output_features, ))\n",
    "\n",
    "successive_outputs = []\n",
    "for input_t in inputs: # input_t는 크기가 (input_features,)인 벡터\n",
    "    # 입력과 현재 상태(이전 출력)를 연결하여 현재 출력을 얻음\n",
    "    output_t = np.tanh(np.dot(W, input_t) + np.dot(U, state_t) + b)\n",
    "    # 이 출력을 리스트에 저장함\n",
    "    successive_outputs.append(output_t)\n",
    "    # 다음 타임스텝을 위해 네트워크의 상태를 업데이트함\n",
    "    state_t = output_t\n",
    "    \n",
    "# 최종 출력은 크기가 (timesteps, output_features)인 2D 텐서\n",
    "final_output_sequence = np.stack(successive_outputs, axis=0)"
   ]
  },
  {
   "cell_type": "code",
   "execution_count": 3,
   "metadata": {},
   "outputs": [
    {
     "name": "stderr",
     "output_type": "stream",
     "text": [
      "Using TensorFlow backend.\n",
      "c:\\users\\rladh\\anaconda3\\envs\\py36\\lib\\site-packages\\tensorflow\\python\\framework\\dtypes.py:516: FutureWarning: Passing (type, 1) or '1type' as a synonym of type is deprecated; in a future version of numpy, it will be understood as (type, (1,)) / '(1,)type'.\n",
      "  _np_qint8 = np.dtype([(\"qint8\", np.int8, 1)])\n",
      "c:\\users\\rladh\\anaconda3\\envs\\py36\\lib\\site-packages\\tensorflow\\python\\framework\\dtypes.py:517: FutureWarning: Passing (type, 1) or '1type' as a synonym of type is deprecated; in a future version of numpy, it will be understood as (type, (1,)) / '(1,)type'.\n",
      "  _np_quint8 = np.dtype([(\"quint8\", np.uint8, 1)])\n",
      "c:\\users\\rladh\\anaconda3\\envs\\py36\\lib\\site-packages\\tensorflow\\python\\framework\\dtypes.py:518: FutureWarning: Passing (type, 1) or '1type' as a synonym of type is deprecated; in a future version of numpy, it will be understood as (type, (1,)) / '(1,)type'.\n",
      "  _np_qint16 = np.dtype([(\"qint16\", np.int16, 1)])\n",
      "c:\\users\\rladh\\anaconda3\\envs\\py36\\lib\\site-packages\\tensorflow\\python\\framework\\dtypes.py:519: FutureWarning: Passing (type, 1) or '1type' as a synonym of type is deprecated; in a future version of numpy, it will be understood as (type, (1,)) / '(1,)type'.\n",
      "  _np_quint16 = np.dtype([(\"quint16\", np.uint16, 1)])\n",
      "c:\\users\\rladh\\anaconda3\\envs\\py36\\lib\\site-packages\\tensorflow\\python\\framework\\dtypes.py:520: FutureWarning: Passing (type, 1) or '1type' as a synonym of type is deprecated; in a future version of numpy, it will be understood as (type, (1,)) / '(1,)type'.\n",
      "  _np_qint32 = np.dtype([(\"qint32\", np.int32, 1)])\n",
      "c:\\users\\rladh\\anaconda3\\envs\\py36\\lib\\site-packages\\tensorflow\\python\\framework\\dtypes.py:525: FutureWarning: Passing (type, 1) or '1type' as a synonym of type is deprecated; in a future version of numpy, it will be understood as (type, (1,)) / '(1,)type'.\n",
      "  np_resource = np.dtype([(\"resource\", np.ubyte, 1)])\n",
      "c:\\users\\rladh\\anaconda3\\envs\\py36\\lib\\site-packages\\tensorboard\\compat\\tensorflow_stub\\dtypes.py:541: FutureWarning: Passing (type, 1) or '1type' as a synonym of type is deprecated; in a future version of numpy, it will be understood as (type, (1,)) / '(1,)type'.\n",
      "  _np_qint8 = np.dtype([(\"qint8\", np.int8, 1)])\n",
      "c:\\users\\rladh\\anaconda3\\envs\\py36\\lib\\site-packages\\tensorboard\\compat\\tensorflow_stub\\dtypes.py:542: FutureWarning: Passing (type, 1) or '1type' as a synonym of type is deprecated; in a future version of numpy, it will be understood as (type, (1,)) / '(1,)type'.\n",
      "  _np_quint8 = np.dtype([(\"quint8\", np.uint8, 1)])\n",
      "c:\\users\\rladh\\anaconda3\\envs\\py36\\lib\\site-packages\\tensorboard\\compat\\tensorflow_stub\\dtypes.py:543: FutureWarning: Passing (type, 1) or '1type' as a synonym of type is deprecated; in a future version of numpy, it will be understood as (type, (1,)) / '(1,)type'.\n",
      "  _np_qint16 = np.dtype([(\"qint16\", np.int16, 1)])\n",
      "c:\\users\\rladh\\anaconda3\\envs\\py36\\lib\\site-packages\\tensorboard\\compat\\tensorflow_stub\\dtypes.py:544: FutureWarning: Passing (type, 1) or '1type' as a synonym of type is deprecated; in a future version of numpy, it will be understood as (type, (1,)) / '(1,)type'.\n",
      "  _np_quint16 = np.dtype([(\"quint16\", np.uint16, 1)])\n",
      "c:\\users\\rladh\\anaconda3\\envs\\py36\\lib\\site-packages\\tensorboard\\compat\\tensorflow_stub\\dtypes.py:545: FutureWarning: Passing (type, 1) or '1type' as a synonym of type is deprecated; in a future version of numpy, it will be understood as (type, (1,)) / '(1,)type'.\n",
      "  _np_qint32 = np.dtype([(\"qint32\", np.int32, 1)])\n",
      "c:\\users\\rladh\\anaconda3\\envs\\py36\\lib\\site-packages\\tensorboard\\compat\\tensorflow_stub\\dtypes.py:550: FutureWarning: Passing (type, 1) or '1type' as a synonym of type is deprecated; in a future version of numpy, it will be understood as (type, (1,)) / '(1,)type'.\n",
      "  np_resource = np.dtype([(\"resource\", np.ubyte, 1)])\n"
     ]
    },
    {
     "name": "stdout",
     "output_type": "stream",
     "text": [
      "Model: \"sequential_1\"\n",
      "_________________________________________________________________\n",
      "Layer (type)                 Output Shape              Param #   \n",
      "=================================================================\n",
      "embedding_1 (Embedding)      (None, None, 32)          320000    \n",
      "_________________________________________________________________\n",
      "simple_rnn_1 (SimpleRNN)     (None, 32)                2080      \n",
      "=================================================================\n",
      "Total params: 322,080\n",
      "Trainable params: 322,080\n",
      "Non-trainable params: 0\n",
      "_________________________________________________________________\n"
     ]
    }
   ],
   "source": [
    "from keras.models import Sequential\n",
    "from keras.layers import Embedding, SimpleRNN\n",
    "model = Sequential()\n",
    "model.add(Embedding(10000,32))\n",
    "model.add(SimpleRNN(32))\n",
    "model.summary()"
   ]
  },
  {
   "cell_type": "code",
   "execution_count": 4,
   "metadata": {},
   "outputs": [
    {
     "name": "stdout",
     "output_type": "stream",
     "text": [
      "Model: \"sequential_2\"\n",
      "_________________________________________________________________\n",
      "Layer (type)                 Output Shape              Param #   \n",
      "=================================================================\n",
      "embedding_2 (Embedding)      (None, None, 32)          320000    \n",
      "_________________________________________________________________\n",
      "simple_rnn_2 (SimpleRNN)     (None, None, 32)          2080      \n",
      "=================================================================\n",
      "Total params: 322,080\n",
      "Trainable params: 322,080\n",
      "Non-trainable params: 0\n",
      "_________________________________________________________________\n"
     ]
    }
   ],
   "source": [
    "model = Sequential()\n",
    "model.add(Embedding(10000,32))\n",
    "model.add(SimpleRNN(32, return_sequences=True))\n",
    "model.summary()"
   ]
  },
  {
   "cell_type": "code",
   "execution_count": 5,
   "metadata": {},
   "outputs": [
    {
     "name": "stdout",
     "output_type": "stream",
     "text": [
      "Model: \"sequential_3\"\n",
      "_________________________________________________________________\n",
      "Layer (type)                 Output Shape              Param #   \n",
      "=================================================================\n",
      "embedding_3 (Embedding)      (None, None, 32)          320000    \n",
      "_________________________________________________________________\n",
      "simple_rnn_3 (SimpleRNN)     (None, None, 32)          2080      \n",
      "_________________________________________________________________\n",
      "simple_rnn_4 (SimpleRNN)     (None, None, 32)          2080      \n",
      "_________________________________________________________________\n",
      "simple_rnn_5 (SimpleRNN)     (None, None, 32)          2080      \n",
      "_________________________________________________________________\n",
      "simple_rnn_6 (SimpleRNN)     (None, 32)                2080      \n",
      "=================================================================\n",
      "Total params: 328,320\n",
      "Trainable params: 328,320\n",
      "Non-trainable params: 0\n",
      "_________________________________________________________________\n"
     ]
    }
   ],
   "source": [
    "model = Sequential()\n",
    "model.add(Embedding(10000,32))\n",
    "model.add(SimpleRNN(32, return_sequences=True))\n",
    "model.add(SimpleRNN(32, return_sequences=True))\n",
    "model.add(SimpleRNN(32, return_sequences=True))\n",
    "model.add(SimpleRNN(32)) # 맨 위 층만 마지막 출력을 반환\n",
    "model.summary()"
   ]
  },
  {
   "cell_type": "code",
   "execution_count": 6,
   "metadata": {},
   "outputs": [
    {
     "name": "stdout",
     "output_type": "stream",
     "text": [
      "데이터 로딩...\n",
      "25000 훈련 시퀀스\n",
      "25000 테스트 시퀀스\n",
      "시퀀스 패딩 (samples x time)\n",
      "input_train 크기: (25000, 500)\n",
      "input_test 크기: (25000, 500)\n"
     ]
    }
   ],
   "source": [
    "# IMDB 데이터 전처리하기\n",
    "from keras.datasets import imdb\n",
    "from keras.preprocessing import sequence\n",
    "\n",
    "max_features = 10000 # 특성으로 사용할 단어의 수\n",
    "maxlen = 500 # 사용할 텍스트의 길이 (가장 빈번한 max_features개의 단어만 사용)\n",
    "batch_size = 32\n",
    "\n",
    "print('데이터 로딩...')\n",
    "(input_train, y_train), (input_test, y_test) = imdb.load_data(num_words=max_features)\n",
    "print(len(input_train), '훈련 시퀀스')\n",
    "print(len(input_test), '테스트 시퀀스')\n",
    "\n",
    "print('시퀀스 패딩 (samples x time)')\n",
    "input_train = sequence.pad_sequences(input_train, maxlen=maxlen)\n",
    "input_test = sequence.pad_sequences(input_test, maxlen=maxlen)\n",
    "print('input_train 크기:', input_train.shape)\n",
    "print('input_test 크기:', input_test.shape)"
   ]
  },
  {
   "cell_type": "code",
   "execution_count": 8,
   "metadata": {},
   "outputs": [
    {
     "name": "stdout",
     "output_type": "stream",
     "text": [
      "Train on 20000 samples, validate on 5000 samples\n",
      "Epoch 1/10\n",
      "20000/20000 [==============================] - 25s 1ms/step - loss: 0.6657 - acc: 0.5850 - val_loss: 0.5937 - val_acc: 0.6716\n",
      "Epoch 2/10\n",
      "20000/20000 [==============================] - 23s 1ms/step - loss: 0.4263 - acc: 0.8144 - val_loss: 0.4596 - val_acc: 0.7888\n",
      "Epoch 3/10\n",
      "20000/20000 [==============================] - 23s 1ms/step - loss: 0.2891 - acc: 0.8841 - val_loss: 0.3543 - val_acc: 0.8614\n",
      "Epoch 4/10\n",
      "20000/20000 [==============================] - 24s 1ms/step - loss: 0.2041 - acc: 0.9203 - val_loss: 0.3900 - val_acc: 0.8476\n",
      "Epoch 5/10\n",
      "20000/20000 [==============================] - 23s 1ms/step - loss: 0.1214 - acc: 0.9578 - val_loss: 0.5336 - val_acc: 0.7814\n",
      "Epoch 6/10\n",
      "20000/20000 [==============================] - 23s 1ms/step - loss: 0.0707 - acc: 0.9772 - val_loss: 0.5211 - val_acc: 0.8098\n",
      "Epoch 7/10\n",
      "20000/20000 [==============================] - 23s 1ms/step - loss: 0.0414 - acc: 0.9887 - val_loss: 0.5597 - val_acc: 0.8234\n",
      "Epoch 8/10\n",
      "20000/20000 [==============================] - 23s 1ms/step - loss: 0.0207 - acc: 0.9945 - val_loss: 0.7945 - val_acc: 0.7402\n",
      "Epoch 9/10\n",
      "20000/20000 [==============================] - 23s 1ms/step - loss: 0.0159 - acc: 0.9956 - val_loss: 0.7210 - val_acc: 0.7934\n",
      "Epoch 10/10\n",
      "20000/20000 [==============================] - 23s 1ms/step - loss: 0.0112 - acc: 0.9968 - val_loss: 0.7384 - val_acc: 0.8014\n"
     ]
    }
   ],
   "source": [
    "# Embedding 층과 SimpleRNN 층을 사용한 모델 훈련하기\n",
    "from keras.layers import Dense\n",
    "\n",
    "model = Sequential()\n",
    "model.add(Embedding(max_features, 32))\n",
    "model.add(SimpleRNN(32))\n",
    "model.add(Dense(1, activation='sigmoid'))\n",
    "\n",
    "model.compile(optimizer='rmsprop', loss='binary_crossentropy', metrics=['acc'])\n",
    "\n",
    "history = model.fit(input_train, y_train, epochs=10, batch_size=128, validation_split=0.2)"
   ]
  },
  {
   "cell_type": "code",
   "execution_count": 9,
   "metadata": {},
   "outputs": [
    {
     "data": {
      "image/png": "[encoded data removed]",
      "text/plain": [
       "<Figure size 432x288 with 1 Axes>"
      ]
     },
     "metadata": {
      "needs_background": "light"
     },
     "output_type": "display_data"
    },
    {
     "data": {
      "image/png": "[encoded data removed]",
      "text/plain": [
       "<Figure size 432x288 with 1 Axes>"
      ]
     },
     "metadata": {
      "needs_background": "light"
     },
     "output_type": "display_data"
    }
   ],
   "source": [
    "# 결과 그래프 그리기\n",
    "import matplotlib.pyplot as plt\n",
    "\n",
    "acc = history.history['acc']\n",
    "val_acc = history.history['val_acc']\n",
    "loss = history.history['loss']\n",
    "val_loss = history.history['val_loss']\n",
    "\n",
    "epochs = range(1, len(acc)+1)\n",
    "\n",
    "plt.plot(epochs, acc, 'bo', label='Training acc')\n",
    "plt.plot(epochs, val_acc, 'b', label='Validation acc')\n",
    "plt.title('Training and validation accuracy')\n",
    "plt.legend()\n",
    "\n",
    "plt.figure()\n",
    "\n",
    "plt.plot(epochs, loss, 'bo', label='Training loss')\n",
    "plt.plot(epochs, val_loss, 'b', label='Validation loss')\n",
    "plt.title('Training and validation loss')\n",
    "plt.legend()\n",
    "\n",
    "plt.show()"
   ]
  },
  {
   "cell_type": "markdown",
   "metadata": {},
   "source": [
    "### LSTM과 GRU"
   ]
  },
  {
   "cell_type": "code",
   "execution_count": null,
   "metadata": {},
   "outputs": [],
   "source": [
    "# LSTM 구조의 의사코드(1/2)\n",
    "output_t = activation(c_t) * activation(dot(input_t, Wo) + dot(state_t, Uo) + bo)\n",
    "\n",
    "i_t = actiavation(dot(state_t, Ui) + dot(input_t, Wi) + bi)\n",
    "f_t = activation(dot(state_t, Uf) + dot(input_t, Wf) + bf) \n",
    "k_t = activation(dot(state_t, Uk) + dot(input_t, Wk) + bk)"
   ]
  },
  {
   "cell_type": "code",
   "execution_count": null,
   "metadata": {},
   "outputs": [],
   "source": [
    "# LSTM 구조의 의사코드(2/2)\n",
    "c_t + 1 = i_t * k_t + c_t * f_t\n",
    "\n",
    "# c_t * f_t :  이동을 위한 데이터 흐름에서 관련이 적은 정보를 의도적으로 삭제\n",
    "# i_t * k_t : 현재에 대한 정보를 제공하고 이동 트랙을 새로운 정보로 업데이트\n",
    "\n",
    "# 이 연산들이 실제로 하는 일은 연산에 관련된 가중치 행렬에 따라 결정됨\n",
    "\n",
    "# LSTM 셀의 역할: '과거 정보를 나중에 다시 주입하여 그래디언트 소실 문제를 해결'"
   ]
  },
  {
   "cell_type": "code",
   "execution_count": 10,
   "metadata": {},
   "outputs": [
    {
     "name": "stdout",
     "output_type": "stream",
     "text": [
      "Train on 20000 samples, validate on 5000 samples\n",
      "Epoch 1/10\n",
      "20000/20000 [==============================] - 62s 3ms/step - loss: 0.5199 - acc: 0.7523 - val_loss: 0.3294 - val_acc: 0.8710\n",
      "Epoch 2/10\n",
      "20000/20000 [==============================] - 57s 3ms/step - loss: 0.3004 - acc: 0.8835 - val_loss: 0.3147 - val_acc: 0.8718\n",
      "Epoch 3/10\n",
      "20000/20000 [==============================] - 57s 3ms/step - loss: 0.2400 - acc: 0.9115 - val_loss: 0.3271 - val_acc: 0.8848\n",
      "Epoch 4/10\n",
      "20000/20000 [==============================] - 59s 3ms/step - loss: 0.2080 - acc: 0.9233 - val_loss: 0.2911 - val_acc: 0.8894\n",
      "Epoch 5/10\n",
      "20000/20000 [==============================] - 61s 3ms/step - loss: 0.1801 - acc: 0.9336 - val_loss: 0.3065 - val_acc: 0.8782\n",
      "Epoch 6/10\n",
      "20000/20000 [==============================] - 57s 3ms/step - loss: 0.1626 - acc: 0.9420 - val_loss: 0.5833 - val_acc: 0.8308\n",
      "Epoch 7/10\n",
      "20000/20000 [==============================] - 57s 3ms/step - loss: 0.1473 - acc: 0.9495 - val_loss: 0.3337 - val_acc: 0.8774\n",
      "Epoch 8/10\n",
      "20000/20000 [==============================] - 58s 3ms/step - loss: 0.1347 - acc: 0.9544 - val_loss: 0.3290 - val_acc: 0.8838\n",
      "Epoch 9/10\n",
      "20000/20000 [==============================] - 65s 3ms/step - loss: 0.1220 - acc: 0.9570 - val_loss: 0.3828 - val_acc: 0.8704\n",
      "Epoch 10/10\n",
      "20000/20000 [==============================] - 60s 3ms/step - loss: 0.1135 - acc: 0.9609 - val_loss: 0.6202 - val_acc: 0.8196\n"
     ]
    }
   ],
   "source": [
    "# 케라스에서 LSTM 층 사용하기\n",
    "from keras.layers import LSTM\n",
    "\n",
    "model = Sequential()\n",
    "model.add(Embedding(max_features, 32))\n",
    "model.add(LSTM(32))\n",
    "model.add(Dense(1, activation='sigmoid'))\n",
    "\n",
    "model.compile(optimizer='rmsprop', loss='binary_crossentropy', metrics=['acc'])\n",
    "\n",
    "history = model.fit(input_train, y_train, epochs=10, batch_size=128, validation_split=0.2)"
   ]
  },
  {
   "cell_type": "markdown",
   "metadata": {},
   "source": [
    "### 순환 신경망의 고급 사용법"
   ]
  },
  {
   "cell_type": "code",
   "execution_count": 5,
   "metadata": {},
   "outputs": [
    {
     "name": "stdout",
     "output_type": "stream",
     "text": [
      "['\"Date Time\"', '\"p (mbar)\"', '\"T (degC)\"', '\"Tpot (K)\"', '\"Tdew (degC)\"', '\"rh (%)\"', '\"VPmax (mbar)\"', '\"VPact (mbar)\"', '\"VPdef (mbar)\"', '\"sh (g/kg)\"', '\"H2OC (mmol/mol)\"', '\"rho (g/m**3)\"', '\"wv (m/s)\"', '\"max. wv (m/s)\"', '\"wd (deg)\"']\n",
      "420551\n"
     ]
    }
   ],
   "source": [
    "# 예나의 날씨 데이터셋 조사하기\n",
    "import os\n",
    "\n",
    "data_dir = 'c:/datasets/jena_climate'\n",
    "fname = os.path.join(data_dir, 'jena_climate_2009_2016.csv')\n",
    "\n",
    "f = open(fname)\n",
    "data = f.read()\n",
    "f.close()\n",
    "\n",
    "lines = data.split('\\n')\n",
    "header = lines[0].split(',')\n",
    "lines = lines[1:]\n",
    "\n",
    "print(header)\n",
    "print(len(lines))"
   ]
  },
  {
   "cell_type": "code",
   "execution_count": 6,
   "metadata": {},
   "outputs": [],
   "source": [
    "# 데이터 파싱하기\n",
    "import numpy as np\n",
    "\n",
    "float_data = np.zeros((len(lines), len(header)-1))\n",
    "for i, line in enumerate(lines):\n",
    "    values = [float(x) for x in line.split(',')[1:]]\n",
    "    float_data[i, :] = values"
   ]
  },
  {
   "cell_type": "code",
   "execution_count": 7,
   "metadata": {},
   "outputs": [
    {
     "data": {
      "text/plain": [
       "[<matplotlib.lines.Line2D at 0x22246fb7940>]"
      ]
     },
     "execution_count": 7,
     "metadata": {},
     "output_type": "execute_result"
    },
    {
     "data": {
      "image/png": "[encoded data removed]",
      "text/plain": [
       "<Figure size 432x288 with 1 Axes>"
      ]
     },
     "metadata": {
      "needs_background": "light"
     },
     "output_type": "display_data"
    }
   ],
   "source": [
    "# 시계열 온도 그래프 그리기\n",
    "from matplotlib import pyplot as plt\n",
    "\n",
    "temp = float_data[:,1] # 온도(섭씨)\n",
    "plt.plot(range(len(temp)), temp)"
   ]
  },
  {
   "cell_type": "code",
   "execution_count": 8,
   "metadata": {},
   "outputs": [
    {
     "data": {
      "text/plain": [
       "[<matplotlib.lines.Line2D at 0x222471f55f8>]"
      ]
     },
     "execution_count": 8,
     "metadata": {},
     "output_type": "execute_result"
    },
    {
     "data": {
      "image/png": "[encoded data removed]",
      "text/plain": [
       "<Figure size 432x288 with 1 Axes>"
      ]
     },
     "metadata": {
      "needs_background": "light"
     },
     "output_type": "display_data"
    }
   ],
   "source": [
    "# 처음 10일간 온도 그래프 그리기\n",
    "plt.plot(range(1440), temp[:1440])"
   ]
  },
  {
   "cell_type": "code",
   "execution_count": 9,
   "metadata": {},
   "outputs": [],
   "source": [
    "# 데이터 정규화하기\n",
    "mean = float_data[:200000].mean(axis=0)\n",
    "float_data -= mean\n",
    "std = float_data[:200000].std(axis=0)\n",
    "float_data /= std"
   ]
  },
  {
   "cell_type": "code",
   "execution_count": 10,
   "metadata": {},
   "outputs": [],
   "source": [
    "# 시계열 데이터와 타깃을 반환하는 제너레이터 함수\n",
    "def generator(data, lookback, delay, min_index, max_index, shuffle=False, batch_size=128, step=6):\n",
    "    if max_index is None:\n",
    "        max_index = len(data) - delay - 1\n",
    "    i = min_index + lookback\n",
    "    while 1:\n",
    "        if shuffle:\n",
    "            rows = np.random.randint(min_index+lookback, max_index, size=batch_size)\n",
    "        else:\n",
    "            if i+batch_size >= max_index:\n",
    "                i = min_index+lookback\n",
    "            rows = np.arange(i, min(i+batch_size, max_index)) \n",
    "            i += len(rows)\n",
    "        \n",
    "        samples = np.zeros((len(rows), lookback//step, data.shape[-1]))\n",
    "        targets = np.zeros((len(rows), ))\n",
    "        for j, row in enumerate(rows):\n",
    "            indices = range(rows[j]-lookback, rows[j], step)\n",
    "            samples[j] = data[indices]\n",
    "            targets[j] = data[rows[j]+delay][1]\n",
    "        yield samples, targets"
   ]
  },
  {
   "cell_type": "code",
   "execution_count": 11,
   "metadata": {},
   "outputs": [],
   "source": [
    "# 훈련, 검증, 테스트 제너레이터 준비하기\n",
    "lookback = 1440\n",
    "step = 6\n",
    "delay = 144\n",
    "batch_size = 128\n",
    "train_gen = generator(float_data, lookback=lookback, delay=delay, min_index=0, max_index=200000, shuffle=True, step=step, batch_size=batch_size)\n",
    "val_gen = generator(float_data, lookback=lookback, delay=delay, min_index=200001, max_index=300000, step=step, batch_size=batch_size)\n",
    "test_gen = generator(float_data, lookback=lookback, delay=delay, min_index=300001, max_index=None, step=step, batch_size=batch_size)\n",
    "\n",
    "# 전체 검증 세트를 순회하기 위해 val_gen에서 추출할 횟수\n",
    "val_steps = (300000 - 200001 - lookback) // batch_size\n",
    "\n",
    "# 전체 테스트 세트를 순회하기 위해 test_gen에서 추출할 횟수\n",
    "test_steps = (len(float_data) - 300001 - lookback) // batch_size"
   ]
  },
  {
   "cell_type": "code",
   "execution_count": 12,
   "metadata": {},
   "outputs": [
    {
     "name": "stdout",
     "output_type": "stream",
     "text": [
      "0.2897359729905486\n"
     ]
    }
   ],
   "source": [
    "# 상식적인 기준 모델의 MAE 계산하기\n",
    "def evaluate_naive_method():\n",
    "    batch_maes = []\n",
    "    for step in range(val_steps):\n",
    "        samples, targets = next(val_gen)\n",
    "        preds = samples[:, -1, 1]\n",
    "        mae = np.mean(np.abs(preds-targets))\n",
    "        batch_maes.append(mae)\n",
    "    print(np.mean(batch_maes))\n",
    "    \n",
    "evaluate_naive_method()"
   ]
  },
  {
   "cell_type": "code",
   "execution_count": 13,
   "metadata": {},
   "outputs": [],
   "source": [
    "# MAE를 섭씨 단위로 변환하기\n",
    "celsius_mae = 0.29 * std[1]"
   ]
  },
  {
   "cell_type": "code",
   "execution_count": 20,
   "metadata": {},
   "outputs": [
    {
     "name": "stdout",
     "output_type": "stream",
     "text": [
      "Epoch 1/20\n",
      "500/500 [==============================] - 15s 30ms/step - loss: 1.0238 - val_loss: 0.4287\n",
      "Epoch 2/20\n",
      "500/500 [==============================] - 14s 28ms/step - loss: 0.3801 - val_loss: 0.2469\n",
      "Epoch 3/20\n",
      "500/500 [==============================] - 14s 28ms/step - loss: 0.2919 - val_loss: 0.2446\n",
      "Epoch 4/20\n",
      "500/500 [==============================] - 14s 28ms/step - loss: 0.2661 - val_loss: 0.2768\n",
      "Epoch 5/20\n",
      "500/500 [==============================] - 14s 29ms/step - loss: 0.2531 - val_loss: 0.2540\n",
      "Epoch 6/20\n",
      "500/500 [==============================] - 14s 28ms/step - loss: 0.2435 - val_loss: 0.4332\n",
      "Epoch 7/20\n",
      "500/500 [==============================] - 14s 28ms/step - loss: 0.2375 - val_loss: 0.3316\n",
      "Epoch 8/20\n",
      "500/500 [==============================] - 14s 28ms/step - loss: 0.2358 - val_loss: 0.4620\n",
      "Epoch 9/20\n",
      "500/500 [==============================] - 14s 28ms/step - loss: 0.2290 - val_loss: 0.3844\n",
      "Epoch 10/20\n",
      "500/500 [==============================] - 14s 28ms/step - loss: 0.2238 - val_loss: 0.2182\n",
      "Epoch 11/20\n",
      "500/500 [==============================] - 14s 28ms/step - loss: 0.2206 - val_loss: 0.3752\n",
      "Epoch 12/20\n",
      "500/500 [==============================] - 14s 29ms/step - loss: 0.2203 - val_loss: 0.1930\n",
      "Epoch 13/20\n",
      "500/500 [==============================] - 14s 28ms/step - loss: 0.2175 - val_loss: 0.1852\n",
      "Epoch 14/20\n",
      "500/500 [==============================] - 14s 29ms/step - loss: 0.2129 - val_loss: 0.1770\n",
      "Epoch 15/20\n",
      "500/500 [==============================] - 14s 28ms/step - loss: 0.2118 - val_loss: 0.2232\n",
      "Epoch 16/20\n",
      "500/500 [==============================] - 14s 28ms/step - loss: 0.2090 - val_loss: 0.3476\n",
      "Epoch 17/20\n",
      "500/500 [==============================] - 14s 28ms/step - loss: 0.2064 - val_loss: 0.1794\n",
      "Epoch 18/20\n",
      "500/500 [==============================] - 15s 30ms/step - loss: 0.2036 - val_loss: 0.2799\n",
      "Epoch 19/20\n",
      "500/500 [==============================] - 15s 29ms/step - loss: 0.2019 - val_loss: 0.1989\n",
      "Epoch 20/20\n",
      "500/500 [==============================] - 16s 31ms/step - loss: 0.2006 - val_loss: 0.1685\n"
     ]
    }
   ],
   "source": [
    "# 완전 연결 모델을 훈련하고 평가하기\n",
    "from keras.models import Sequential\n",
    "from keras import layers\n",
    "from keras.optimizers import RMSprop\n",
    "\n",
    "model = Sequential()\n",
    "model.add(layers.Flatten(input_shape=(lookback//step, float_data.shape[-1])))\n",
    "model.add(layers.Dense(32, activation='relu'))\n",
    "model.add(layers.Dense(1))\n",
    "model.compile(optimizer=RMSprop(), loss='mae')\n",
    "history = model.fit_generator(train_gen, steps_per_epoch=500, epochs=20, validation_data=val_gen, validation_steps=val_steps)"
   ]
  },
  {
   "cell_type": "code",
   "execution_count": 21,
   "metadata": {},
   "outputs": [
    {
     "data": {
      "image/png": "[encoded data removed]",
      "text/plain": [
       "<Figure size 432x288 with 1 Axes>"
      ]
     },
     "metadata": {
      "needs_background": "light"
     },
     "output_type": "display_data"
    }
   ],
   "source": [
    "# 결과 그래프 그리기\n",
    "import matplotlib.pyplot as plt\n",
    "\n",
    "loss = history.history['loss']\n",
    "val_loss = history.history['val_loss']\n",
    "\n",
    "epochs = range(1, len(loss)+1)\n",
    "\n",
    "plt.figure()\n",
    "plt.plot(epochs, loss, 'bo', label='Training loss')\n",
    "plt.plot(epochs, val_loss, 'b', label='Validation loss')\n",
    "plt.title('Training and validation loss')\n",
    "plt.legend()\n",
    "\n",
    "plt.show()"
   ]
  },
  {
   "cell_type": "code",
   "execution_count": 22,
   "metadata": {},
   "outputs": [
    {
     "name": "stdout",
     "output_type": "stream",
     "text": [
      "Epoch 1/20\n",
      "500/500 [==============================] - 106s 212ms/step - loss: 0.3043 - val_loss: 0.3354\n",
      "Epoch 2/20\n",
      "500/500 [==============================] - 107s 214ms/step - loss: 0.2820 - val_loss: 0.3086\n",
      "Epoch 3/20\n",
      "500/500 [==============================] - 113s 226ms/step - loss: 0.2798 - val_loss: 0.3282\n",
      "Epoch 4/20\n",
      "500/500 [==============================] - 112s 223ms/step - loss: 0.2737 - val_loss: 0.3263\n",
      "Epoch 5/20\n",
      "500/500 [==============================] - 109s 219ms/step - loss: 0.2686 - val_loss: 0.3639\n",
      "Epoch 6/20\n",
      "500/500 [==============================] - 111s 222ms/step - loss: 0.2619 - val_loss: 0.3781\n",
      "Epoch 7/20\n",
      "500/500 [==============================] - 112s 224ms/step - loss: 0.2580 - val_loss: 0.3947\n",
      "Epoch 8/20\n",
      "500/500 [==============================] - 108s 215ms/step - loss: 0.2529 - val_loss: 0.3705\n",
      "Epoch 9/20\n",
      "500/500 [==============================] - 108s 215ms/step - loss: 0.2500 - val_loss: 0.3399\n",
      "Epoch 10/20\n",
      "500/500 [==============================] - 112s 225ms/step - loss: 0.2440 - val_loss: 0.3783\n",
      "Epoch 11/20\n",
      "500/500 [==============================] - 119s 238ms/step - loss: 0.2411 - val_loss: 0.3802\n",
      "Epoch 12/20\n",
      "500/500 [==============================] - 115s 230ms/step - loss: 0.2357 - val_loss: 0.3839\n",
      "Epoch 13/20\n",
      "500/500 [==============================] - 121s 242ms/step - loss: 0.2335 - val_loss: 0.4119\n",
      "Epoch 14/20\n",
      "500/500 [==============================] - 116s 232ms/step - loss: 0.2291 - val_loss: 0.3537\n",
      "Epoch 15/20\n",
      "500/500 [==============================] - 110s 219ms/step - loss: 0.2265 - val_loss: 0.3511\n",
      "Epoch 16/20\n",
      "500/500 [==============================] - 113s 226ms/step - loss: 0.2254 - val_loss: 0.3288\n",
      "Epoch 17/20\n",
      "500/500 [==============================] - 107s 214ms/step - loss: 0.2194 - val_loss: 0.3472\n",
      "Epoch 18/20\n",
      "500/500 [==============================] - 111s 221ms/step - loss: 0.2168 - val_loss: 0.3176\n",
      "Epoch 19/20\n",
      "500/500 [==============================] - 115s 229ms/step - loss: 0.2143 - val_loss: 0.3311\n",
      "Epoch 20/20\n",
      "500/500 [==============================] - 120s 240ms/step - loss: 0.2120 - val_loss: 0.3424\n"
     ]
    }
   ],
   "source": [
    "# GRU를 사용한 모델을 훈련하고 평가하기\n",
    "from keras.models import Sequential\n",
    "from keras import layers\n",
    "from keras.optimizers import RMSprop\n",
    "\n",
    "model = Sequential()\n",
    "model.add(layers.GRU(32, input_shape=(None, float_data.shape[-1])))\n",
    "model.add(layers.Dense(1))\n",
    "\n",
    "model.compile(optimizer=RMSprop(), loss='mae')\n",
    "history = model.fit_generator(train_gen, steps_per_epoch=500, epochs=20, validation_data=val_gen, validation_steps=val_steps)"
   ]
  },
  {
   "cell_type": "code",
   "execution_count": 23,
   "metadata": {},
   "outputs": [
    {
     "name": "stdout",
     "output_type": "stream",
     "text": [
      "Epoch 1/40\n",
      "500/500 [==============================] - 120s 240ms/step - loss: nan - val_loss: nan\n",
      "Epoch 2/40\n",
      "500/500 [==============================] - 129s 257ms/step - loss: nan - val_loss: nan\n",
      "Epoch 3/40\n",
      "500/500 [==============================] - 122s 244ms/step - loss: nan - val_loss: nan\n",
      "Epoch 4/40\n",
      "500/500 [==============================] - 122s 245ms/step - loss: nan - val_loss: nan\n",
      "Epoch 5/40\n",
      "500/500 [==============================] - 119s 238ms/step - loss: nan - val_loss: nan\n",
      "Epoch 6/40\n",
      "500/500 [==============================] - 113s 227ms/step - loss: nan - val_loss: nan\n",
      "Epoch 7/40\n",
      "500/500 [==============================] - 114s 227ms/step - loss: nan - val_loss: nan\n",
      "Epoch 8/40\n",
      "500/500 [==============================] - 115s 229ms/step - loss: nan - val_loss: nan\n",
      "Epoch 9/40\n",
      "500/500 [==============================] - 113s 227ms/step - loss: nan - val_loss: nan\n",
      "Epoch 10/40\n",
      "500/500 [==============================] - 113s 226ms/step - loss: nan - val_loss: nan\n",
      "Epoch 11/40\n",
      "500/500 [==============================] - 113s 225ms/step - loss: nan - val_loss: nan\n",
      "Epoch 12/40\n",
      "500/500 [==============================] - 112s 224ms/step - loss: nan - val_loss: nan\n",
      "Epoch 13/40\n",
      "500/500 [==============================] - 111s 223ms/step - loss: nan - val_loss: nan\n",
      "Epoch 14/40\n",
      "500/500 [==============================] - 113s 227ms/step - loss: nan - val_loss: nan\n",
      "Epoch 15/40\n",
      "500/500 [==============================] - 112s 223ms/step - loss: nan - val_loss: nan\n",
      "Epoch 16/40\n",
      "500/500 [==============================] - 111s 222ms/step - loss: nan - val_loss: nan\n",
      "Epoch 17/40\n",
      "500/500 [==============================] - 111s 223ms/step - loss: nan - val_loss: nan\n",
      "Epoch 18/40\n",
      "500/500 [==============================] - 112s 225ms/step - loss: nan - val_loss: nan\n",
      "Epoch 19/40\n",
      "500/500 [==============================] - 112s 224ms/step - loss: nan - val_loss: nan\n",
      "Epoch 20/40\n",
      "500/500 [==============================] - 112s 223ms/step - loss: nan - val_loss: nan\n",
      "Epoch 21/40\n",
      "500/500 [==============================] - 111s 223ms/step - loss: nan - val_loss: nan\n",
      "Epoch 22/40\n",
      "500/500 [==============================] - 111s 223ms/step - loss: nan - val_loss: nan\n",
      "Epoch 23/40\n",
      "500/500 [==============================] - 112s 223ms/step - loss: nan - val_loss: nan\n",
      "Epoch 24/40\n",
      "500/500 [==============================] - 113s 226ms/step - loss: nan - val_loss: nan\n",
      "Epoch 25/40\n",
      "500/500 [==============================] - 197s 394ms/step - loss: nan - val_loss: nan\n",
      "Epoch 26/40\n",
      "500/500 [==============================] - 115s 230ms/step - loss: nan - val_loss: nan\n",
      "Epoch 27/40\n",
      "500/500 [==============================] - 115s 230ms/step - loss: nan - val_loss: nan\n",
      "Epoch 28/40\n",
      "500/500 [==============================] - 115s 231ms/step - loss: nan - val_loss: nan\n",
      "Epoch 29/40\n",
      "500/500 [==============================] - 113s 227ms/step - loss: nan - val_loss: nan\n",
      "Epoch 30/40\n",
      "500/500 [==============================] - 114s 228ms/step - loss: nan - val_loss: nan\n",
      "Epoch 31/40\n",
      "500/500 [==============================] - 117s 235ms/step - loss: nan - val_loss: nan\n",
      "Epoch 32/40\n",
      "500/500 [==============================] - 130s 260ms/step - loss: nan - val_loss: nan\n",
      "Epoch 33/40\n",
      "500/500 [==============================] - 126s 252ms/step - loss: nan - val_loss: nan\n",
      "Epoch 34/40\n",
      "500/500 [==============================] - 130s 260ms/step - loss: nan - val_loss: nan\n",
      "Epoch 35/40\n",
      "500/500 [==============================] - 125s 250ms/step - loss: nan - val_loss: nan\n",
      "Epoch 36/40\n",
      "500/500 [==============================] - 121s 241ms/step - loss: nan - val_loss: nan\n",
      "Epoch 37/40\n",
      "500/500 [==============================] - 123s 247ms/step - loss: nan - val_loss: nan\n",
      "Epoch 38/40\n",
      "500/500 [==============================] - 113s 227ms/step - loss: nan - val_loss: nan\n",
      "Epoch 39/40\n",
      "500/500 [==============================] - 114s 228ms/step - loss: nan - val_loss: nan\n",
      "Epoch 40/40\n",
      "500/500 [==============================] - 117s 234ms/step - loss: nan - val_loss: nan\n"
     ]
    }
   ],
   "source": [
    "# 드롭아웃 규제된 GRU를 사용한 모델을 훈련하고 평가하기\n",
    "from keras.models import Sequential\n",
    "from keras import layers\n",
    "from keras.optimizers import RMSprop\n",
    "\n",
    "model = Sequential()\n",
    "model.add(layers.GRU(32, dropout=0.2, recurrent_dropout=0.2, input_shape=(None, float_data.shape[-1])))\n",
    "model.add(layers.Dense(1))\n",
    "\n",
    "model.compile(optimizer=RMSprop(), loss='mae')\n",
    "history = model.fit_generator(train_gen, steps_per_epoch=500, epochs=40, validation_data=val_gen, validation_steps=val_steps)"
   ]
  },
  {
   "cell_type": "code",
   "execution_count": 24,
   "metadata": {},
   "outputs": [
    {
     "name": "stdout",
     "output_type": "stream",
     "text": [
      "Epoch 1/40\n",
      " 27/500 [>.............................] - ETA: 4:03 - loss: nan"
     ]
    },
    {
     "ename": "KeyboardInterrupt",
     "evalue": "",
     "output_type": "error",
     "traceback": [
      "\u001b[1;31m---------------------------------------------------------------------------\u001b[0m",
      "\u001b[1;31mKeyboardInterrupt\u001b[0m                         Traceback (most recent call last)",
      "\u001b[1;32m<ipython-input-24-2fd521e5ab38>\u001b[0m in \u001b[0;36m<module>\u001b[1;34m\u001b[0m\n\u001b[0;32m     10\u001b[0m \u001b[1;33m\u001b[0m\u001b[0m\n\u001b[0;32m     11\u001b[0m \u001b[0mmodel\u001b[0m\u001b[1;33m.\u001b[0m\u001b[0mcompile\u001b[0m\u001b[1;33m(\u001b[0m\u001b[0moptimizer\u001b[0m\u001b[1;33m=\u001b[0m\u001b[0mRMSprop\u001b[0m\u001b[1;33m(\u001b[0m\u001b[1;33m)\u001b[0m\u001b[1;33m,\u001b[0m \u001b[0mloss\u001b[0m\u001b[1;33m=\u001b[0m\u001b[1;34m'mae'\u001b[0m\u001b[1;33m)\u001b[0m\u001b[1;33m\u001b[0m\u001b[1;33m\u001b[0m\u001b[0m\n\u001b[1;32m---> 12\u001b[1;33m \u001b[0mhistory\u001b[0m \u001b[1;33m=\u001b[0m \u001b[0mmodel\u001b[0m\u001b[1;33m.\u001b[0m\u001b[0mfit_generator\u001b[0m\u001b[1;33m(\u001b[0m\u001b[0mtrain_gen\u001b[0m\u001b[1;33m,\u001b[0m \u001b[0msteps_per_epoch\u001b[0m\u001b[1;33m=\u001b[0m\u001b[1;36m500\u001b[0m\u001b[1;33m,\u001b[0m \u001b[0mepochs\u001b[0m\u001b[1;33m=\u001b[0m\u001b[1;36m40\u001b[0m\u001b[1;33m,\u001b[0m \u001b[0mvalidation_data\u001b[0m\u001b[1;33m=\u001b[0m\u001b[0mval_gen\u001b[0m\u001b[1;33m,\u001b[0m \u001b[0mvalidation_steps\u001b[0m\u001b[1;33m=\u001b[0m\u001b[0mval_steps\u001b[0m\u001b[1;33m)\u001b[0m\u001b[1;33m\u001b[0m\u001b[1;33m\u001b[0m\u001b[0m\n\u001b[0m",
      "\u001b[1;32mc:\\users\\rladh\\anaconda3\\envs\\py36\\lib\\site-packages\\keras\\legacy\\interfaces.py\u001b[0m in \u001b[0;36mwrapper\u001b[1;34m(*args, **kwargs)\u001b[0m\n\u001b[0;32m     89\u001b[0m                 warnings.warn('Update your `' + object_name + '` call to the ' +\n\u001b[0;32m     90\u001b[0m                               'Keras 2 API: ' + signature, stacklevel=2)\n\u001b[1;32m---> 91\u001b[1;33m             \u001b[1;32mreturn\u001b[0m \u001b[0mfunc\u001b[0m\u001b[1;33m(\u001b[0m\u001b[1;33m*\u001b[0m\u001b[0margs\u001b[0m\u001b[1;33m,\u001b[0m \u001b[1;33m**\u001b[0m\u001b[0mkwargs\u001b[0m\u001b[1;33m)\u001b[0m\u001b[1;33m\u001b[0m\u001b[1;33m\u001b[0m\u001b[0m\n\u001b[0m\u001b[0;32m     92\u001b[0m         \u001b[0mwrapper\u001b[0m\u001b[1;33m.\u001b[0m\u001b[0m_original_function\u001b[0m \u001b[1;33m=\u001b[0m \u001b[0mfunc\u001b[0m\u001b[1;33m\u001b[0m\u001b[1;33m\u001b[0m\u001b[0m\n\u001b[0;32m     93\u001b[0m         \u001b[1;32mreturn\u001b[0m \u001b[0mwrapper\u001b[0m\u001b[1;33m\u001b[0m\u001b[1;33m\u001b[0m\u001b[0m\n",
      "\u001b[1;32mc:\\users\\rladh\\anaconda3\\envs\\py36\\lib\\site-packages\\keras\\engine\\training.py\u001b[0m in \u001b[0;36mfit_generator\u001b[1;34m(self, generator, steps_per_epoch, epochs, verbose, callbacks, validation_data, validation_steps, validation_freq, class_weight, max_queue_size, workers, use_multiprocessing, shuffle, initial_epoch)\u001b[0m\n\u001b[0;32m   1730\u001b[0m             \u001b[0muse_multiprocessing\u001b[0m\u001b[1;33m=\u001b[0m\u001b[0muse_multiprocessing\u001b[0m\u001b[1;33m,\u001b[0m\u001b[1;33m\u001b[0m\u001b[1;33m\u001b[0m\u001b[0m\n\u001b[0;32m   1731\u001b[0m             \u001b[0mshuffle\u001b[0m\u001b[1;33m=\u001b[0m\u001b[0mshuffle\u001b[0m\u001b[1;33m,\u001b[0m\u001b[1;33m\u001b[0m\u001b[1;33m\u001b[0m\u001b[0m\n\u001b[1;32m-> 1732\u001b[1;33m             initial_epoch=initial_epoch)\n\u001b[0m\u001b[0;32m   1733\u001b[0m \u001b[1;33m\u001b[0m\u001b[0m\n\u001b[0;32m   1734\u001b[0m     \u001b[1;33m@\u001b[0m\u001b[0minterfaces\u001b[0m\u001b[1;33m.\u001b[0m\u001b[0mlegacy_generator_methods_support\u001b[0m\u001b[1;33m\u001b[0m\u001b[1;33m\u001b[0m\u001b[0m\n",
      "\u001b[1;32mc:\\users\\rladh\\anaconda3\\envs\\py36\\lib\\site-packages\\keras\\engine\\training_generator.py\u001b[0m in \u001b[0;36mfit_generator\u001b[1;34m(model, generator, steps_per_epoch, epochs, verbose, callbacks, validation_data, validation_steps, validation_freq, class_weight, max_queue_size, workers, use_multiprocessing, shuffle, initial_epoch)\u001b[0m\n\u001b[0;32m    218\u001b[0m                                             \u001b[0msample_weight\u001b[0m\u001b[1;33m=\u001b[0m\u001b[0msample_weight\u001b[0m\u001b[1;33m,\u001b[0m\u001b[1;33m\u001b[0m\u001b[1;33m\u001b[0m\u001b[0m\n\u001b[0;32m    219\u001b[0m                                             \u001b[0mclass_weight\u001b[0m\u001b[1;33m=\u001b[0m\u001b[0mclass_weight\u001b[0m\u001b[1;33m,\u001b[0m\u001b[1;33m\u001b[0m\u001b[1;33m\u001b[0m\u001b[0m\n\u001b[1;32m--> 220\u001b[1;33m                                             reset_metrics=False)\n\u001b[0m\u001b[0;32m    221\u001b[0m \u001b[1;33m\u001b[0m\u001b[0m\n\u001b[0;32m    222\u001b[0m                 \u001b[0mouts\u001b[0m \u001b[1;33m=\u001b[0m \u001b[0mto_list\u001b[0m\u001b[1;33m(\u001b[0m\u001b[0mouts\u001b[0m\u001b[1;33m)\u001b[0m\u001b[1;33m\u001b[0m\u001b[1;33m\u001b[0m\u001b[0m\n",
      "\u001b[1;32mc:\\users\\rladh\\anaconda3\\envs\\py36\\lib\\site-packages\\keras\\engine\\training.py\u001b[0m in \u001b[0;36mtrain_on_batch\u001b[1;34m(self, x, y, sample_weight, class_weight, reset_metrics)\u001b[0m\n\u001b[0;32m   1512\u001b[0m             \u001b[0mins\u001b[0m \u001b[1;33m=\u001b[0m \u001b[0mx\u001b[0m \u001b[1;33m+\u001b[0m \u001b[0my\u001b[0m \u001b[1;33m+\u001b[0m \u001b[0msample_weights\u001b[0m\u001b[1;33m\u001b[0m\u001b[1;33m\u001b[0m\u001b[0m\n\u001b[0;32m   1513\u001b[0m         \u001b[0mself\u001b[0m\u001b[1;33m.\u001b[0m\u001b[0m_make_train_function\u001b[0m\u001b[1;33m(\u001b[0m\u001b[1;33m)\u001b[0m\u001b[1;33m\u001b[0m\u001b[1;33m\u001b[0m\u001b[0m\n\u001b[1;32m-> 1514\u001b[1;33m         \u001b[0moutputs\u001b[0m \u001b[1;33m=\u001b[0m \u001b[0mself\u001b[0m\u001b[1;33m.\u001b[0m\u001b[0mtrain_function\u001b[0m\u001b[1;33m(\u001b[0m\u001b[0mins\u001b[0m\u001b[1;33m)\u001b[0m\u001b[1;33m\u001b[0m\u001b[1;33m\u001b[0m\u001b[0m\n\u001b[0m\u001b[0;32m   1515\u001b[0m \u001b[1;33m\u001b[0m\u001b[0m\n\u001b[0;32m   1516\u001b[0m         \u001b[1;32mif\u001b[0m \u001b[0mreset_metrics\u001b[0m\u001b[1;33m:\u001b[0m\u001b[1;33m\u001b[0m\u001b[1;33m\u001b[0m\u001b[0m\n",
      "\u001b[1;32mc:\\users\\rladh\\anaconda3\\envs\\py36\\lib\\site-packages\\tensorflow\\python\\keras\\backend.py\u001b[0m in \u001b[0;36m__call__\u001b[1;34m(self, inputs)\u001b[0m\n\u001b[0;32m   3290\u001b[0m \u001b[1;33m\u001b[0m\u001b[0m\n\u001b[0;32m   3291\u001b[0m     fetched = self._callable_fn(*array_vals,\n\u001b[1;32m-> 3292\u001b[1;33m                                 run_metadata=self.run_metadata)\n\u001b[0m\u001b[0;32m   3293\u001b[0m     \u001b[0mself\u001b[0m\u001b[1;33m.\u001b[0m\u001b[0m_call_fetch_callbacks\u001b[0m\u001b[1;33m(\u001b[0m\u001b[0mfetched\u001b[0m\u001b[1;33m[\u001b[0m\u001b[1;33m-\u001b[0m\u001b[0mlen\u001b[0m\u001b[1;33m(\u001b[0m\u001b[0mself\u001b[0m\u001b[1;33m.\u001b[0m\u001b[0m_fetches\u001b[0m\u001b[1;33m)\u001b[0m\u001b[1;33m:\u001b[0m\u001b[1;33m]\u001b[0m\u001b[1;33m)\u001b[0m\u001b[1;33m\u001b[0m\u001b[1;33m\u001b[0m\u001b[0m\n\u001b[0;32m   3294\u001b[0m     output_structure = nest.pack_sequence_as(\n",
      "\u001b[1;32mc:\\users\\rladh\\anaconda3\\envs\\py36\\lib\\site-packages\\tensorflow\\python\\client\\session.py\u001b[0m in \u001b[0;36m__call__\u001b[1;34m(self, *args, **kwargs)\u001b[0m\n\u001b[0;32m   1456\u001b[0m         ret = tf_session.TF_SessionRunCallable(self._session._session,\n\u001b[0;32m   1457\u001b[0m                                                \u001b[0mself\u001b[0m\u001b[1;33m.\u001b[0m\u001b[0m_handle\u001b[0m\u001b[1;33m,\u001b[0m \u001b[0margs\u001b[0m\u001b[1;33m,\u001b[0m\u001b[1;33m\u001b[0m\u001b[1;33m\u001b[0m\u001b[0m\n\u001b[1;32m-> 1458\u001b[1;33m                                                run_metadata_ptr)\n\u001b[0m\u001b[0;32m   1459\u001b[0m         \u001b[1;32mif\u001b[0m \u001b[0mrun_metadata\u001b[0m\u001b[1;33m:\u001b[0m\u001b[1;33m\u001b[0m\u001b[1;33m\u001b[0m\u001b[0m\n\u001b[0;32m   1460\u001b[0m           \u001b[0mproto_data\u001b[0m \u001b[1;33m=\u001b[0m \u001b[0mtf_session\u001b[0m\u001b[1;33m.\u001b[0m\u001b[0mTF_GetBuffer\u001b[0m\u001b[1;33m(\u001b[0m\u001b[0mrun_metadata_ptr\u001b[0m\u001b[1;33m)\u001b[0m\u001b[1;33m\u001b[0m\u001b[1;33m\u001b[0m\u001b[0m\n",
      "\u001b[1;31mKeyboardInterrupt\u001b[0m: "
     ]
    }
   ],
   "source": [
    "# 드롭아웃으로 규제하고 스태킹한 GRU 모델을 훈련하고 평가하기\n",
    "from keras.models import Sequential\n",
    "from keras import layers\n",
    "from keras.optimizers import RMSprop\n",
    "\n",
    "model = Sequential()\n",
    "model.add(layers.GRU(32, dropout=0.1, recurrent_dropout=0.5, return_sequences=True, input_shape=(None, float_data.shape[-1])))\n",
    "model.add(layers.GRU(64, activation='relu', dropout=0.1, recurrent_dropout=0.5))\n",
    "model.add(layers.Dense(1))\n",
    "\n",
    "model.compile(optimizer=RMSprop(), loss='mae')\n",
    "history = model.fit_generator(train_gen, steps_per_epoch=500, epochs=40, validation_data=val_gen, validation_steps=val_steps)"
   ]
  },
  {
   "cell_type": "code",
   "execution_count": 25,
   "metadata": {},
   "outputs": [
    {
     "name": "stdout",
     "output_type": "stream",
     "text": [
      "Train on 20000 samples, validate on 5000 samples\n",
      "Epoch 1/10\n",
      "20000/20000 [==============================] - 13s 662us/step - loss: 0.5408 - acc: 0.7189 - val_loss: 0.4804 - val_acc: 0.7704\n",
      "Epoch 2/10\n",
      "20000/20000 [==============================] - 14s 692us/step - loss: 0.3919 - acc: 0.8249 - val_loss: 0.4867 - val_acc: 0.7638\n",
      "Epoch 3/10\n",
      "20000/20000 [==============================] - 14s 700us/step - loss: 0.3418 - acc: 0.8552 - val_loss: 0.4856 - val_acc: 0.7694\n",
      "Epoch 4/10\n",
      "20000/20000 [==============================] - 12s 624us/step - loss: 0.3043 - acc: 0.8724 - val_loss: 0.5398 - val_acc: 0.7668\n",
      "Epoch 5/10\n",
      "20000/20000 [==============================] - 13s 632us/step - loss: 0.2718 - acc: 0.8888 - val_loss: 0.5666 - val_acc: 0.7558\n",
      "Epoch 6/10\n",
      "20000/20000 [==============================] - 13s 634us/step - loss: 0.2401 - acc: 0.9010 - val_loss: 0.6082 - val_acc: 0.7628\n",
      "Epoch 7/10\n",
      "20000/20000 [==============================] - 13s 626us/step - loss: 0.2128 - acc: 0.9130 - val_loss: 0.6530 - val_acc: 0.7532\n",
      "Epoch 8/10\n",
      "20000/20000 [==============================] - 13s 630us/step - loss: 0.1883 - acc: 0.9251 - val_loss: 0.7573 - val_acc: 0.7524\n",
      "Epoch 9/10\n",
      "20000/20000 [==============================] - 13s 635us/step - loss: 0.1646 - acc: 0.9336 - val_loss: 0.8430 - val_acc: 0.7468\n",
      "Epoch 10/10\n",
      "20000/20000 [==============================] - 13s 633us/step - loss: 0.1380 - acc: 0.9467 - val_loss: 0.9381 - val_acc: 0.7488\n"
     ]
    }
   ],
   "source": [
    "# 거꾸로 된 시퀀스를 사용한 LSTM을 훈련하고 평가하기\n",
    "from keras.datasets import imdb\n",
    "from keras.preprocessing import sequence\n",
    "from keras import layers\n",
    "from keras.models import Sequential\n",
    "\n",
    "max_features = 10000 # 특성으로 사용할 단어의 수\n",
    "maxlen = 50 # 사용할 텍스트의 길이(가장 빈번한 max_features개의 단어만 사용)\n",
    "\n",
    "(x_train, y_train), (x_test, y_test) = imdb.load_data(num_words=max_features) # 데이터 로드\n",
    "# 시퀀스를 뒤집음\n",
    "x_train = [x[::-1] for x in x_train]\n",
    "x_test = [x[::-1] for x in x_test]\n",
    "\n",
    "# 시퀀스에 패딩을 추가함\n",
    "x_train = sequence.pad_sequences(x_train, maxlen=maxlen)\n",
    "x_test = sequence.pad_sequences(x_test, maxlen=maxlen)\n",
    "\n",
    "model = Sequential()\n",
    "model.add(layers.Embedding(max_features, 128))\n",
    "model.add(layers.LSTM(32))\n",
    "model.add(layers.Dense(1, activation='sigmoid'))\n",
    "\n",
    "model.compile(optimizer='rmsprop', loss='binary_crossentropy', metrics=['acc'])\n",
    "\n",
    "history = model.fit(x_train, y_train, epochs=10, batch_size=128, validation_split=0.2)"
   ]
  },
  {
   "cell_type": "code",
   "execution_count": 26,
   "metadata": {},
   "outputs": [
    {
     "name": "stdout",
     "output_type": "stream",
     "text": [
      "Train on 20000 samples, validate on 5000 samples\n",
      "Epoch 1/10\n",
      "20000/20000 [==============================] - 12s 597us/step - loss: 0.5608 - acc: 0.7010 - val_loss: 0.5435 - val_acc: 0.7248\n",
      "Epoch 2/10\n",
      "20000/20000 [==============================] - 11s 553us/step - loss: 0.4073 - acc: 0.8182 - val_loss: 0.5308 - val_acc: 0.7480\n",
      "Epoch 3/10\n",
      "20000/20000 [==============================] - 11s 555us/step - loss: 0.3549 - acc: 0.8485 - val_loss: 0.5775 - val_acc: 0.7486\n",
      "Epoch 4/10\n",
      "20000/20000 [==============================] - 11s 545us/step - loss: 0.3155 - acc: 0.8686 - val_loss: 0.5407 - val_acc: 0.7630\n",
      "Epoch 5/10\n",
      "20000/20000 [==============================] - 11s 546us/step - loss: 0.2823 - acc: 0.8827 - val_loss: 0.5487 - val_acc: 0.7638\n",
      "Epoch 6/10\n",
      "20000/20000 [==============================] - 11s 545us/step - loss: 0.2578 - acc: 0.8949 - val_loss: 0.5603 - val_acc: 0.7584\n",
      "Epoch 7/10\n",
      "20000/20000 [==============================] - 11s 549us/step - loss: 0.2326 - acc: 0.9072 - val_loss: 0.6637 - val_acc: 0.7276\n",
      "Epoch 8/10\n",
      "20000/20000 [==============================] - 11s 546us/step - loss: 0.2136 - acc: 0.9165 - val_loss: 0.7834 - val_acc: 0.7214\n",
      "Epoch 9/10\n",
      "20000/20000 [==============================] - 11s 555us/step - loss: 0.1969 - acc: 0.9229 - val_loss: 0.6771 - val_acc: 0.7374\n",
      "Epoch 10/10\n",
      "20000/20000 [==============================] - 11s 551us/step - loss: 0.1778 - acc: 0.9327 - val_loss: 0.7044 - val_acc: 0.7416\n"
     ]
    }
   ],
   "source": [
    "# 양방향 LSTM을 훈련하고 평가하기\n",
    "model = Sequential()\n",
    "model.add(layers.Embedding(max_features, 32))\n",
    "model.add(layers.Bidirectional(layers.LSTM(32)))\n",
    "model.add(layers.Dense(1, activation='sigmoid'))\n",
    "\n",
    "model.compile(optimizer='rmsprop', loss='binary_crossentropy', metrics=['acc'])\n",
    "\n",
    "history = model.fit(x_train, y_train, epochs=10, batch_size=128, validation_split=0.2)"
   ]
  },
  {
   "cell_type": "code",
   "execution_count": 28,
   "metadata": {},
   "outputs": [
    {
     "name": "stdout",
     "output_type": "stream",
     "text": [
      "Epoch 1/40\n",
      "500/500 [==============================] - 179s 359ms/step - loss: 0.2944 - val_loss: 0.3805\n",
      "Epoch 2/40\n",
      "500/500 [==============================] - 179s 358ms/step - loss: 0.2770 - val_loss: 0.2182\n",
      "Epoch 3/40\n",
      "500/500 [==============================] - 177s 354ms/step - loss: 0.2694 - val_loss: 0.1718\n",
      "Epoch 4/40\n",
      "500/500 [==============================] - 177s 355ms/step - loss: 0.2645 - val_loss: 0.1963\n",
      "Epoch 5/40\n",
      "500/500 [==============================] - 175s 351ms/step - loss: 0.2608 - val_loss: 0.2927\n",
      "Epoch 6/40\n",
      "500/500 [==============================] - 175s 351ms/step - loss: 0.2547 - val_loss: 0.2770\n",
      "Epoch 7/40\n",
      "500/500 [==============================] - 177s 354ms/step - loss: 0.2487 - val_loss: 0.1968\n",
      "Epoch 8/40\n",
      "500/500 [==============================] - 177s 353ms/step - loss: 0.2423 - val_loss: 0.2486\n",
      "Epoch 9/40\n",
      "500/500 [==============================] - 178s 355ms/step - loss: 0.2350 - val_loss: 0.3459\n",
      "Epoch 10/40\n",
      "500/500 [==============================] - 175s 351ms/step - loss: 0.2301 - val_loss: 0.1838\n",
      "Epoch 11/40\n",
      "500/500 [==============================] - 893s 2s/step - loss: 0.2243 - val_loss: 0.1170\n",
      "Epoch 12/40\n",
      "500/500 [==============================] - 188s 376ms/step - loss: 0.2194 - val_loss: 0.1061\n",
      "Epoch 13/40\n",
      "500/500 [==============================] - 184s 367ms/step - loss: 0.2108 - val_loss: 0.1430\n",
      "Epoch 14/40\n",
      "500/500 [==============================] - 180s 361ms/step - loss: 0.2057 - val_loss: 0.1651\n",
      "Epoch 15/40\n",
      "500/500 [==============================] - 178s 356ms/step - loss: 0.2018 - val_loss: 0.1776\n",
      "Epoch 16/40\n",
      "500/500 [==============================] - 177s 353ms/step - loss: 0.1952 - val_loss: 0.3503\n",
      "Epoch 17/40\n",
      "500/500 [==============================] - 180s 360ms/step - loss: 0.1895 - val_loss: 0.3971\n",
      "Epoch 18/40\n",
      "500/500 [==============================] - 177s 353ms/step - loss: 0.1856 - val_loss: 0.3216\n",
      "Epoch 19/40\n",
      "500/500 [==============================] - 176s 352ms/step - loss: 0.1819 - val_loss: 0.3809\n",
      "Epoch 20/40\n",
      "500/500 [==============================] - 177s 353ms/step - loss: 0.1777 - val_loss: 0.3064\n",
      "Epoch 21/40\n",
      "500/500 [==============================] - 178s 356ms/step - loss: 0.1741 - val_loss: 0.2291\n",
      "Epoch 22/40\n",
      "500/500 [==============================] - 178s 356ms/step - loss: 0.1707 - val_loss: 0.4642\n",
      "Epoch 23/40\n",
      "500/500 [==============================] - 178s 356ms/step - loss: 0.1663 - val_loss: 0.3886\n",
      "Epoch 24/40\n",
      "500/500 [==============================] - 4001s 8s/step - loss: 0.1638 - val_loss: 0.3080\n",
      "Epoch 25/40\n",
      "500/500 [==============================] - 215s 430ms/step - loss: 0.1611 - val_loss: 0.3859\n",
      "Epoch 26/40\n",
      "500/500 [==============================] - 223s 446ms/step - loss: 0.1589 - val_loss: 0.3192\n",
      "Epoch 27/40\n",
      "500/500 [==============================] - 195s 391ms/step - loss: 0.1567 - val_loss: 0.2958\n",
      "Epoch 28/40\n",
      "500/500 [==============================] - 195s 390ms/step - loss: 0.1536 - val_loss: 0.3593\n",
      "Epoch 29/40\n",
      "500/500 [==============================] - 199s 397ms/step - loss: 0.1517 - val_loss: 0.3247\n",
      "Epoch 30/40\n",
      "500/500 [==============================] - 190s 381ms/step - loss: 0.1495 - val_loss: 0.3098\n",
      "Epoch 31/40\n",
      "500/500 [==============================] - 189s 378ms/step - loss: 0.1483 - val_loss: 0.3288\n",
      "Epoch 32/40\n",
      "500/500 [==============================] - 184s 367ms/step - loss: 0.1472 - val_loss: 0.3599\n",
      "Epoch 33/40\n",
      "500/500 [==============================] - 189s 377ms/step - loss: 0.1444 - val_loss: 0.4057\n",
      "Epoch 34/40\n",
      "500/500 [==============================] - 199s 398ms/step - loss: 0.1429 - val_loss: 0.3320\n",
      "Epoch 35/40\n",
      "500/500 [==============================] - 189s 378ms/step - loss: 0.1414 - val_loss: 0.2108\n",
      "Epoch 36/40\n",
      "500/500 [==============================] - 189s 377ms/step - loss: 0.1402 - val_loss: 0.3527\n",
      "Epoch 37/40\n",
      "500/500 [==============================] - 190s 380ms/step - loss: 0.1388 - val_loss: 0.2986\n",
      "Epoch 38/40\n",
      "500/500 [==============================] - 195s 390ms/step - loss: 0.1367 - val_loss: 0.3473\n",
      "Epoch 39/40\n",
      "500/500 [==============================] - 193s 385ms/step - loss: 0.1356 - val_loss: 0.3517\n",
      "Epoch 40/40\n",
      "500/500 [==============================] - 198s 397ms/step - loss: 0.1351 - val_loss: 0.3361\n"
     ]
    }
   ],
   "source": [
    "# 양방향 GRU 훈련하기\n",
    "from keras.models import Sequential\n",
    "from keras import layers\n",
    "from keras.optimizers import RMSprop\n",
    "\n",
    "model = Sequential()\n",
    "model.add(layers.Bidirectional(layers.GRU(32), input_shape=(None, float_data.shape[-1])))\n",
    "model.add(layers.Dense(1))\n",
    "\n",
    "model.compile(optimizer=RMSprop(), loss='mae')\n",
    "history = model.fit_generator(train_gen, steps_per_epoch=500, epochs=40, validation_data=val_gen, validation_steps=val_steps)"
   ]
  },
  {
   "cell_type": "markdown",
   "metadata": {},
   "source": [
    "### 컨브넷을 사용한 시퀀스 처리"
   ]
  },
  {
   "cell_type": "code",
   "execution_count": 2,
   "metadata": {},
   "outputs": [
    {
     "name": "stdout",
     "output_type": "stream",
     "text": [
      "데이터 로드...\n",
      "25000 훈련 시퀀스\n",
      "25000 테스트 시퀀스\n",
      "시퀀스 패딩 (samples x time)\n",
      "x_train 크기: (25000, 500)\n",
      "x_test 크기: (25000, 500)\n"
     ]
    }
   ],
   "source": [
    "# IMDB 데이터 전처리하기\n",
    "from keras.datasets import imdb\n",
    "from keras.preprocessing import sequence\n",
    "\n",
    "max_features = 10000\n",
    "max_len = 500\n",
    "\n",
    "print('데이터 로드...')\n",
    "(x_train, y_train), (x_test, y_test) = imdb.load_data(num_words=max_features)\n",
    "print(len(x_train), '훈련 시퀀스')\n",
    "print(len(x_test), '테스트 시퀀스')\n",
    "\n",
    "print('시퀀스 패딩 (samples x time)')\n",
    "x_train = sequence.pad_sequences(x_train, maxlen=max_len)\n",
    "x_test = sequence.pad_sequences(x_test, maxlen=max_len)\n",
    "print('x_train 크기:', x_train.shape)\n",
    "print('x_test 크기:', x_test.shape)"
   ]
  },
  {
   "cell_type": "code",
   "execution_count": 3,
   "metadata": {},
   "outputs": [
    {
     "name": "stdout",
     "output_type": "stream",
     "text": [
      "WARNING:tensorflow:From c:\\users\\rladh\\anaconda3\\envs\\py36\\lib\\site-packages\\keras\\backend\\tensorflow_backend.py:4070: The name tf.nn.max_pool is deprecated. Please use tf.nn.max_pool2d instead.\n",
      "\n",
      "Model: \"sequential_1\"\n",
      "_________________________________________________________________\n",
      "Layer (type)                 Output Shape              Param #   \n",
      "=================================================================\n",
      "embedding_1 (Embedding)      (None, 500, 128)          1280000   \n",
      "_________________________________________________________________\n",
      "conv1d_1 (Conv1D)            (None, 494, 32)           28704     \n",
      "_________________________________________________________________\n",
      "max_pooling1d_1 (MaxPooling1 (None, 98, 32)            0         \n",
      "_________________________________________________________________\n",
      "conv1d_2 (Conv1D)            (None, 92, 32)            7200      \n",
      "_________________________________________________________________\n",
      "global_max_pooling1d_1 (Glob (None, 32)                0         \n",
      "_________________________________________________________________\n",
      "dense_1 (Dense)              (None, 1)                 33        \n",
      "=================================================================\n",
      "Total params: 1,315,937\n",
      "Trainable params: 1,315,937\n",
      "Non-trainable params: 0\n",
      "_________________________________________________________________\n",
      "WARNING:tensorflow:From c:\\users\\rladh\\anaconda3\\envs\\py36\\lib\\site-packages\\tensorflow\\python\\ops\\math_grad.py:1250: add_dispatch_support.<locals>.wrapper (from tensorflow.python.ops.array_ops) is deprecated and will be removed in a future version.\n",
      "Instructions for updating:\n",
      "Use tf.where in 2.0, which has the same broadcast rule as np.where\n",
      "WARNING:tensorflow:From c:\\users\\rladh\\anaconda3\\envs\\py36\\lib\\site-packages\\keras\\backend\\tensorflow_backend.py:422: The name tf.global_variables is deprecated. Please use tf.compat.v1.global_variables instead.\n",
      "\n",
      "Train on 20000 samples, validate on 5000 samples\n",
      "Epoch 1/10\n",
      "20000/20000 [==============================] - 62s 3ms/step - loss: 1.0117 - acc: 0.5074 - val_loss: 0.6881 - val_acc: 0.5274\n",
      "Epoch 2/10\n",
      "20000/20000 [==============================] - 60s 3ms/step - loss: 0.6725 - acc: 0.6338 - val_loss: 0.6647 - val_acc: 0.6512\n",
      "Epoch 3/10\n",
      "20000/20000 [==============================] - 60s 3ms/step - loss: 0.6306 - acc: 0.7360 - val_loss: 0.6222 - val_acc: 0.6974\n",
      "Epoch 4/10\n",
      "20000/20000 [==============================] - 62s 3ms/step - loss: 0.5533 - acc: 0.7963 - val_loss: 0.5175 - val_acc: 0.7946\n",
      "Epoch 5/10\n",
      "20000/20000 [==============================] - 60s 3ms/step - loss: 0.4292 - acc: 0.8413 - val_loss: 0.4198 - val_acc: 0.8324\n",
      "Epoch 6/10\n",
      "20000/20000 [==============================] - 60s 3ms/step - loss: 0.3471 - acc: 0.8651 - val_loss: 0.4350 - val_acc: 0.8314\n",
      "Epoch 7/10\n",
      "20000/20000 [==============================] - 60s 3ms/step - loss: 0.3068 - acc: 0.8683 - val_loss: 0.3917 - val_acc: 0.8304\n",
      "Epoch 8/10\n",
      "20000/20000 [==============================] - 62s 3ms/step - loss: 0.2742 - acc: 0.8609 - val_loss: 0.4062 - val_acc: 0.8130\n",
      "Epoch 9/10\n",
      "20000/20000 [==============================] - 62s 3ms/step - loss: 0.2468 - acc: 0.8401 - val_loss: 0.4340 - val_acc: 0.7948\n",
      "Epoch 10/10\n",
      "20000/20000 [==============================] - 61s 3ms/step - loss: 0.2237 - acc: 0.8141 - val_loss: 0.4656 - val_acc: 0.7630\n"
     ]
    }
   ],
   "source": [
    "# IMDB 데이터에 1D 컨브넷을 훈련하고 평가하기\n",
    "from keras.models import Sequential\n",
    "from keras import layers\n",
    "from keras.optimizers import RMSprop\n",
    "\n",
    "model = Sequential()\n",
    "model.add(layers.Embedding(max_features, 128, input_length=max_len))\n",
    "model.add(layers.Conv1D(32,7,activation='relu'))\n",
    "model.add(layers.MaxPooling1D(5))\n",
    "model.add(layers.Conv1D(32,7,activation='relu'))\n",
    "model.add(layers.GlobalMaxPooling1D())\n",
    "model.add(layers.Dense(1))\n",
    "\n",
    "model.summary()\n",
    "\n",
    "model.compile(optimizer=RMSprop(lr=1e-4), loss='binary_crossentropy', metrics=['acc'])\n",
    "history = model.fit(x_train, y_train, epochs=10, batch_size=128, validation_split=0.2)"
   ]
  },
  {
   "cell_type": "code",
   "execution_count": 15,
   "metadata": {},
   "outputs": [
    {
     "name": "stdout",
     "output_type": "stream",
     "text": [
      "Epoch 1/20\n",
      "500/500 [==============================] - 48s 95ms/step - loss: 0.4146 - val_loss: 0.3496\n",
      "Epoch 2/20\n",
      "500/500 [==============================] - 47s 94ms/step - loss: 0.3556 - val_loss: 0.1503\n",
      "Epoch 3/20\n",
      "500/500 [==============================] - 48s 97ms/step - loss: 0.3313 - val_loss: 0.1488\n",
      "Epoch 4/20\n",
      "500/500 [==============================] - 48s 96ms/step - loss: 0.3160 - val_loss: 0.1857\n",
      "Epoch 5/20\n",
      "500/500 [==============================] - 49s 99ms/step - loss: 0.3056 - val_loss: 0.1403\n",
      "Epoch 6/20\n",
      "500/500 [==============================] - 50s 100ms/step - loss: 0.2967 - val_loss: 0.2087\n",
      "Epoch 7/20\n",
      "500/500 [==============================] - 49s 99ms/step - loss: 0.2878 - val_loss: 0.1133\n",
      "Epoch 8/20\n",
      "500/500 [==============================] - 50s 99ms/step - loss: 0.2810 - val_loss: 0.1736\n",
      "Epoch 9/20\n",
      "500/500 [==============================] - 48s 96ms/step - loss: 0.2771 - val_loss: 0.1749\n",
      "Epoch 10/20\n",
      "500/500 [==============================] - 50s 99ms/step - loss: 0.2702 - val_loss: 0.1483\n",
      "Epoch 11/20\n",
      "500/500 [==============================] - 48s 97ms/step - loss: 0.2663 - val_loss: 0.2397\n",
      "Epoch 12/20\n",
      "500/500 [==============================] - 49s 97ms/step - loss: 0.2627 - val_loss: 0.1446\n",
      "Epoch 13/20\n",
      "500/500 [==============================] - 46s 92ms/step - loss: 0.2591 - val_loss: 0.1979\n",
      "Epoch 14/20\n",
      "500/500 [==============================] - 47s 94ms/step - loss: 0.2557 - val_loss: 0.2141\n",
      "Epoch 15/20\n",
      "500/500 [==============================] - 46s 93ms/step - loss: 0.2539 - val_loss: 0.2190\n",
      "Epoch 16/20\n",
      "500/500 [==============================] - 47s 94ms/step - loss: 0.2504 - val_loss: 0.1499\n",
      "Epoch 17/20\n",
      "500/500 [==============================] - 50s 99ms/step - loss: 0.2471 - val_loss: 0.3027\n",
      "Epoch 18/20\n",
      "500/500 [==============================] - 50s 100ms/step - loss: 0.2454 - val_loss: 0.1447\n",
      "Epoch 19/20\n",
      "500/500 [==============================] - 47s 93ms/step - loss: 0.2416 - val_loss: 0.1609\n",
      "Epoch 20/20\n",
      "500/500 [==============================] - 45s 90ms/step - loss: 0.2416 - val_loss: 0.2068\n"
     ]
    }
   ],
   "source": [
    "# 예나 데이터에서 1D 컨브넷을 훈련하고 평가하기\n",
    "from keras.models import Sequential\n",
    "from keras import layers\n",
    "from keras.optimizers import RMSprop\n",
    "\n",
    "model = Sequential()\n",
    "model.add(layers.Conv1D(32,5,activation='relu',input_shape=(None,float_data.shape[-1])))\n",
    "model.add(layers.MaxPooling1D(3))\n",
    "model.add(layers.Conv1D(32,5,activation='relu'))\n",
    "model.add(layers.MaxPooling1D(3))\n",
    "model.add(layers.Conv1D(32,5,activation='relu'))\n",
    "model.add(layers.GlobalMaxPooling1D())\n",
    "model.add(layers.Dense(1))\n",
    "\n",
    "model.compile(optimizer=RMSprop(), loss='mae')\n",
    "history = model.fit_generator(train_gen, steps_per_epoch=500, epochs=20, validation_data=val_gen, validation_steps=val_steps)"
   ]
  },
  {
   "cell_type": "code",
   "execution_count": 16,
   "metadata": {},
   "outputs": [],
   "source": [
    "# 고밀도 데이터 제너레이터로 예나 데이터셋 준비하기\n",
    "step = 3 # 이전에는 6이었음(시간마다 1포인트) / 이제는 3 (30분마다 1포인트)\n",
    "lookback = 1440 # 변경되지 않음\n",
    "delay = 144 # 변경되지 않음\n",
    "\n",
    "train_gen = generator(float_data, lookback=lookback, delay=delay, min_index=0, max_index=200000, shuffle=True, step=step)\n",
    "val_gen = generator(float_data, lookback=lookback, delay=delay, min_index=200001, max_index=300000, step=step)\n",
    "test_gen = generator(float_data, lookback=lookback, delay=delay, min_index=300001, max_index=None, step=step)\n",
    "\n",
    "val_steps = (300000-200001-lookback) // 128\n",
    "test_steps = (len(float_data)-300001-lookback) // 128"
   ]
  },
  {
   "cell_type": "code",
   "execution_count": 19,
   "metadata": {},
   "outputs": [
    {
     "name": "stdout",
     "output_type": "stream",
     "text": [
      "Model: \"sequential_6\"\n",
      "_________________________________________________________________\n",
      "Layer (type)                 Output Shape              Param #   \n",
      "=================================================================\n",
      "conv1d_8 (Conv1D)            (None, None, 32)          2272      \n",
      "_________________________________________________________________\n",
      "max_pooling1d_5 (MaxPooling1 (None, None, 32)          0         \n",
      "_________________________________________________________________\n",
      "conv1d_9 (Conv1D)            (None, None, 32)          5152      \n",
      "_________________________________________________________________\n",
      "gru_2 (GRU)                  (None, 32)                6240      \n",
      "_________________________________________________________________\n",
      "dense_4 (Dense)              (None, 1)                 33        \n",
      "=================================================================\n",
      "Total params: 13,697\n",
      "Trainable params: 13,697\n",
      "Non-trainable params: 0\n",
      "_________________________________________________________________\n",
      "Epoch 1/20\n",
      " 30/500 [>.............................] - ETA: 2:10 - loss: nan"
     ]
    },
    {
     "ename": "KeyboardInterrupt",
     "evalue": "",
     "output_type": "error",
     "traceback": [
      "\u001b[1;31m---------------------------------------------------------------------------\u001b[0m",
      "\u001b[1;31mKeyboardInterrupt\u001b[0m                         Traceback (most recent call last)",
      "\u001b[1;32m<ipython-input-19-70b0ebf40d5b>\u001b[0m in \u001b[0;36m<module>\u001b[1;34m\u001b[0m\n\u001b[0;32m     14\u001b[0m \u001b[1;33m\u001b[0m\u001b[0m\n\u001b[0;32m     15\u001b[0m \u001b[0mmodel\u001b[0m\u001b[1;33m.\u001b[0m\u001b[0mcompile\u001b[0m\u001b[1;33m(\u001b[0m\u001b[0moptimizer\u001b[0m\u001b[1;33m=\u001b[0m\u001b[0mRMSprop\u001b[0m\u001b[1;33m(\u001b[0m\u001b[1;33m)\u001b[0m\u001b[1;33m,\u001b[0m \u001b[0mloss\u001b[0m\u001b[1;33m=\u001b[0m\u001b[1;34m'mae'\u001b[0m\u001b[1;33m)\u001b[0m\u001b[1;33m\u001b[0m\u001b[1;33m\u001b[0m\u001b[0m\n\u001b[1;32m---> 16\u001b[1;33m \u001b[0mhistory\u001b[0m \u001b[1;33m=\u001b[0m \u001b[0mmodel\u001b[0m\u001b[1;33m.\u001b[0m\u001b[0mfit_generator\u001b[0m\u001b[1;33m(\u001b[0m\u001b[0mtrain_gen\u001b[0m\u001b[1;33m,\u001b[0m \u001b[0msteps_per_epoch\u001b[0m\u001b[1;33m=\u001b[0m\u001b[1;36m500\u001b[0m\u001b[1;33m,\u001b[0m \u001b[0mepochs\u001b[0m\u001b[1;33m=\u001b[0m\u001b[1;36m20\u001b[0m\u001b[1;33m,\u001b[0m \u001b[0mvalidation_data\u001b[0m\u001b[1;33m=\u001b[0m\u001b[0mval_gen\u001b[0m\u001b[1;33m,\u001b[0m \u001b[0mvalidation_steps\u001b[0m\u001b[1;33m=\u001b[0m\u001b[0mval_steps\u001b[0m\u001b[1;33m)\u001b[0m\u001b[1;33m\u001b[0m\u001b[1;33m\u001b[0m\u001b[0m\n\u001b[0m",
      "\u001b[1;32mc:\\users\\rladh\\anaconda3\\envs\\py36\\lib\\site-packages\\keras\\legacy\\interfaces.py\u001b[0m in \u001b[0;36mwrapper\u001b[1;34m(*args, **kwargs)\u001b[0m\n\u001b[0;32m     89\u001b[0m                 warnings.warn('Update your `' + object_name + '` call to the ' +\n\u001b[0;32m     90\u001b[0m                               'Keras 2 API: ' + signature, stacklevel=2)\n\u001b[1;32m---> 91\u001b[1;33m             \u001b[1;32mreturn\u001b[0m \u001b[0mfunc\u001b[0m\u001b[1;33m(\u001b[0m\u001b[1;33m*\u001b[0m\u001b[0margs\u001b[0m\u001b[1;33m,\u001b[0m \u001b[1;33m**\u001b[0m\u001b[0mkwargs\u001b[0m\u001b[1;33m)\u001b[0m\u001b[1;33m\u001b[0m\u001b[1;33m\u001b[0m\u001b[0m\n\u001b[0m\u001b[0;32m     92\u001b[0m         \u001b[0mwrapper\u001b[0m\u001b[1;33m.\u001b[0m\u001b[0m_original_function\u001b[0m \u001b[1;33m=\u001b[0m \u001b[0mfunc\u001b[0m\u001b[1;33m\u001b[0m\u001b[1;33m\u001b[0m\u001b[0m\n\u001b[0;32m     93\u001b[0m         \u001b[1;32mreturn\u001b[0m \u001b[0mwrapper\u001b[0m\u001b[1;33m\u001b[0m\u001b[1;33m\u001b[0m\u001b[0m\n",
      "\u001b[1;32mc:\\users\\rladh\\anaconda3\\envs\\py36\\lib\\site-packages\\keras\\engine\\training.py\u001b[0m in \u001b[0;36mfit_generator\u001b[1;34m(self, generator, steps_per_epoch, epochs, verbose, callbacks, validation_data, validation_steps, validation_freq, class_weight, max_queue_size, workers, use_multiprocessing, shuffle, initial_epoch)\u001b[0m\n\u001b[0;32m   1730\u001b[0m             \u001b[0muse_multiprocessing\u001b[0m\u001b[1;33m=\u001b[0m\u001b[0muse_multiprocessing\u001b[0m\u001b[1;33m,\u001b[0m\u001b[1;33m\u001b[0m\u001b[1;33m\u001b[0m\u001b[0m\n\u001b[0;32m   1731\u001b[0m             \u001b[0mshuffle\u001b[0m\u001b[1;33m=\u001b[0m\u001b[0mshuffle\u001b[0m\u001b[1;33m,\u001b[0m\u001b[1;33m\u001b[0m\u001b[1;33m\u001b[0m\u001b[0m\n\u001b[1;32m-> 1732\u001b[1;33m             initial_epoch=initial_epoch)\n\u001b[0m\u001b[0;32m   1733\u001b[0m \u001b[1;33m\u001b[0m\u001b[0m\n\u001b[0;32m   1734\u001b[0m     \u001b[1;33m@\u001b[0m\u001b[0minterfaces\u001b[0m\u001b[1;33m.\u001b[0m\u001b[0mlegacy_generator_methods_support\u001b[0m\u001b[1;33m\u001b[0m\u001b[1;33m\u001b[0m\u001b[0m\n",
      "\u001b[1;32mc:\\users\\rladh\\anaconda3\\envs\\py36\\lib\\site-packages\\keras\\engine\\training_generator.py\u001b[0m in \u001b[0;36mfit_generator\u001b[1;34m(model, generator, steps_per_epoch, epochs, verbose, callbacks, validation_data, validation_steps, validation_freq, class_weight, max_queue_size, workers, use_multiprocessing, shuffle, initial_epoch)\u001b[0m\n\u001b[0;32m    218\u001b[0m                                             \u001b[0msample_weight\u001b[0m\u001b[1;33m=\u001b[0m\u001b[0msample_weight\u001b[0m\u001b[1;33m,\u001b[0m\u001b[1;33m\u001b[0m\u001b[1;33m\u001b[0m\u001b[0m\n\u001b[0;32m    219\u001b[0m                                             \u001b[0mclass_weight\u001b[0m\u001b[1;33m=\u001b[0m\u001b[0mclass_weight\u001b[0m\u001b[1;33m,\u001b[0m\u001b[1;33m\u001b[0m\u001b[1;33m\u001b[0m\u001b[0m\n\u001b[1;32m--> 220\u001b[1;33m                                             reset_metrics=False)\n\u001b[0m\u001b[0;32m    221\u001b[0m \u001b[1;33m\u001b[0m\u001b[0m\n\u001b[0;32m    222\u001b[0m                 \u001b[0mouts\u001b[0m \u001b[1;33m=\u001b[0m \u001b[0mto_list\u001b[0m\u001b[1;33m(\u001b[0m\u001b[0mouts\u001b[0m\u001b[1;33m)\u001b[0m\u001b[1;33m\u001b[0m\u001b[1;33m\u001b[0m\u001b[0m\n",
      "\u001b[1;32mc:\\users\\rladh\\anaconda3\\envs\\py36\\lib\\site-packages\\keras\\engine\\training.py\u001b[0m in \u001b[0;36mtrain_on_batch\u001b[1;34m(self, x, y, sample_weight, class_weight, reset_metrics)\u001b[0m\n\u001b[0;32m   1512\u001b[0m             \u001b[0mins\u001b[0m \u001b[1;33m=\u001b[0m \u001b[0mx\u001b[0m \u001b[1;33m+\u001b[0m \u001b[0my\u001b[0m \u001b[1;33m+\u001b[0m \u001b[0msample_weights\u001b[0m\u001b[1;33m\u001b[0m\u001b[1;33m\u001b[0m\u001b[0m\n\u001b[0;32m   1513\u001b[0m         \u001b[0mself\u001b[0m\u001b[1;33m.\u001b[0m\u001b[0m_make_train_function\u001b[0m\u001b[1;33m(\u001b[0m\u001b[1;33m)\u001b[0m\u001b[1;33m\u001b[0m\u001b[1;33m\u001b[0m\u001b[0m\n\u001b[1;32m-> 1514\u001b[1;33m         \u001b[0moutputs\u001b[0m \u001b[1;33m=\u001b[0m \u001b[0mself\u001b[0m\u001b[1;33m.\u001b[0m\u001b[0mtrain_function\u001b[0m\u001b[1;33m(\u001b[0m\u001b[0mins\u001b[0m\u001b[1;33m)\u001b[0m\u001b[1;33m\u001b[0m\u001b[1;33m\u001b[0m\u001b[0m\n\u001b[0m\u001b[0;32m   1515\u001b[0m \u001b[1;33m\u001b[0m\u001b[0m\n\u001b[0;32m   1516\u001b[0m         \u001b[1;32mif\u001b[0m \u001b[0mreset_metrics\u001b[0m\u001b[1;33m:\u001b[0m\u001b[1;33m\u001b[0m\u001b[1;33m\u001b[0m\u001b[0m\n",
      "\u001b[1;32mc:\\users\\rladh\\anaconda3\\envs\\py36\\lib\\site-packages\\tensorflow\\python\\keras\\backend.py\u001b[0m in \u001b[0;36m__call__\u001b[1;34m(self, inputs)\u001b[0m\n\u001b[0;32m   3290\u001b[0m \u001b[1;33m\u001b[0m\u001b[0m\n\u001b[0;32m   3291\u001b[0m     fetched = self._callable_fn(*array_vals,\n\u001b[1;32m-> 3292\u001b[1;33m                                 run_metadata=self.run_metadata)\n\u001b[0m\u001b[0;32m   3293\u001b[0m     \u001b[0mself\u001b[0m\u001b[1;33m.\u001b[0m\u001b[0m_call_fetch_callbacks\u001b[0m\u001b[1;33m(\u001b[0m\u001b[0mfetched\u001b[0m\u001b[1;33m[\u001b[0m\u001b[1;33m-\u001b[0m\u001b[0mlen\u001b[0m\u001b[1;33m(\u001b[0m\u001b[0mself\u001b[0m\u001b[1;33m.\u001b[0m\u001b[0m_fetches\u001b[0m\u001b[1;33m)\u001b[0m\u001b[1;33m:\u001b[0m\u001b[1;33m]\u001b[0m\u001b[1;33m)\u001b[0m\u001b[1;33m\u001b[0m\u001b[1;33m\u001b[0m\u001b[0m\n\u001b[0;32m   3294\u001b[0m     output_structure = nest.pack_sequence_as(\n",
      "\u001b[1;32mc:\\users\\rladh\\anaconda3\\envs\\py36\\lib\\site-packages\\tensorflow\\python\\client\\session.py\u001b[0m in \u001b[0;36m__call__\u001b[1;34m(self, *args, **kwargs)\u001b[0m\n\u001b[0;32m   1456\u001b[0m         ret = tf_session.TF_SessionRunCallable(self._session._session,\n\u001b[0;32m   1457\u001b[0m                                                \u001b[0mself\u001b[0m\u001b[1;33m.\u001b[0m\u001b[0m_handle\u001b[0m\u001b[1;33m,\u001b[0m \u001b[0margs\u001b[0m\u001b[1;33m,\u001b[0m\u001b[1;33m\u001b[0m\u001b[1;33m\u001b[0m\u001b[0m\n\u001b[1;32m-> 1458\u001b[1;33m                                                run_metadata_ptr)\n\u001b[0m\u001b[0;32m   1459\u001b[0m         \u001b[1;32mif\u001b[0m \u001b[0mrun_metadata\u001b[0m\u001b[1;33m:\u001b[0m\u001b[1;33m\u001b[0m\u001b[1;33m\u001b[0m\u001b[0m\n\u001b[0;32m   1460\u001b[0m           \u001b[0mproto_data\u001b[0m \u001b[1;33m=\u001b[0m \u001b[0mtf_session\u001b[0m\u001b[1;33m.\u001b[0m\u001b[0mTF_GetBuffer\u001b[0m\u001b[1;33m(\u001b[0m\u001b[0mrun_metadata_ptr\u001b[0m\u001b[1;33m)\u001b[0m\u001b[1;33m\u001b[0m\u001b[1;33m\u001b[0m\u001b[0m\n",
      "\u001b[1;31mKeyboardInterrupt\u001b[0m: "
     ]
    }
   ],
   "source": [
    "# 1D 합성곱과 GRU 층을 연결한 모델\n",
    "from keras.models import Sequential\n",
    "from keras import layers\n",
    "from keras.optimizers import RMSprop\n",
    "\n",
    "model = Sequential()\n",
    "model.add(layers.Conv1D(32,5,activation='relu',input_shape=(None, float_data.shape[-1])))\n",
    "model.add(layers.MaxPooling1D(3))\n",
    "model.add(layers.Conv1D(32,5,activation='relu'))\n",
    "model.add(layers.GRU(32,dropout=0.1,recurrent_dropout=0.5))\n",
    "model.add(layers.Dense(1))\n",
    "\n",
    "model.summary()\n",
    "\n",
    "model.compile(optimizer=RMSprop(), loss='mae')\n",
    "history = model.fit_generator(train_gen, steps_per_epoch=500, epochs=20, validation_data=val_gen, validation_steps=val_steps)"
   ]
  }
 ],
 "metadata": {
  "kernelspec": {
   "display_name": "Python 3",
   "language": "python",
   "name": "python3"
  },
  "language_info": {
   "codemirror_mode": {
    "name": "ipython",
    "version": 3
   },
   "file_extension": ".py",
   "mimetype": "text/x-python",
   "name": "python",
   "nbconvert_exporter": "python",
   "pygments_lexer": "ipython3",
   "version": "3.6.10"
  }
 },
 "nbformat": 4,
 "nbformat_minor": 4
}
