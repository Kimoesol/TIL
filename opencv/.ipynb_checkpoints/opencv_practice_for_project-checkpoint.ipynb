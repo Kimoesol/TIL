{
 "cells": [
  {
   "cell_type": "code",
   "execution_count": 4,
   "metadata": {},
   "outputs": [
    {
     "data": {
      "text/plain": [
       "-1"
      ]
     },
     "execution_count": 4,
     "metadata": {},
     "output_type": "execute_result"
    }
   ],
   "source": [
    "import cv2\n",
    "\n",
    "# 0\n",
    "\n",
    "image = cv2.imread(\"c:/final_project_practice/positano/positano_1.png\", cv2.IMREAD_COLOR)\n",
    "cv2.imshow('result', image)\n",
    "cv2.waitKey(0)\n",
    "\n",
    "blurred = cv2.GaussianBlur(image, (5,5), 0)\n",
    "\n",
    "gray = cv2.cvtColor(blurred, cv2.COLOR_BGR2GRAY)\n",
    "cv2.imshow('result', gray)\n",
    "cv2.waitKey(0)\n",
    "\n",
    "edge = cv2.Canny(gray, 50, 150)\n",
    "cv2.imshow('result', edge)\n",
    "cv2.waitKey(0)"
   ]
  },
  {
   "cell_type": "code",
   "execution_count": 2,
   "metadata": {},
   "outputs": [
    {
     "data": {
      "text/plain": [
       "-1"
      ]
     },
     "execution_count": 2,
     "metadata": {},
     "output_type": "execute_result"
    }
   ],
   "source": [
    "# 1 \n",
    "\n",
    "edge = cv2.bitwise_not(edge)\n",
    "cv2.imshow('result', edge)\n",
    "cv2.waitKey(0)\n",
    "\n",
    "contours = cv2.findContours(edge.copy(), cv2.RETR_LIST, cv2.CHAIN_APPROX_SIMPLE)\n",
    "cv2.drawContours(edge, contours[0], -1, (0,0,0), 1)\n",
    "cv2.imshow('result', edge)\n",
    "cv2.waitKey(0)"
   ]
  },
  {
   "cell_type": "code",
   "execution_count": 3,
   "metadata": {},
   "outputs": [
    {
     "data": {
      "text/plain": [
       "-1"
      ]
     },
     "execution_count": 3,
     "metadata": {},
     "output_type": "execute_result"
    }
   ],
   "source": [
    "# 2\n",
    "\n",
    "nlabels, labels, stats, centroids = cv2.connectedComponentsWithStats(edge)\n",
    "\n",
    "for i in range(nlabels):\n",
    "    if i < 2:\n",
    "        continue\n",
    "    \n",
    "    area = stats[i, cv2.CC_STAT_AREA]\n",
    "    center_x = int(centroids[i,0])\n",
    "    center_y = int(centroids[i,1])\n",
    "    left = stats[i, cv2.CC_STAT_LEFT]\n",
    "    top = stats[i, cv2.CC_STAT_TOP]\n",
    "    width = stats[i, cv2.CC_STAT_WIDTH]\n",
    "    height = stats[i, cv2.CC_STAT_HEIGHT]\n",
    "    \n",
    "    if area > 50:\n",
    "        cv2.rectangle(image, (left,top), (left+width, top+height), (0,0,255), 1)\n",
    "        cv2.circle(image, (center_x, center_y), 5, (255,0,0), 1)\n",
    "        cv2.putText(image, str(i), (left+20, top+20), cv2.FONT_HERSHEY_SIMPLEX, 1, (255,0,0), 2)\n",
    "        \n",
    "cv2.imshow('result', image)\n",
    "cv2.waitKey(0)"
   ]
  }
 ],
 "metadata": {
  "kernelspec": {
   "display_name": "Python 3",
   "language": "python",
   "name": "python3"
  },
  "language_info": {
   "codemirror_mode": {
    "name": "ipython",
    "version": 3
   },
   "file_extension": ".py",
   "mimetype": "text/x-python",
   "name": "python",
   "nbconvert_exporter": "python",
   "pygments_lexer": "ipython3",
   "version": "3.7.4"
  }
 },
 "nbformat": 4,
 "nbformat_minor": 2
}
