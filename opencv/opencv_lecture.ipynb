{
 "cells": [
  {
   "cell_type": "code",
   "execution_count": 3,
   "metadata": {},
   "outputs": [],
   "source": [
    "import cv2"
   ]
  },
  {
   "cell_type": "code",
   "execution_count": 3,
   "metadata": {},
   "outputs": [
    {
     "name": "stdout",
     "output_type": "stream",
     "text": [
      "4.1.0\n"
     ]
    }
   ],
   "source": [
    "print(cv2.__version__)"
   ]
  },
  {
   "cell_type": "code",
   "execution_count": 7,
   "metadata": {},
   "outputs": [],
   "source": [
    "image = cv2.imread(\"c:/final_project_practice/positano/positano_1.png\", cv2.IMREAD_UNCHANGED) # 원본 사용"
   ]
  },
  {
   "cell_type": "code",
   "execution_count": 4,
   "metadata": {},
   "outputs": [],
   "source": [
    "cv2.imshow(\"Positano\",image) # 윈도우 창에 이미지를 띄움"
   ]
  },
  {
   "cell_type": "code",
   "execution_count": 5,
   "metadata": {},
   "outputs": [],
   "source": [
    "cv2.waitKey(0) # time(여기선 0) 마다 키 입력상태를 받아옴 / 0일 경우, 지속적으로 검사하여 해당 구문을 넘어가지 않음\n",
    "cv2.destroyAllWindows() # 모든 윈도우 창을 닫음"
   ]
  },
  {
   "cell_type": "code",
   "execution_count": 4,
   "metadata": {},
   "outputs": [],
   "source": [
    "image = cv2.imread(\"c:/final_project_practice/positano/positano_1.png\", cv2.IMREAD_ANYCOLOR) # 가능한 3 채널, 색상 이미지로 사용\n",
    "cv2.imshow(\"Positano\", image)"
   ]
  },
  {
   "cell_type": "code",
   "execution_count": 8,
   "metadata": {},
   "outputs": [
    {
     "name": "stdout",
     "output_type": "stream",
     "text": [
      "234 512 3\n"
     ]
    }
   ],
   "source": [
    "height, width, channel = image.shape\n",
    "print(height, width, channel)\n",
    "\n",
    "# 이미지의 속성은 크기, 정밀도, 채널을 주요 속성으로 사용함\n",
    "# 크기: 이미지의 높이와 너비를 의미\n",
    "# 정밀도: 이미지 처리 결과의 정밀성을 의미 [유효 비트가 많을수록 더 정밀해짐]\n",
    "# 채널: 이미지의 색상 정보를 의미 [채널이 3이면 다색 이미지 / 채널이 1이면 단색 이미지]"
   ]
  },
  {
   "cell_type": "markdown",
   "metadata": {},
   "source": [
    "#### 대칭"
   ]
  },
  {
   "cell_type": "code",
   "execution_count": 3,
   "metadata": {},
   "outputs": [],
   "source": [
    "src = cv2.imread(\"c:/final_project_practice/positano/positano_1.png\", cv2.IMREAD_COLOR) # 원본 이미지\n",
    "dst = cv2.flip(src, 0) # cv2.flip(원본 이미지, 대칭 방법) [<=0은 상하 방향, >=1은 좌우 방향]\n",
    "\n",
    "cv2.imshow(\"src\", src)\n",
    "cv2.imshow(\"dst\", dst)\n",
    "cv2.waitkey(0)\n",
    "cv2.destroyAllWindows()"
   ]
  },
  {
   "cell_type": "markdown",
   "metadata": {},
   "source": [
    "#### 회전"
   ]
  },
  {
   "cell_type": "code",
   "execution_count": 4,
   "metadata": {},
   "outputs": [],
   "source": [
    "src = cv2.imread(\"c:/final_project_practice/positano/positano_1.png\", cv2.IMREAD_COLOR)\n",
    "\n",
    "height, width, channel = src.shape\n",
    "# cv2.getRotationMatrix2D((중심점 X좌표, 중심점 Y좌표), 각도, 스케일) 설정\n",
    "matrix = cv2.getRotationMatrix2D((width/2, height/2), 90, 1) # 여기서, 높이와 너비를 이용하여 회전 중심점을 설정\n",
    "# 중심점: tuple 형태로 설정 (회전할 기준점)\n",
    "# 각도: 회전할 각도\n",
    "# 스케일: 이미지의 확대 비율 설정\n",
    "\n",
    "# matrix를 numpy 형식으로 선언할 수 있음\n",
    "\n",
    "# cv2.warpAffine(원본 이미지, 배열, (결과 이미지 너비, 결과 이미지 높이))\n",
    "dst = cv2.warpAffine(src, matrix, (width, height))\n",
    "# 결과 이미지의 너비와 높이로 크기가 선언됨\n",
    "# 배열에 따라 이미지 회전"
   ]
  },
  {
   "cell_type": "code",
   "execution_count": 5,
   "metadata": {},
   "outputs": [],
   "source": [
    "cv2.imshow(\"src\", src)\n",
    "cv2.imshow(\"dst\", dst)\n",
    "cv2.waitKey(0)\n",
    "cv2.destroyAllwindows()"
   ]
  },
  {
   "cell_type": "markdown",
   "metadata": {},
   "source": [
    "#### 이미지 피라미드: 이미지의 크기를 변화(확대, 축소)시켜 원하는 단계까지 샘플링하는 작업"
   ]
  },
  {
   "cell_type": "code",
   "execution_count": 5,
   "metadata": {},
   "outputs": [],
   "source": [
    "import cv2\n",
    "\n",
    "src = cv2.imread(\"c:/final_project_practice/positano/positano_1.png\", cv2.IMREAD_COLOR)\n",
    "\n",
    "height, width, channel = src.shape # 너비와 높이를 이용하여 dstsize(결과 이미지 크기)을 설정\n",
    "\n",
    "# cv2.pyrUp(원본 이미지, 결과 이미지 크기, 픽셀 외삽법)\n",
    "# 픽셀 외삽법: 이미지를 확대 또는 축소할 경우, 영역 밖의 픽셀은 추정해서 값을 할당해야 함\n",
    "# 피라미드 함수에서 픽셀 외삽법은 cv2.BORDER_DEFAULT만 사용할 수 있음\n",
    "\n",
    "dst = cv2.pyrUp(src, dstsize=(width*2, height*2), borderType=cv2.BORDER_DEFAULT)\n",
    "\n",
    "# cv2.pyrDown(원본 이미지): 이미지를 1/2배 축소 / cv2.pyrUp() 함수와 동일한 매개변수를 가짐\n",
    "dst2 = cv2.pyrDown(src)\n",
    "\n",
    "# 이미지를 1/8배, 1/4배, 4배, 8배 등의 배율을 사용하는 경우, 반복문을 이용하여 적용할 수 있음 "
   ]
  },
  {
   "cell_type": "code",
   "execution_count": 6,
   "metadata": {},
   "outputs": [],
   "source": [
    "cv2.imshow(\"src\", src)\n",
    "cv2.imshow(\"dst\", dst)\n",
    "cv2.imshow(\"dst2\", dst2)\n",
    "cv2.waitKey(0)\n",
    "cv2.destroyAllWindows()"
   ]
  },
  {
   "cell_type": "markdown",
   "metadata": {},
   "source": [
    "#### 크기 조절"
   ]
  },
  {
   "cell_type": "code",
   "execution_count": 8,
   "metadata": {},
   "outputs": [],
   "source": [
    "import cv2\n",
    "\n",
    "src = cv2.imread(\"c:/final_project_practice/positano/positano_1.png\", cv2.IMREAD_COLOR)\n",
    "\n",
    "# cv2.resize(원본 이미지, 결과 이미지 크기, 보간법)로 이미지의 크기를 조절할 수 있음\n",
    "dst = cv2.resize(src, dsize=(640,480), interpolation=cv2.INTER_AREA)\n",
    "# 결과 이미지: tuple형 사용, (너비, 높이)를 의미\n",
    "# 보간법: 이미지의 크기를 변경하는 경우, 변형된 이미지의 픽셀은 추정해서 값을 할당\n",
    "\n",
    "# cv2.resize(원본 이미지, dsize=(0,0), 가로비, 세로비, 보간법)\n",
    "dst2 = cv2.resize(src, dsize=(0,0), fx=0.3, fy=0.7, interpolation=cv2.INTER_LINEAR) # 쌍 선형 보간법 [가장 많이 사용되는 보간법]\n",
    "# 결과 이미지 크기가 (0,0)으로 크기를 설정하지 않은 경우, fx와 fy를 이용하여 이미지의 비율을 조정할 수 있음\n",
    "\n",
    "# 이미지를 확대하는 경우, 바이큐빅 보간법(cv2.INTER_CUBIC)이나 쌍 선형 보간법(cv2.INTER_LINEAR)을 가장 많이 사용\n",
    "# 이미지를 축소하는 경우, 영역 보간법(cv2.INTER_AREA)을 가장 많이 사용\n",
    "# 영역 보간법에서 이미지를 확대하는 경우, 이웃 보간법(cv2.INTER_NEAREST)과 비슷한 결과를 반환"
   ]
  },
  {
   "cell_type": "code",
   "execution_count": 9,
   "metadata": {},
   "outputs": [],
   "source": [
    "cv2.imshow('src', src)\n",
    "cv2.imshow('dst', dst)\n",
    "cv2.imshow('dst2', dst2)\n",
    "cv2.waitKey(0)\n",
    "cv2.destroyAllWindows()"
   ]
  },
  {
   "cell_type": "markdown",
   "metadata": {},
   "source": [
    "#### 자르기"
   ]
  },
  {
   "cell_type": "code",
   "execution_count": 10,
   "metadata": {},
   "outputs": [],
   "source": [
    "import cv2\n",
    "\n",
    "# 이미지는 numpy 형식과 동일\n",
    "src = cv2.imread(\"c:/final_project_practice/positano/positano_1.png\", cv2.IMREAD_COLOR)\n",
    "\n",
    "dst = src.copy()\n",
    "\n",
    "# dst 이미지에 src[높이(행), 너비(열)]에서 잘라낼 영역을 설정함 / list 형식과 동일\n",
    "dst = src[100:600, 200:700]"
   ]
  },
  {
   "cell_type": "code",
   "execution_count": 11,
   "metadata": {},
   "outputs": [],
   "source": [
    "cv2.imshow('src', src)\n",
    "cv2.imshow('dst', dst)\n",
    "cv2.waitKey(0)\n",
    "cv2.destroyAllWindows()"
   ]
  },
  {
   "cell_type": "code",
   "execution_count": 12,
   "metadata": {},
   "outputs": [
    {
     "ename": "ValueError",
     "evalue": "could not broadcast input array from shape (134,312,3) into shape (234,500,3)",
     "output_type": "error",
     "traceback": [
      "\u001b[1;31m---------------------------------------------------------------------------\u001b[0m",
      "\u001b[1;31mValueError\u001b[0m                                Traceback (most recent call last)",
      "\u001b[1;32m<ipython-input-12-97a7053039fa>\u001b[0m in \u001b[0;36m<module>\u001b[1;34m\u001b[0m\n\u001b[0;32m      3\u001b[0m \u001b[1;33m\u001b[0m\u001b[0m\n\u001b[0;32m      4\u001b[0m \u001b[1;31m# dst[높이(행), 너비(열)] = roi를 이용하여 dst 이미지에 해당 영역을 붙여넣기 할 수 있음\u001b[0m\u001b[1;33m\u001b[0m\u001b[1;33m\u001b[0m\u001b[1;33m\u001b[0m\u001b[0m\n\u001b[1;32m----> 5\u001b[1;33m \u001b[0mdst\u001b[0m\u001b[1;33m[\u001b[0m\u001b[1;36m0\u001b[0m\u001b[1;33m:\u001b[0m\u001b[1;36m500\u001b[0m\u001b[1;33m,\u001b[0m \u001b[1;36m0\u001b[0m\u001b[1;33m:\u001b[0m\u001b[1;36m500\u001b[0m\u001b[1;33m]\u001b[0m \u001b[1;33m=\u001b[0m \u001b[0mroi\u001b[0m\u001b[1;33m\u001b[0m\u001b[1;33m\u001b[0m\u001b[0m\n\u001b[0m",
      "\u001b[1;31mValueError\u001b[0m: could not broadcast input array from shape (134,312,3) into shape (234,500,3)"
     ]
    }
   ],
   "source": [
    "dst = src.copy()\n",
    "roi = src[100:600, 200:700]\n",
    "\n",
    "# dst[높이(행), 너비(열)] = roi를 이용하여 dst 이미지에 해당 영역을 붙여넣기 할 수 있음\n",
    "dst[0:500, 0:500] = roi # 예시가 달라서, 사이즈 조절해야 함"
   ]
  },
  {
   "cell_type": "markdown",
   "metadata": {},
   "source": [
    "#### 그레이 스케일: 흑백 색상으로 변환"
   ]
  },
  {
   "cell_type": "code",
   "execution_count": 13,
   "metadata": {},
   "outputs": [],
   "source": [
    "import cv2\n",
    "\n",
    "src = cv2.imread(\"c:/final_project_practice/positano/positano_1.png\", cv2.IMREAD_COLOR)\n",
    "\n",
    "# cv2.cvtColor(원본 이미지, 색상 변환 코드): 이미지의 색상 공간을 변경할 수 있음\n",
    "dst = cv2.cvtColor(src, cv2.COLOR_BGR2GRAY) # Blue, Green, Red 채널을 단일 채널, 그레이 스케일 이미지로 변경\n",
    "\n",
    "# 색상 변환 코드: 원본 이미지 색상 공간 to 결과 이미지 색상 공간\n",
    "# 원본 이미지 색상 공간은 원본 이미지와 일치해야 함\n",
    "# BGR은 RGB 색상 채널을 의미함(Byte 역순)"
   ]
  },
  {
   "cell_type": "markdown",
   "metadata": {},
   "source": [
    "#### 역상: 색상 반전"
   ]
  },
  {
   "cell_type": "code",
   "execution_count": 17,
   "metadata": {},
   "outputs": [],
   "source": [
    "import cv2\n",
    "\n",
    "src = cv2.imread(\"c:/final_project_practice/positano/positano_1.png\", cv2.IMREAD_COLOR)\n",
    "\n",
    "# cv2.bitwise_not(원본 이미지): 이미지의 색상을 반전할 수 있음\n",
    "dst = cv2.bitwise_not(src)\n",
    "\n",
    "# 비트 연산을 이용하여 색상을 반전시킴\n",
    "# not 연산 이외에도 and,or,xor 연산이 존재함"
   ]
  },
  {
   "cell_type": "markdown",
   "metadata": {},
   "source": [
    "#### 이진화: 어느 기점을 기준으로 흑색 또는 흰색의 색상으로 변환하기 위해서 사용"
   ]
  },
  {
   "cell_type": "code",
   "execution_count": 16,
   "metadata": {},
   "outputs": [],
   "source": [
    "import cv2\n",
    "\n",
    "src = cv2.imread(\"c:/final_project_practice/positano/positano_1.png\", cv2.IMREAD_COLOR)\n",
    "\n",
    "gray = cv2.cvtColor(src, cv2.COLOR_RGB2GRAY)\n",
    "\n",
    "# cv2.threshold(그레이 스케일 이미지, 임계값, 최대값, 임계값 종류)를 이용하여 이진화 이미지로 변경\n",
    "ret, dst = cv2.threshold(gray, 100, 255, cv2.THRESH_BINARY) # 임계값 이상 = 최대값 / 임계값 이하 = 0\n",
    "# ret에는 임계값이 저장됨\n",
    "# 임계값: 이미지의 흑백을 나눌 기준값을 의미\n",
    "# 임계값을 100으로 설정한 경우, 100보다 이하면 0으로 / 100 이상이면 최대값으로 변경"
   ]
  },
  {
   "cell_type": "markdown",
   "metadata": {},
   "source": [
    "#### 흐림 효과: 해당 픽셀의 주변 값들과 비교하고 계산하여 픽셀들의 색상 값을 재조정"
   ]
  },
  {
   "cell_type": "code",
   "execution_count": 1,
   "metadata": {},
   "outputs": [],
   "source": [
    "import cv2\n",
    "\n",
    "src = cv2.imread(\"c:/final_project_practice/positano/positano_1.png\", cv2.IMREAD_COLOR)\n",
    "\n",
    "# cv2.blur(원본 이미지, (커널 x크기, 커널 y크기), 앵커 포인트, 픽셀 외삽법)\n",
    "dst = cv2.blur(src, (9,9), anchor=(-1,-1), borderType=cv2.BORDER_DEFAULT)\n",
    "\n",
    "# 커널 크기: 이미지에 흐림 효과를 적용할 크기를 설정 / 크기가 클수록 더 많이 흐려짐\n",
    "# 앵커 포인트: 커널에서의 중심점 / (-1,-1)로 사용할 경우, 자동적으로 커널의 중심점으로 할당\n",
    "# 픽셀 외삽법: 이미지를 흐림 효과 처리할 경우, 영역 밖의 픽셀은 추정해서 값을 할당해야 함\n",
    "\n",
    "cv2.imshow('dst', dst)\n",
    "cv2.waitKey(0)\n",
    "cv2.destroyAllWindows()"
   ]
  },
  {
   "cell_type": "markdown",
   "metadata": {},
   "source": [
    "#### 가장자리 검출(Edge)"
   ]
  },
  {
   "cell_type": "code",
   "execution_count": 2,
   "metadata": {},
   "outputs": [],
   "source": [
    "import cv2\n",
    "\n",
    "src = cv2.imread(\"c:/final_project_practice/positano/positano_1.png\", cv2.IMREAD_COLOR)\n",
    "gray = cv2.cvtColor(src, cv2.COLOR_BGR2GRAY)\n",
    "\n",
    "# cv2.Canny(원본 이미지, 임계값 1, 임계값 2, 커널 크기, L2 그라디언트)를 이용하여 가장자리 검출을 적용\n",
    "# 임계값 1: 임계값 1 이하에 포함된 가장자리는 가장자리에서 제외\n",
    "# 임계값 2: 임계값 2 이상에 포함된 가장자리는 가장자리로 간주\n",
    "# 커널 크기: Sobel 마스크의 Aperture Size를 의미 / 포함하지 않을 경우, 자동으로 할당\n",
    "# L2 그라디언트: L2 방식의 사용 유/무를 설정 / 사용하지 않을 경우, 자동적으로 L1 그라디언트 방식을 사용\n",
    "canny = cv2.Canny(src, 100, 255)\n",
    "\n",
    "# cv2.Sobel(그레이스케일 이미지, 정밀도, x방향 미분, y방향 미분, 커널, 배율, 델타, 픽셀 외삽법)를 이용하여 가장자리 검출을 적용\n",
    "# 정밀도: 결과 이미지의 이미지 정밀도를 의미 / 정밀도에 따라 결과물이 달라질 수 있음\n",
    "# 커널: 소벨 커널의 크기를 설정 / 1,3,5,7의 값을 사용\n",
    "# 배율: 계산된 미분 값에 대한 배율 값\n",
    "# 델타: 계산 전 미분 값에 대한 추가 값\n",
    "# x방향 미분 값과 y방향 미분 값의 합이 1 이상이어야 하며 각각의 값은 0보다 커야 함\n",
    "sobel = cv2.Sobel(gray, cv2.CV_8U, 1, 0, 3)\n",
    "\n",
    "# cv2.Laplacian(그레이스케일 이미지, 정밀도, 커널, 배율, 델타, 픽셀 외삽법)를 이용하여 가장자리 검출을 적용\n",
    "# 커널: 2차 미분의 크기를 설정\n",
    "# 커널의 값이 1일 경우, 3X3 Aperture Size를 사용함 (중심값 = -4)\n",
    "laplacian = cv2.Laplacian(gray, cv2.CV_8U, ksize=3)\n",
    "\n",
    "cv2.imshow('canny', canny)\n",
    "cv2.imshow('sobel', sobel)\n",
    "cv2.imshow('laplacian', laplacian)\n",
    "cv2.waitKey(0)\n",
    "cv2.destroyAllWindows()"
   ]
  },
  {
   "cell_type": "markdown",
   "metadata": {},
   "source": [
    "#### HSV(Hue, Saturation, Value): 색상을 검출하기 위해 사용 / 채널을 Hue, Saturation, Value로 분리하여 변환할 수 있음"
   ]
  },
  {
   "cell_type": "code",
   "execution_count": 5,
   "metadata": {},
   "outputs": [],
   "source": [
    "# 색상(Hue): 색의 질 [빨강, 노랑, 파랑이라고 하는 표현으로 나타내는 성질]\n",
    "# 채도(Saturation): 색의 선명도 [아무것도 섞지 않아 맑고 깨끗하며 원색에 가까운 것을 채도가 높다고 표현]\n",
    "# 명도(Value): 색의 밝기 [명도가 높을수록 백색에, 명도가 낮을수록 흑색에 가까워짐]"
   ]
  },
  {
   "cell_type": "code",
   "execution_count": 4,
   "metadata": {},
   "outputs": [],
   "source": [
    "import cv2\n",
    "\n",
    "src = cv2.imread(\"c:/final_project_practice/positano/positano_1.png\", cv2.IMREAD_COLOR)\n",
    "hsv = cv2.cvtColor(src, cv2.COLOR_BGR2HSV)\n",
    "h,s,v = cv2.split(hsv)\n",
    "# 분리된 채널은 단일 채널이므로 흑백의 색상으로만 표현됨\n",
    "\n",
    "cv2.imshow('h', h)\n",
    "cv2.imshow('s', s)\n",
    "cv2.imshow('v', v)\n",
    "cv2.waitKey(0)\n",
    "cv2.destroyAllWindows()"
   ]
  },
  {
   "cell_type": "code",
   "execution_count": 6,
   "metadata": {},
   "outputs": [],
   "source": [
    "import cv2\n",
    "\n",
    "src = cv2.imread(\"c:/final_project_practice/positano/positano_1.png\", cv2.IMREAD_COLOR)\n",
    "hsv = cv2.cvtColor(src, cv2.COLOR_BGR2HSV)\n",
    "h,s,v = cv2.split(hsv)\n",
    "\n",
    "# Hue의 범위를 조정하여 특정 색상만 출력할 수 있음\n",
    "# cv2.inRange(단일 채널 이미지, 최솟값, 최댓값)을 이용하여 범위를 설정\n",
    "# 주황색은 약 8~20 범위를 가짐\n",
    "h = cv2.inRange(h,8,20)\n",
    "# 해당 마스크를 이미지 위에 덧씌워 해당 부분만 출력함\n",
    "# cv2.bitwise_and(원본, 원본, mask=단일 채널 이미지)를 이용하여 마스크를 덧씌움\n",
    "other = cv2.bitwise_and(hsv, hsv, mask=h)\n",
    "other = cv2.cvtColor(other, cv2.COLOR_HSV2BGR)\n",
    "\n",
    "# 색상(Hue): 0~180의 값을 지님\n",
    "# 채도(Saturation): 0~255의 값을 지님\n",
    "# 명도(Value): 0~255의 값을 지님\n",
    "\n",
    "cv2.imshow('other', other)\n",
    "cv2.waitKey(0)\n",
    "cv2.destroyAllWindows()"
   ]
  },
  {
   "cell_type": "markdown",
   "metadata": {},
   "source": [
    "#### 채널 범위 병합: cv2.inRange()의 영역이 한정되어 색상을 설정하는 부분이 한정되어 있을 때, 특정 범위들을 병합할 때 사용"
   ]
  },
  {
   "cell_type": "code",
   "execution_count": 8,
   "metadata": {},
   "outputs": [],
   "source": [
    "import cv2\n",
    "\n",
    "src = cv2.imread(\"c:/final_project_practice/positano/positano_1.png\", cv2.IMREAD_COLOR)\n",
    "hsv = cv2.cvtColor(src, cv2.COLOR_BGR2HSV)\n",
    "h,s,v = cv2.split(hsv)\n",
    "\n",
    "# 빨간색 영역은 0~5, 170~180의 범위로 두 부분으로 나뉘어 있음 / 여기서 두 부분을 합쳐서 한 번에 출력하기 위해 사용\n",
    "# cv2.inRange(다채널 이미지, (채널1 최솟값, 채널2 최솟값, 채널3 최솟값), (채널1 최댓값, 채널2 최댓값, 채널3 최댓값))을 통하여 다채널 이미지도 한 번에 범위를 설정할 수 있음\n",
    "lower_red = cv2.inRange(hsv, (0,100,100), (5,255,255))\n",
    "upper_red = cv2.inRange(hsv, (170,100,100), (180,255,255))\n",
    "# 분리된 채널을 cv2.addWeighted(이미지1, 이미지1 비율, 이미지2, 이미지2 비율, 가중치)를 이용하여 채널을 하나로 합칠 수 있음\n",
    "added_red = cv2.addWeighted(lower_red, 1.0, upper_red, 1.0, 0.0)\n",
    "# 여기서, 가중치를 사용하지 않을 것이므로 0.0을 할당\n",
    "# cv2.inRange()를 사용할 때, 단일 채널 이미지의 범위만 할당하여 병합할 수 있음\n",
    "\n",
    "red = cv2.bitwise_and(hsv, hsv, mask=added_red)\n",
    "red = cv2.cvtColor(red, cv2.COLOR_HSV2BGR)\n",
    "\n",
    "cv2.imshow('red', red)\n",
    "cv2.waitKey(0)\n",
    "cv2.destroyAllWindows()"
   ]
  },
  {
   "cell_type": "markdown",
   "metadata": {},
   "source": [
    "#### 채널 분리(Split) 및 병합(Merge)"
   ]
  },
  {
   "cell_type": "code",
   "execution_count": 10,
   "metadata": {},
   "outputs": [],
   "source": [
    "# 채널을 B(Blue), G(Green), R(Red)로 분리하여 채널을 변환할 수 있음\n",
    "# OpenCV의 가산혼합의 삼원색 기본 배열 순서는 BGR"
   ]
  },
  {
   "cell_type": "code",
   "execution_count": 11,
   "metadata": {},
   "outputs": [],
   "source": [
    "import cv2\n",
    "\n",
    "src = cv2.imread(\"c:/final_project_practice/positano/positano_1.png\", cv2.IMREAD_COLOR)\n",
    "b,g,r = cv2.split(src)\n",
    "inversebgr = cv2.merge((r,g,b))\n",
    "\n",
    "# b = src[:,:,0]\n",
    "# g = src[:,:,1]\n",
    "# r = src[:,:,2]\n",
    "# 이미지[높이, 너비, 채널]을 이용하여 특정 영역의 특정 채널만 불러올 수 있음\n",
    "# :, :, n을 입력할 경우, 이미지 높이와 너비를 그대로 반환하고 n번째 채널만 반환하여 적용할 수 있음\n",
    "\n",
    "cv2.imshow('b', b)\n",
    "cv2.imshow('g', g)\n",
    "cv2.imshow('r', r)\n",
    "cv2.imshow('inverse', inversebgr)\n",
    "cv2.waitKey(0)\n",
    "cv2.destroyAllWindows()"
   ]
  },
  {
   "cell_type": "code",
   "execution_count": 13,
   "metadata": {},
   "outputs": [],
   "source": [
    "# 빈 이미지\n",
    "import numpy as np\n",
    "\n",
    "height, width, channel = src.shape\n",
    "# 검은색 빈 공간 이미지가 필요할 때는 np.zeros((높이,너비,채널), dtype=정밀도)을 이용하여 빈 이미지를 생성할 수 있음\n",
    "zero = np.zeros((height, width, 1), dtype=np.uint8)\n",
    "bgz = cv2.merge((b,g,zero))"
   ]
  },
  {
   "cell_type": "markdown",
   "metadata": {},
   "source": [
    "#### 그래픽 드로잉(Drawing)"
   ]
  },
  {
   "cell_type": "code",
   "execution_count": 15,
   "metadata": {},
   "outputs": [],
   "source": [
    "import numpy as np\n",
    "import cv2\n",
    "\n",
    "src = np.zeros((768,1366,3), dtype=np.uint8)\n",
    "\n",
    "# cv2.line(이미지, (x1,y1), (x2,y2), (B,G,R), 두께, 선형 타입)을 이용하여 선을 그릴 수 있음\n",
    "cv2.line(src, (100,100), (1200,100), (0,0,255), 3, cv2.LINE_AA)\n",
    "# cv2.circle(이미지, (x,y), 반지름, (B,G,R), 두께, 선형 타입)을 이용하여 원을 그릴 수 있음\n",
    "# (x,y) 중심점을 가지는 반지름 크기로 설정된 (B,G,R) 색상, 두께 굵기의 원을 그릴 수 있음\n",
    "# 내부를 채우는 경우, 두께를 cv2.FILLED을 사용하여 내부를 채울 수 있음\n",
    "cv2.circle(src, (300,300), 50, (0,255,0), cv2.FILLED, cv2.LINE_4)\n",
    "# cv2.rectangle(이미지, (x1,y1), (x2,y2), (B,G,R), 두께, 선형 타입)을 이용하여 사각형을 그릴 수 있음\n",
    "# (x1,y1)의 좌측 상단 모서리와 (x2,y2)의 우측 하단 모서리가 연결된 (B,G,R) 색상, 두께 굵기의 사각형을 그릴 수 있음\n",
    "cv2.rectangle(src, (500,200), (1000,400), (255,0,0), 5, cv2.LINE_8)\n",
    "# cv2.ellipse(이미지, (x,y), (lr,sr), 각도, 시작 각도, 종료 각도, (B,G,R), 두께, 선형 타입)을 이용하여 타원을 그릴 수 있음\n",
    "# (x,y)의 중심점을 가지며 중심에서 가장 먼 거리를 가지는 lr과 가장 가까운 거리를 가지는 sr의 타원을 각도만큼 기울어진 타원을 생성\n",
    "# 시작 각도와 종료 각도를 설정하여 호의 형태로 그리며 (B,G,R) 색상, 두께 굵기의 타원을 그릴 수 있음\n",
    "# 선형 타입은 설정하지 않아도 사용할 수 있음\n",
    "cv2.ellipse(src, (1200,300), (100,50), 0, 90, 180, (255,255,0), 2)\n",
    "\n",
    "# poly 함수를 사용하는 경우, numpy 형태로 지정된 위치 좌표들이 필요함\n",
    "# n개의 점이 저장된 경우, n각형을 그릴 수 있음\n",
    "pts1 = np.array([[100,500], [300,500], [200,600]])\n",
    "pts2 = np.array([[600,500], [800,500], [700,600]])\n",
    "# cv2.polylines(이미지, [위치 좌표], 닫힘 유/무, (B,G,R), 두께, 선형 타입)을 이용하여 다각형을 그릴 수 있음\n",
    "# [위치 좌표]들의 지점들을 가지며 시작점과 도착점이 연결되어 있는지 닫힘 유/무를 설정하여 (B,G,R) 색상,두께 굵기의 다각형을 그릴 수 있음\n",
    "cv2.polylines(src, [pts1], True, (0,255,255), 2)\n",
    "# cv2.fillPoly(이미지, [위치 좌표], (B,G,R), 두께, 선형 타입)을 이용하여 내부가 채워진 다각형을 그릴 수 있음\n",
    "# [위치 좌표]들의 지점들을 가지며 (B,G,R) 색상, 두께 굵기의 내부가 채워진 다각형을 그릴 수 있음\n",
    "cv2.fillPoly(src, [pts2], (255,0,255), cv2.LINE_AA)\n",
    "\n",
    "# cv2.putText(이미지, 문자, (x,y), 글꼴, 글자 크기, (B,G,R), 두께, 선형 타입)을 이용하여 문자를 그릴 수 있음\n",
    "# 문자의 위치는 좌표의 좌측 하단을 기준으로 글자가 생성됨\n",
    "cv2.putText(src, 'KIMOESOL', (900,600), cv2.FONT_HERSHEY_COMPLEX, 2, (255,255,255), 3)\n",
    "\n",
    "cv2.imshow('src', src)\n",
    "cv2.waitKey(0)\n",
    "cv2.destroyAllWindows()\n",
    "\n",
    "# 추가 옵션\n",
    "# shift: 좌표를 Shift(비트 연산)만큼 이동시켜 표시함\n",
    "# offset: 좌표를 (x,y)만큼 이동시켜 표시함"
   ]
  },
  {
   "cell_type": "markdown",
   "metadata": {},
   "source": [
    "#### 기하학적 변환(Warp Perspective): 이미지를 펼치거나 좁힐 수 있음"
   ]
  },
  {
   "cell_type": "code",
   "execution_count": 16,
   "metadata": {},
   "outputs": [],
   "source": [
    "# WarpPerspective의 경우 4개의 점을 매핑 (4개의 점을 이용한 변환)\n",
    "# WarpAffine의 경우 3개의 점을 매핑 (3개의 점을 이용한 변환)"
   ]
  },
  {
   "cell_type": "code",
   "execution_count": 17,
   "metadata": {},
   "outputs": [],
   "source": [
    "import cv2\n",
    "\n",
    "src = cv2.imread(\"c:/final_project_practice/positano/positano_1.png\", cv2.IMREAD_COLOR)\n",
    "height, width, channel = src.shape\n",
    "\n",
    "# 원본 이미지에서 4점 변환할 srcPoint와 결과 이미지의 위치가 될 dstPoint를 선언함\n",
    "# 좌표의 순서는 좌상, 우상, 우하, 좌하 순서 / numpy 형태로 선언하며, 좌표의 순서는 원본 순서와 결과 순서가 동일해야 함\n",
    "# dtype을 float32 형식으로 선언해야 사용할 수 있음\n",
    "srcPoint = np.array([[300,200], [400,200], [500,500], [200,500]], dtype=np.float32)\n",
    "dstPoint = np.array([[0,0], [width,0], [width, height], [0,height]], dtype=np.float32)\n",
    "# 기하학적 변환을 위하여 cv2.getPerspectiveTransform(원본 좌표 순서, 결과 좌표 순서)를 사용하여 matrix를 생성함\n",
    "matrix = cv2.getPerspectiveTransform(srcPoint, dstPoint)\n",
    "\n",
    "# cv2.warpPerspective(원본 이미지, 매트릭스, (결과 이미지 너비, 결과 이미지 높이))를 사용하여 이미지를 변환할 수 있음\n",
    "# 이외에도 보간법, 픽셀 외삽법을 추가적인 파라미터로 사용할 수 있음\n",
    "dst = cv2.warpPerspective(src, matrix, (width, height))\n",
    "\n",
    "cv2.imshow('dst', dst)\n",
    "cv2.waitKey(0)\n",
    "cv2.destroyAllWindows()"
   ]
  },
  {
   "cell_type": "markdown",
   "metadata": {},
   "source": [
    "#### 윤곽선(Contour) 검출"
   ]
  },
  {
   "cell_type": "code",
   "execution_count": null,
   "metadata": {},
   "outputs": [],
   "source": [
    "import cv2\n",
    "\n",
    "src = cv2.imread(\"c:/final_project_practice/positano/positano_1.png\", cv2.IMREAD_COLOR)\n",
    "\n",
    "# 윤곽선(컨투어)을 검출하는 주된 요소는 하얀색의 객체를 검출\n",
    "# 배경은 검은색이며, 검출하려는 물체는 하얀색의 성질을 띄게끔 변형\n",
    "# 이진화 처리 후, 반전시켜 검출하려는 물체를 하얀색의 성질을 띄도록 변환\n",
    "gray = cv2.cvtColor(src, cv2.COLOR_RGB2GRAY)\n",
    "ret, binary = cv2.threshold(gray, 127, 255, cv2.THRESH_BINARY)\n",
    "binary = cv2.bitwise_not(binary)\n",
    "\n",
    "# cv2.findContours(이진화 이미지, 검색 방법, 근사화 방법): 반환값으로 윤곽선, 계층 구조를 반환\n",
    "# 윤곽선: Numpy 구조의 배열로 검출된 윤곽선의 지점들이 담겨 있음\n",
    "# (윤곽선의) 계층 구조: 각 윤곽선에 해당하는 속성 정보들이 담겨 있음\n",
    "contours, hierarchy = cv2.findContours(binary, cv2.RETR_CCOMP, cv2.CHAIN_APPROX_NONE)\n",
    "# 모든 윤곽선을 검출하며, 계층 구조는 2단계로 구성\n",
    "# 윤곽점들의 모든 점을 반환\n",
    "\n",
    "# print(contours) # 1745\n",
    "\n",
    "for i in range(len(contours)):\n",
    "    # 검출된 윤곽선 그리기\n",
    "    # cv2.drawContours(이미지, [윤곽선], 윤곽선 인덱스, (B,G,R), 두께, 선형 타입)\n",
    "    # 윤곽선 인덱스: 검출된 윤곽선 배열에서 몇 번째 인덱스의 윤곽선을 그릴지를 의미\n",
    "    # 윤곽선 인수를 대괄호로 다시 묶을 경우, 0번째 인덱스가 최댓값인 배열로 변경\n",
    "    # [윤곽선], 0 / 윤곽선, -1은 동일한 의미를 가짐 (-1은 윤곽선 배열 모두를 의미)\n",
    "    cv2.drawContours(src, [contours[i]], 0, (0,0,255), 2)\n",
    "    cv2.putText(src, str(i), tuple(contours[i][0][0]), cv2.FONT_HERSHEY_COMPLEX, 0.8, (0,255,0), 1)\n",
    "    print(i, hierarchy[0][i])\n",
    "    # hierarchy를 출력하면, [다음 윤곽선, 이전 윤곽선, 내곽 윤곽선, 외곽 윤곽선]에 대한 인덱스 정보를 포함하고 있음\n",
    "    # 다음 윤곽선과 이전 윤곽선의 정보가 -1의 값이 아니라면 서로 동등한 계층의 윤곽선\n",
    "    cv2.imshow('src', src)\n",
    "    cv2.waitKey(0)\n",
    "    \n",
    "cv2.destroyAllWindows()\n",
    "\n",
    "# 계층 구조를 사용하여 내곽, 외곽 윤곽선을 구분할 수 있음"
   ]
  },
  {
   "cell_type": "markdown",
   "metadata": {},
   "source": [
    "#### 다각형 근사: 윤곽점을 압축해 다각형으로 근사함"
   ]
  },
  {
   "cell_type": "code",
   "execution_count": 23,
   "metadata": {},
   "outputs": [],
   "source": [
    "import cv2\n",
    "\n",
    "src = cv2.imread(\"c:/final_project_practice/positano/positano_1.png\", cv2.IMREAD_COLOR)\n",
    "\n",
    "gray = cv2.cvtColor(src, cv2.COLOR_RGB2GRAY)\n",
    "ret, binary = cv2.threshold(gray, 0, 255, cv2.THRESH_OTSU)\n",
    "binary = cv2.bitwise_not(binary)\n",
    "\n",
    "contours, hierarchy = cv2.findContours(binary, cv2.RETR_LIST, cv2.CHAIN_APPROX_TC89_KCOS)\n",
    "\n",
    "for contour in contours:\n",
    "    # 근사치 정확도를 계산하기 위해 윤곽선 전체 길이의 2%로 활용\n",
    "    # cv2.arcLength(윤곽선, 폐곡선)\n",
    "    # 윤곽선: 검출된 윤곽선들이 저장된 Numpy 배열\n",
    "    # 폐곡선: 검출된 윤곽선들이 닫혀있는지, 열려있는지 설정\n",
    "    # 폐곡선을 True로 사용할 경우, 윤곽선이 닫혀 최종 길이가 더 길어짐(끝점 연결 여부를 의미)\n",
    "    epsilon = cv2.arcLength(contour, True) * 0.02\n",
    "    # cv2.approxPolyDP(윤곽선, 근사치 정확도, 폐곡선)\n",
    "    # 근사치 정확도: 입력된 다각형(윤곽선)과 반환될 근사화된 다각형 사이의 최대 편차 간격을 의미\n",
    "    # 근사치 정확도의 값이 낮을수록, 근사를 더 적게해 원본 윤곽과 유사해짐\n",
    "    approx_poly = cv2.approxPolyDP(contour, epsilon, True)\n",
    "    \n",
    "    # 반복문을 통해 근사 다각형을 반복해, 근사점을 이미지 위에 표시\n",
    "    for approx in approx_poly:\n",
    "        cv2.circle(src, tuple(approx[0]), 3, (255,0,0), -1)\n",
    "        \n",
    "cv2.imshow('src', src)\n",
    "cv2.waitKey(0)\n",
    "cv2.destroyAllWindows()"
   ]
  },
  {
   "cell_type": "markdown",
   "metadata": {},
   "source": [
    "#### 코너[트래킹 하기 좋은 지점(특징)] 검출: 꼭짓점은 트래킹하기 좋은 지점이 되어 다각형이나 객체의 꼭짓점을 검출하는데 사용"
   ]
  },
  {
   "cell_type": "code",
   "execution_count": 25,
   "metadata": {},
   "outputs": [],
   "source": [
    "import cv2\n",
    "\n",
    "src = cv2.imread(\"c:/final_project_practice/positano/positano_1.png\", cv2.IMREAD_COLOR)\n",
    "dst = src.copy()\n",
    "\n",
    "gray = cv2.cvtColor(src, cv2.COLOR_RGB2GRAY)\n",
    "# cv2.goodFeaturesToTrack(입력 이미지, 코너 최댓값, 코너 품질, 최소 거리, 마스크, 블록 크기, 해리스 코너 검출기 유/무, 해리스 코너 계수)\n",
    "# 입력 이미지: 8비트 또는 32비트의 단일 채널 이미지를 사용\n",
    "# 코너 최댓값: 검출할 최대 코너의 수를 제한 [코너 최댓값보다 작은 개수만 반환]\n",
    "# 코너 품질: 반환할 코너의 최소 품질 [코너 품질은 0.0~1.0 사이의 값으로 할당할 수 있으며, 일반적으로 0.01~0.10 사이의 값을 사용]\n",
    "# 최소 거리: 검출된 코너들의 최소 근접 거리 / 설정된 최소 거리 이상의 값만 검출\n",
    "# 마스크: 입력 이미지와 같은 차원을 사용 / 마스크 요솟값이 0인 곳은 코너로 계산하지 않음\n",
    "# 블록 크기: 코너를 계산할 때, 고려하는 코너 주변 영역의 크기\n",
    "# 해리스 코너 검출기 유/무: 해리스 코너 검출 방법 사용 여부를 결정\n",
    "# 코너 품질에서 가장 좋은 코너의 강도가 1000이고, 코너 품질이 0.01이라면 10 이하의 코너 강도를 갖는 코너들은 검출하지 않음\n",
    "corners = cv2.goodFeaturesToTrack(gray, 100, 0.01, 5, blockSize=3, useHarrisDetector=True, k=0.03)\n",
    "\n",
    "# 코너 검출 함수를 통해 corners가 반환되며, 이 배열안에 코너들의 좌표가 저장되어 있음\n",
    "for i in corners:\n",
    "    cv2.circle(dst, tuple(i[0]), 3, (0,0,255), 2)\n",
    "    \n",
    "cv2.imshow('dst', dst)\n",
    "cv2.waitKey(0)\n",
    "cv2.destroyAllWindows()"
   ]
  },
  {
   "cell_type": "markdown",
   "metadata": {},
   "source": [
    "#### 블록 껍질: 윤곽선(points, contours)의 경계면을 둘러싸는 다각형을 구하는 알고리즘"
   ]
  },
  {
   "cell_type": "code",
   "execution_count": 26,
   "metadata": {},
   "outputs": [],
   "source": [
    "import cv2\n",
    "\n",
    "src = cv2.imread(\"c:/final_project_practice/positano/positano_1.png\", cv2.IMREAD_COLOR)\n",
    "dst = src.copy()\n",
    "\n",
    "gray = cv2.cvtColor(src, cv2.COLOR_RGB2GRAY)\n",
    "ret, binary = cv2.threshold(gray, 150, 255, cv2.THRESH_BINARY_INV)\n",
    "\n",
    "contours, hierarchy = cv2.findContours(binary, cv2.RETR_CCOMP, cv2.CHAIN_APPROX_NONE)\n",
    "\n",
    "for i in contours:\n",
    "    # cv2.convexHull(윤곽선, 방향)\n",
    "    # 방향: 검출된 볼록 껍질의 볼록점들의 인덱스 순서\n",
    "    # 볼록 껍질 함수: 단일 형태에서만 검출이 가능, 그러므로 반복문을 활용해 단일 형태의 윤곽선 구조에서 볼록 껍질을 검출\n",
    "    # 윤곽선 구조는 윤곽선 검출 함수의 반환값과 형태가 동일하다면, 임의의 배열에서도 검출 가능\n",
    "    # 방향이 True라면 시계 방향, False라면 반시계 방향으로 정렬\n",
    "    hull = cv2.convexHull(i, clockwise=True)\n",
    "    cv2.drawContours(dst, [hull], 0, (0,0,255), 2)\n",
    "    \n",
    "cv2.imshow('dst', dst)\n",
    "cv2.waitKey(0)\n",
    "cv2.destroyAllWindows()\n",
    "\n",
    "# 경계 사각형의 정점을 검출\n",
    "# 경계면을 둘러싸는 다각형은 경계 사각형 내부에 포함되며, 해당 정점을 볼록점으로 사용\n",
    "# 영역 내부에도 다양한 윤곽점들이 존재하므로, 여기서 볼록 껍질을 이루는 볼록점들을 선별해서 선택"
   ]
  },
  {
   "cell_type": "markdown",
   "metadata": {},
   "source": [
    "#### 모멘트: 윤곽선이나 이미지의 0차 모멘트부터 3차 모멘트까지 계산"
   ]
  },
  {
   "cell_type": "code",
   "execution_count": 28,
   "metadata": {},
   "outputs": [],
   "source": [
    "# 공간 모멘트, 중심 모멘트, 정규화된 중심 모멘트, 질량 중심"
   ]
  },
  {
   "cell_type": "code",
   "execution_count": 38,
   "metadata": {},
   "outputs": [
    {
     "name": "stdout",
     "output_type": "stream",
     "text": [
      "{'m00': 0.0, 'm10': 0.0, 'm01': 0.0, 'm20': 0.0, 'm11': 0.0, 'm02': 0.0, 'm30': 0.0, 'm21': 0.0, 'm12': 0.0, 'm03': 0.0, 'mu20': 0.0, 'mu11': 0.0, 'mu02': 0.0, 'mu30': 0.0, 'mu21': 0.0, 'mu12': 0.0, 'mu03': 0.0, 'nu20': 0.0, 'nu11': 0.0, 'nu02': 0.0, 'nu30': 0.0, 'nu21': 0.0, 'nu12': 0.0, 'nu03': 0.0}\n"
     ]
    },
    {
     "ename": "ZeroDivisionError",
     "evalue": "float division by zero",
     "output_type": "error",
     "traceback": [
      "\u001b[1;31m---------------------------------------------------------------------------\u001b[0m",
      "\u001b[1;31mZeroDivisionError\u001b[0m                         Traceback (most recent call last)",
      "\u001b[1;32m<ipython-input-38-f838156aa61a>\u001b[0m in \u001b[0;36m<module>\u001b[1;34m\u001b[0m\n\u001b[0;32m     14\u001b[0m     \u001b[0mM\u001b[0m \u001b[1;33m=\u001b[0m \u001b[0mcv2\u001b[0m\u001b[1;33m.\u001b[0m\u001b[0mmoments\u001b[0m\u001b[1;33m(\u001b[0m\u001b[0mi\u001b[0m\u001b[1;33m,\u001b[0m \u001b[1;32mFalse\u001b[0m\u001b[1;33m)\u001b[0m\u001b[1;33m\u001b[0m\u001b[1;33m\u001b[0m\u001b[0m\n\u001b[0;32m     15\u001b[0m     \u001b[0mprint\u001b[0m\u001b[1;33m(\u001b[0m\u001b[0mM\u001b[0m\u001b[1;33m)\u001b[0m\u001b[1;33m\u001b[0m\u001b[1;33m\u001b[0m\u001b[0m\n\u001b[1;32m---> 16\u001b[1;33m     \u001b[0mcX\u001b[0m \u001b[1;33m=\u001b[0m \u001b[0mint\u001b[0m\u001b[1;33m(\u001b[0m\u001b[0mM\u001b[0m\u001b[1;33m[\u001b[0m\u001b[1;34m'm10'\u001b[0m\u001b[1;33m]\u001b[0m \u001b[1;33m/\u001b[0m \u001b[0mM\u001b[0m\u001b[1;33m[\u001b[0m\u001b[1;34m'm00'\u001b[0m\u001b[1;33m]\u001b[0m\u001b[1;33m)\u001b[0m\u001b[1;33m\u001b[0m\u001b[1;33m\u001b[0m\u001b[0m\n\u001b[0m\u001b[0;32m     17\u001b[0m     \u001b[0mcY\u001b[0m \u001b[1;33m=\u001b[0m \u001b[0mint\u001b[0m\u001b[1;33m(\u001b[0m\u001b[0mM\u001b[0m\u001b[1;33m[\u001b[0m\u001b[1;34m'm01'\u001b[0m\u001b[1;33m]\u001b[0m \u001b[1;33m/\u001b[0m \u001b[0mM\u001b[0m\u001b[1;33m[\u001b[0m\u001b[1;34m'm00'\u001b[0m\u001b[1;33m]\u001b[0m\u001b[1;33m)\u001b[0m\u001b[1;33m\u001b[0m\u001b[1;33m\u001b[0m\u001b[0m\n\u001b[0;32m     18\u001b[0m \u001b[1;33m\u001b[0m\u001b[0m\n",
      "\u001b[1;31mZeroDivisionError\u001b[0m: float division by zero"
     ]
    }
   ],
   "source": [
    "# 다른 이미지로 시도해볼 것\n",
    "import cv2\n",
    "\n",
    "src = cv2.imread(\"c:/final_project_practice/positano/positano_1.png\")\n",
    "dst = src.copy()\n",
    "\n",
    "gray = cv2.cvtColor(src, cv2.COLOR_RGB2GRAY)\n",
    "ret, binary = cv2.threshold(gray, 150, 255, cv2.THRESH_BINARY_INV)\n",
    "\n",
    "contours, hierarchy = cv2.findContours(binary, cv2.RETR_CCOMP, cv2.CHAIN_APPROX_NONE)\n",
    "\n",
    "for i in contours:\n",
    "    # cv2.moments(배열, 이진화 이미지)\n",
    "    # 배열: 윤곽선 검출 함수에서 반환되는 구조 또는 이미지를 사용\n",
    "    # 이진화 이미지 매개변수에 참 값을 할당한다면 이미지의 픽셀 값이 0이 아닌 값은 모두 1의 값으로 변경해 모멘트를 계산\n",
    "    # 모멘트 함수를 통해 면적, 평균, 분산 등을 간단하게 구할 수 있음\n",
    "    # 중심점 = 무게중심\n",
    "    M = cv2.moments(i, False)\n",
    "    print(M)\n",
    "    cX = int(M['m10'] / M['m00'])\n",
    "    cY = int(M['m01'] / M['m00'])\n",
    "    \n",
    "    cv2.circle(dst, (cX,cY), 3, (255,0,0), -1)\n",
    "    cv2.drawContours(dst, [i], 0, (0,0,255), 2)\n",
    "    \n",
    "cv2.imshow('dst', dst)\n",
    "cv2.waitKey(0)\n",
    "cv2.destroyAllWindows()"
   ]
  },
  {
   "cell_type": "markdown",
   "metadata": {},
   "source": [
    "#### 모폴로지 변환: 이미지를 형태학적 관점에서 접근"
   ]
  },
  {
   "cell_type": "code",
   "execution_count": 40,
   "metadata": {},
   "outputs": [],
   "source": [
    "# 모폴로지 변환은 주로 영상 내 픽셀 값 대체에 사용 / 이를 응용해서 노이즈 제거, 요소 결합 및 분리, 강도 피크 검출 등에 이용\n",
    "# 집합의 포함 관계, 이동, 대칭, 여집합, 차집합 등의 성질 사용\n",
    "# 기본적인 모폴로지 변환으로는 팽창, 침식이 있음\n",
    "# 팽창과 침식은 이미지와 커널의 컨벌루션 연산이며, 이 두 가지 기본 연산을 기반으로 복잡하고 다양한 모폴로지 연산을 구현할 수 있음"
   ]
  },
  {
   "cell_type": "code",
   "execution_count": 41,
   "metadata": {},
   "outputs": [],
   "source": [
    "# 팽창: 커널 영역 안에 존재하는 모든 픽셀의 값을 커널 내부의 극댓값으로 대체\n",
    "# 구조 요소를 활용해 이웃한 픽셀들을 최대 픽셀값으로 대체\n",
    "# 팽창 연산을 적용하면 어두운 영역이 줄어들고 밝은 영역이 늘어남\n",
    "# 커널의 크기나 반복 횟수에 따라 밝은 영역이 늘어나 스펙클이 커지며 객체 내부의 홀이 사라짐\n",
    "# 팽창 연산은 노이즈 제거 후 줄어든 크기를 복구하고자 할 때 주로 사용"
   ]
  },
  {
   "cell_type": "code",
   "execution_count": 42,
   "metadata": {},
   "outputs": [],
   "source": [
    "# 침식: 커널 영역 안에 존재하는 모든 픽셀의 값을 커널 내부의 극솟값으로 대체\n",
    "# 구조 요소를 활용해 이웃한 픽셀을 최소 픽셀값으로 대체\n",
    "# 침식 연산을 적용하면 밝은 영역이 줄어들고 어두운 영역이 늘어남\n",
    "# 커널의 크기나 반복 횟수에 따라 어두운 영역이 늘어나 스펙클이 사라지며 객체 내부의 홀이 커짐\n",
    "# 침식 연산은 노이즈 제거에 주로 사용"
   ]
  },
  {
   "cell_type": "code",
   "execution_count": 43,
   "metadata": {},
   "outputs": [],
   "source": [
    "import numpy as np\n",
    "import cv2\n",
    "\n",
    "src = cv2.imread(\"c:/final_project_practice/positano/positano_1.png\")\n",
    "\n",
    "# cv2.getStructuringElement(커널의 형태, 커널의 크기, 중심점)로 구조 요소를 생성\n",
    "# 커널 형태: 직사각형, 십자가, 타원이 있음\n",
    "# 커널 크기: 구조 요소의 크기 / 커널의 크기가 너무 작다면 커널의 형태는 영향을 받지 않음\n",
    "# 고정점: 커널의 중심 위치 / 설정하지 않을 경우, 사용되는 함수에서 값이 결정됨 [고정점을 할당하지 않을 경우, 조금 더 유동적인 커널이 됨]\n",
    "kernel = cv2.getStructuringElement(cv2.MORPH_CROSS, (9,9))\n",
    "# cv2.dilate(원본 배열, 구조 요소, 고정점, 반복 횟수, 테두리 외삽법, 테두리 색상)로 팽창 연산을 진행\n",
    "# 고정점을 (-1,-1)로 할당할 경우, 커널의 중심부에 고정점이 위치\n",
    "dilate = cv2.dilate(src, kernel, anchor=(-1,-1), iterations=5)\n",
    "# cv2.erode(원본 배열, 구조 요소, 고정점, 반복 횟수, 테두리 외삽법, 테두리 색상)로 침식 연산을 진행\n",
    "erode = cv2.erode(src, kernel, anchor=(-1,-1), iterations=5)\n",
    "\n",
    "# np.concatenate(연결할 이미지 배열들, 축 방향)로 이미지를 연결\n",
    "# axis=0으로 사용할 경우, 세로 방향으로 연결\n",
    "# OpenCV의 함수 중, 수평 연결 함수(cv2.hconcat)와 수직 연결 함수(cv2.vconcat)로도 이미지를 연결할 수 있음\n",
    "dst = np.concatenate((src, dilate, erode), axis=1)\n",
    "\n",
    "cv2.imshow('dst', dst)\n",
    "cv2.waitKey(0)\n",
    "cv2.destroyAllWindows()"
   ]
  },
  {
   "cell_type": "markdown",
   "metadata": {},
   "source": [
    "#### 모폴로지 연산"
   ]
  },
  {
   "cell_type": "code",
   "execution_count": 44,
   "metadata": {},
   "outputs": [],
   "source": [
    "# 열림: 팽창 연산자와 침식 연산자의 조합이며, 침식 연산을 적용한 다음 팽창 연산을 적용\n",
    "# 열림 연산을 적용하면 침식 연산으로 인해 밝은 영역이 줄어들고 어두운 영역이 늘어남\n",
    "# 줄어든 영역을 다시 복구하기 위해 팽창 연산을 적용하면 반대로 어두운 영역이 줄어들고 밝은 영역이 늘어남\n",
    "# 이로 인해 스펙클이 사라지면서 발생한 객체의 크기 감소를 원래대로 복구할 수 있음"
   ]
  },
  {
   "cell_type": "code",
   "execution_count": 45,
   "metadata": {},
   "outputs": [],
   "source": [
    "# 닫힘: 팽창 연산자와 침식 연산자의 조합이며, 열림과 반대로 팽창 연산을 적용한 다음 침식 연산을 적용\n",
    "# 닫힘 연산은 팽창 연산으로 인해 어두운 영역이 줄어들고 밝은 영역이 늘어남\n",
    "# 늘어난 영역을 다시 복구하기 위해 침식 연산을 적용하면 밝은 영역이 줄어들고 어두운 영역이 늘어남\n",
    "# 이로 인해 객체 내부의 홀이 사라지면서 발생한 크기 증가를 원래대로 복구할 수 있음"
   ]
  },
  {
   "cell_type": "code",
   "execution_count": 46,
   "metadata": {},
   "outputs": [],
   "source": [
    "# 그래디언트: 팽창 연산자와 침식 연산자의 조합 / 입력 이미지에 각각 팽창 연산과 침식 연산을 적용하고 감산을 진행\n",
    "# 입력 이미지와 비교했을 때 팽창 연산은 밝은 영역이 더 크며, 반대로 침식 연산은 밝은 영역이 더 작음\n",
    "# 각각의 결과를 감산한다면 입력 이미지에 객체의 가장자리가 반환\n",
    "# 그래디언트는 밝은 영역의 가장자리를 분리하며 그레이스케일 이미지가 가장 급격하게 변하는 곳에서 가장 높은 결과를 반환"
   ]
  },
  {
   "cell_type": "code",
   "execution_count": 47,
   "metadata": {},
   "outputs": [],
   "source": [
    "# 탑햇: 입력 이미지와 열림의 조합이며, 그래디언트 연산과 비슷하게 입력 이미지에 열림 연산을 적용한 이미지를 감산\n",
    "# 열림 연산이 적용된 이미지는 스펙클이 사라지고 객체의 크기가 보존된 결과\n",
    "# 이 결과를 입력 이미지에서 감산한다면 밝은 영역이 분리되어 사라졌던 스펙클이나 작은 부분들이 표시됨\n",
    "# 입력 이미지의 객체들이 제외되고 국소적으로 밝았던 부분들이 분리됨\n",
    "# 탑햇 연산은 열림 연산에서 사라질 요소들을 표시함"
   ]
  },
  {
   "cell_type": "code",
   "execution_count": 48,
   "metadata": {},
   "outputs": [],
   "source": [
    "# 블랙햇: 입력 이미지와 닫힘의 조합이며, 탑햇 연산과 비슷하게 닫힘 연산을 적용한 이미지에 입력 이미지를 감산\n",
    "# 닫힘 연산이 적용된 이미지는 객체 내부의 홀이 사라지고 객체의 크기가 보존된 결과\n",
    "# 이 결과에 입력 이미지를 감산한다면 어두운 영역이 채워져 사라졌던 홀 등이 표시됨\n",
    "# 입력 이미지의 객체들이 제외되고 국소적으로 어두웠던 홀들이 분리됨\n",
    "# 블랙햇 연산은 닫힘 연산에서 사라질 요소들을 표시함"
   ]
  },
  {
   "cell_type": "code",
   "execution_count": 49,
   "metadata": {},
   "outputs": [],
   "source": [
    "# 히트미스 연산: 단일 채널 이미지에서 활용 / 주로 이진화 이미지에 적용\n",
    "# 히트미스 연산은 이미지의 전경이나 배경 픽셀의 특정 패턴을 찾는 데 사용하는 이진 형태학 / 구조 요소의 형태에 큰 영향을 받음\n",
    "# 히트미스 연산 커널에서, 내부 요소의 값은 0 또는 1의 값만 의미 있음 \n",
    "# [커널 내부의 0은 해당 픽셀을 고려하지 않는다는 의미 / 1은 해당 요소를 유지하겠다는 의미]\n",
    "# 이 특성 덕분에 히트미스 연산을 모서리를 검출하는 데 활용하기도 함\n",
    "# 제한 조건: 8-bit unsigned integers, 1-channel"
   ]
  },
  {
   "cell_type": "code",
   "execution_count": 50,
   "metadata": {},
   "outputs": [],
   "source": [
    "import numpy as np\n",
    "import cv2\n",
    "\n",
    "src = cv2.imread(\"c:/final_project_practice/positano/positano_1.png\")\n",
    "\n",
    "kernel = cv2.getStructuringElement(cv2.MORPH_CROSS, (9,9))\n",
    "# cv2.morphologyEx(원본 배열, 연산 방법, 구조 요소, 고정점, 반복 횟수, 테두리 외삽법, 테두리 색상)로 모폴로지 연산을 진행\n",
    "dst = cv2.morphologyEx(src, cv2.MORPH_OPEN, kernel, iterations=9)\n",
    "\n",
    "cv2.imshow('dst', dst)\n",
    "cv2.waitKey(0)\n",
    "cv2.destroyAllWindows()"
   ]
  },
  {
   "cell_type": "markdown",
   "metadata": {},
   "source": [
    "#### 직선 검출"
   ]
  },
  {
   "cell_type": "markdown",
   "metadata": {},
   "source": [
    " 표준 허프 변환 & 멀티 스케일 허프 변환"
   ]
  },
  {
   "cell_type": "code",
   "execution_count": 51,
   "metadata": {},
   "outputs": [],
   "source": [
    "import numpy as np\n",
    "import cv2\n",
    "\n",
    "src = cv2.imread(\"c:/final_project_practice/positano/positano_1.png\")\n",
    "dst = src.copy()\n",
    "gray = cv2.cvtColor(src, cv2.COLOR_BGR2GRAY)\n",
    "canny = cv2.Canny(gray, 5000, 1500, apertureSize=5, L2gradient=True)\n",
    "# cv2.HoughLines(검출 이미지, 거리, 각도, 임곗값, 거리 약수, 각도 약수, 최소 각도, 최대 각도)를 이용하여 직선 검출을 진행\n",
    "# 거리와 각도는 누산 평면에서 사용되는 해상도를 나타냄\n",
    "# 거리의 단위는 픽셀을 의미하며, 0.0~1.0의 실수 범위를 가짐\n",
    "# 각도의 단위는 라디안을 사용하며, 0~180의 범위를 가짐\n",
    "# 임곗값: 허프 변환 알고리즘이 직선을 결정하기 위해 만족해야 하는 누산 평면의 값\n",
    "# 누산 평면: 각도 x 거리의 차원을 갖는 2차원 히스토그램으로 구성\n",
    "# 거리 약수와 각도 약수는 거리와 각도에 대한 약수(divisor)를 의미\n",
    "# 거리 약수, 각도 약수 모두 0의 값을 인수로 활용할 경우 표준 허프 변환이 적용되며, 하나 이상의 값이 0이 아니라면 멀티 스케일 허프 변환이 적용\n",
    "# 최소 각도와 최대 각도는 검출할 각도의 범위를 설정\n",
    "lines = cv2.HoughLines(canny, 0.8, np.pi/180, 150, srn=100, stn=200, min_theta=0, max_theta=np.pi)\n",
    "\n",
    "# 검출을 통해 반환되는 lines 변수는 (N,1,2)차원 형태를 가짐\n",
    "# 내부 차원의 요소로는 검출된 거리(rho)와 각도(theta)가 저장되어 있음\n",
    "# 허프 변환 함수: 시작점과 도착점을 알려주는 함수가 아닌, 가장 직선일 가능성이 높은 거리와 각도를 검출\n",
    "for i in lines:\n",
    "    rho, theta = i[0][0], i[0][1]\n",
    "    a, b = np.cos(theta), np.sin(theta)\n",
    "    # 출력 이미지 위에 표현하기 위해 x0와 y0를 직선의 방정식 선분을 따라 평행이동시켜 선을 그림\n",
    "    x0, y0 = a*rho, b*rho\n",
    "    \n",
    "    scale = src.shape[0] + src.shape[1]\n",
    "    \n",
    "    # scale에 적절한 값을 지정해 이미지 밖으로 x1, y1, x2, y2를 할당\n",
    "    x1 = int(x0 + scale*-b)\n",
    "    y1 = int(y0 + scale*a)\n",
    "    x2 = int(x0 - scale*-b)\n",
    "    y2 = int(y0 - scale*a)\n",
    "    \n",
    "    # 선 그리기 함수와 원 그리기 함수를 활용해 (x1,y1) ~ (x2,y2)와 (x0,y0)의 위치를 표시\n",
    "    cv2.line(dst, (x1,y1), (x2,y2), (0,0,255), 2)\n",
    "    cv2.circle(dst, (x0,y0), 3, (255,0,0), 5, cv2.FILLED)\n",
    "    \n",
    "cv2.imshow('dst', dst)\n",
    "cv2.waitKey(0)\n",
    "cv2.destroyAllWindows()"
   ]
  },
  {
   "cell_type": "code",
   "execution_count": 52,
   "metadata": {},
   "outputs": [],
   "source": [
    "# 점진성 확률적 허프 변환: 모든 점을 대상으로 직선의 방정식을 세우는 것이 아닌, 임의의 점 일부만 누적해서 계산\n",
    "# 일부의 점만 사용하기 때문에 확률적 [정확도가 높은 이미지에 대해 검출에 드는 시간이 대폭 줄어듦]\n",
    "# 이 알고리즘은 시작점과 끝점을 반환하므로 더 간편하게 활용할 수 있음\n",
    "\n",
    "import numpy as np\n",
    "import cv2\n",
    "\n",
    "src = cv2.imread(\"c:/final_project_practice/positano/positano_1.png\")\n",
    "dst = src.copy()\n",
    "gray = cv2.cvtColor(src, cv2.COLOR_BGR2GRAY)\n",
    "canny = cv2.Canny(gray, 5000, 1500, apertureSize=5, L2gradient=True)\n",
    "# cv2.HoughLinesP(검출 이미지, 거리, 각도, 임곗값, 최소 선 길이, 최대 선 가격)를 이용하여 직선 검출을 진행\n",
    "lines = cv2.HoughLinesP(canny, 0.8, np.pi/180, 90, minLineLength=10, maxLineGap=100)\n",
    "\n",
    "# 검출을 통해 반환되는 lines 변수는 (N,1,4)차원 형태를 가짐\n",
    "# 마지막 차원에서 x1, y1, x2, y2의 순서로 시작점과 끝점을 표시\n",
    "# 별도의 계산 없이 선 그리기 함수를 활용해 (x1,y1) ~ (x2,y2)의 위치를 표시\n",
    "for i in lines:\n",
    "    cv2.line(dst, (i[0][0], i[0][1]), (i[0][2], i[0][3]), (0,0,255), 2)\n",
    "    \n",
    "cv2.imshow('dst', dst)\n",
    "cv2.waitKey(0)\n",
    "cv2.destroyAllWindows()"
   ]
  },
  {
   "cell_type": "markdown",
   "metadata": {},
   "source": [
    "#### 원 검출"
   ]
  },
  {
   "cell_type": "code",
   "execution_count": 53,
   "metadata": {},
   "outputs": [],
   "source": [
    "# 허프 원 변환 알고리즘: 3차원 누산 평면으로 검출\n",
    "# 각 차원은 원의 중심점 x, 원의 중심점 y, 원의 반경 r을 활용해 누산 평면을 구성\n",
    "# 누산 평면은 2차원 공간(x,y)에서 3차원 공간(a,b,r)으로 변환\n",
    "# 허프 원 변환의 동작 방식은 이미지에서 가장자리를 검출\n",
    "\n",
    "# 2단계 허프 변환 방법을 사용해 원을 검출\n",
    "# 1. 가장자리에 그래디언트 방법을 이용해 원의 중심점 (a,b)에 대한 2차원 히스토그램을 선정\n",
    "# 모든 점에 대해 최소 거리에서 최대 거리까지 기울기의 선분을 따라 누산 평면의 모든 점을 증가시킴\n",
    "# 중심점을 선택하기 위해 중심점 후보군에서 임곗값보다 크고 인접한 점보다 큰 점을 중심점으로 사용\n",
    "# 선정된 중심점 (a,b)와 가장자리의 좌표를 원의 방정식에 대입해 반지름 r의 1차원 히스토그램으로 판단"
   ]
  },
  {
   "cell_type": "code",
   "execution_count": 54,
   "metadata": {},
   "outputs": [],
   "source": [
    "import cv2\n",
    "\n",
    "src = cv2.imread(\"c:/final_project_practice/positano/positano_1.png\")\n",
    "dst = src.copy()\n",
    "gray = cv2.cvtColor(src, cv2.COLOR_BGR2GRAY)\n",
    "\n",
    "# cv2.HoughCircles(검출 이미지, 검출 방법, 해상도 비율, 최소 거리, 캐니 엣지 임계값, 중심 임계값, 최소 반지름, 최대 반지름)를 이용하여 원 검출을 진행\n",
    "# 검출 방법: 항상 2단계 허프 변환 방법(21HT, 그래디언트)만 사용\n",
    "# 해상도 비율: 원의 중심을 검출하는 데 사용되는 누산 평균의 해상도 \n",
    "# [인수를 1로 지정할 경우, 입력한 이미지와 동일한 해상도를 가짐 / 즉, 입력 이미지 너비와 높이가 동일한 누산 평면이 생성됨]\n",
    "# [인수를 2로 지정하면, 누산 평면의 해상도가 절반으로 줄어 입력 이미지의 크기와 반비례]\n",
    "# 최소 거리: 일차적으로 검출된 원과 원 사이의 최소 거리 [원이 여러 개 검출되는 것을 줄이는 역할]\n",
    "# 캐니 엣지 임계값: 허프 변환에서 자체적으로 캐니 엣지를 사용하게 되는데, 이때 사용되는 상위 임계값\n",
    "# [하위 임계값은 자동으로 할당되며, 상위 임계값의 절반에 해당하는 값을 사용]\n",
    "# 중심 임계값: 그래디언트 방법에 적용된 중심 히스토그램(누산 평면)에 대한 임계값 / 이 값이 낮을 경우 더 많은 원이 검출됨\n",
    "# 최소 반지름과 최대 반지름에 각각 0을 입력할 경우 반지름을 고려하지 않고 검출하며, 최대 반지름에 음수를 입력할 경우 검출된 원의 중심만 반환\n",
    "circles = cv2.HoughCircles(gray, cv2.HOUGH_GRADIENT, 1, 100, param1=250, param2=10, minRadius=80, maxRadius=120)\n",
    "\n",
    "# 검출을 통해 반환되는 circles 변수는 (1,N,3) 차원 형태를 가짐\n",
    "# 내부 차원의 요소로는 검출된 중심점 (x,y)과 반지름(r)이 저장\n",
    "for i in circles[0]:\n",
    "    cv2.circle(dst, (i[0],i[1]), i[2], (255,255,255), 5)\n",
    "    \n",
    "cv2.imshow('dst', dst)\n",
    "cv2.waitKey(0)\n",
    "cv2.destroyAllWindows()"
   ]
  }
 ],
 "metadata": {
  "kernelspec": {
   "display_name": "Python 3",
   "language": "python",
   "name": "python3"
  },
  "language_info": {
   "codemirror_mode": {
    "name": "ipython",
    "version": 3
   },
   "file_extension": ".py",
   "mimetype": "text/x-python",
   "name": "python",
   "nbconvert_exporter": "python",
   "pygments_lexer": "ipython3",
   "version": "3.6.10"
  }
 },
 "nbformat": 4,
 "nbformat_minor": 2
}
